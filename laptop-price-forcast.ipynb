{
 "cells": [
  {
   "cell_type": "markdown",
   "id": "ccd57e52",
   "metadata": {
    "papermill": {
     "duration": 0.01687,
     "end_time": "2023-06-04T07:34:40.562865",
     "exception": false,
     "start_time": "2023-06-04T07:34:40.545995",
     "status": "completed"
    },
    "tags": []
   },
   "source": [
    "# <b><div style='padding:15px;background-color:#704966;color:white;border-radius:2px;font-size:110%;text-align: center'>Laptop Price Forecast </div></b>"
   ]
  },
  {
   "cell_type": "code",
   "execution_count": 1,
   "id": "db377709",
   "metadata": {
    "_cell_guid": "b1076dfc-b9ad-4769-8c92-a6c4dae69d19",
    "_uuid": "8f2839f25d086af736a60e9eeb907d3b93b6e0e5",
    "execution": {
     "iopub.execute_input": "2023-06-04T07:34:40.597772Z",
     "iopub.status.busy": "2023-06-04T07:34:40.597070Z",
     "iopub.status.idle": "2023-06-04T07:34:42.022629Z",
     "shell.execute_reply": "2023-06-04T07:34:42.021552Z"
    },
    "papermill": {
     "duration": 1.445703,
     "end_time": "2023-06-04T07:34:42.025023",
     "exception": false,
     "start_time": "2023-06-04T07:34:40.579320",
     "status": "completed"
    },
    "tags": []
   },
   "outputs": [
    {
     "name": "stdout",
     "output_type": "stream",
     "text": [
      "/kaggle/input/laptop-price/laptop_price.csv\n"
     ]
    }
   ],
   "source": [
    "# This Python 3 environment comes with many helpful analytics libraries installed\n",
    "# It is defined by the kaggle/python Docker image: https://github.com/kaggle/docker-python\n",
    "# For example, here's several helpful packages to load\n",
    "\n",
    "import numpy as np # linear algebra\n",
    "import pandas as pd\n",
    "import matplotlib.pyplot as plt \n",
    "import seaborn as sns\n",
    "# data processing, CSV file I/O (e.g. pd.read_csv)\n",
    "\n",
    "# Input data files are available in the read-only \"../input/\" directory\n",
    "# For example, running this (by clicking run or pressing Shift+Enter) will list all files under the input directory\n",
    "\n",
    "import os\n",
    "for dirname, _, filenames in os.walk('/kaggle/input'):\n",
    "    for filename in filenames:\n",
    "        print(os.path.join(dirname, filename))\n",
    "\n",
    "# You can write up to 20GB to the current directory (/kaggle/working/) that gets preserved as output when you create a version using \"Save & Run All\" \n",
    "# You can also write temporary files to /kaggle/temp/, but they won't be saved outside of the current session"
   ]
  },
  {
   "cell_type": "code",
   "execution_count": 2,
   "id": "68c19968",
   "metadata": {
    "execution": {
     "iopub.execute_input": "2023-06-04T07:34:42.061455Z",
     "iopub.status.busy": "2023-06-04T07:34:42.061068Z",
     "iopub.status.idle": "2023-06-04T07:34:42.094293Z",
     "shell.execute_reply": "2023-06-04T07:34:42.093256Z"
    },
    "papermill": {
     "duration": 0.054724,
     "end_time": "2023-06-04T07:34:42.096913",
     "exception": false,
     "start_time": "2023-06-04T07:34:42.042189",
     "status": "completed"
    },
    "tags": []
   },
   "outputs": [],
   "source": [
    "df = pd.read_csv('/kaggle/input/laptop-price/laptop_price.csv', encoding=\"ISO-8859-1\")"
   ]
  },
  {
   "cell_type": "markdown",
   "id": "b7bb2cf1",
   "metadata": {
    "papermill": {
     "duration": 0.016713,
     "end_time": "2023-06-04T07:34:42.130882",
     "exception": false,
     "start_time": "2023-06-04T07:34:42.114169",
     "status": "completed"
    },
    "tags": []
   },
   "source": [
    "# Data Preprocessing"
   ]
  },
  {
   "cell_type": "code",
   "execution_count": 3,
   "id": "0c4d9ed9",
   "metadata": {
    "execution": {
     "iopub.execute_input": "2023-06-04T07:34:42.166457Z",
     "iopub.status.busy": "2023-06-04T07:34:42.166077Z",
     "iopub.status.idle": "2023-06-04T07:34:42.202829Z",
     "shell.execute_reply": "2023-06-04T07:34:42.201896Z"
    },
    "papermill": {
     "duration": 0.056795,
     "end_time": "2023-06-04T07:34:42.204664",
     "exception": false,
     "start_time": "2023-06-04T07:34:42.147869",
     "status": "completed"
    },
    "tags": []
   },
   "outputs": [
    {
     "data": {
      "text/html": [
       "<div>\n",
       "<style scoped>\n",
       "    .dataframe tbody tr th:only-of-type {\n",
       "        vertical-align: middle;\n",
       "    }\n",
       "\n",
       "    .dataframe tbody tr th {\n",
       "        vertical-align: top;\n",
       "    }\n",
       "\n",
       "    .dataframe thead th {\n",
       "        text-align: right;\n",
       "    }\n",
       "</style>\n",
       "<table border=\"1\" class=\"dataframe\">\n",
       "  <thead>\n",
       "    <tr style=\"text-align: right;\">\n",
       "      <th></th>\n",
       "      <th>laptop_ID</th>\n",
       "      <th>Company</th>\n",
       "      <th>Product</th>\n",
       "      <th>TypeName</th>\n",
       "      <th>Inches</th>\n",
       "      <th>ScreenResolution</th>\n",
       "      <th>Cpu</th>\n",
       "      <th>Ram</th>\n",
       "      <th>Memory</th>\n",
       "      <th>Gpu</th>\n",
       "      <th>OpSys</th>\n",
       "      <th>Weight</th>\n",
       "      <th>Price_euros</th>\n",
       "    </tr>\n",
       "  </thead>\n",
       "  <tbody>\n",
       "    <tr>\n",
       "      <th>0</th>\n",
       "      <td>1</td>\n",
       "      <td>Apple</td>\n",
       "      <td>MacBook Pro</td>\n",
       "      <td>Ultrabook</td>\n",
       "      <td>13.3</td>\n",
       "      <td>IPS Panel Retina Display 2560x1600</td>\n",
       "      <td>Intel Core i5 2.3GHz</td>\n",
       "      <td>8GB</td>\n",
       "      <td>128GB SSD</td>\n",
       "      <td>Intel Iris Plus Graphics 640</td>\n",
       "      <td>macOS</td>\n",
       "      <td>1.37kg</td>\n",
       "      <td>1339.69</td>\n",
       "    </tr>\n",
       "    <tr>\n",
       "      <th>1</th>\n",
       "      <td>2</td>\n",
       "      <td>Apple</td>\n",
       "      <td>Macbook Air</td>\n",
       "      <td>Ultrabook</td>\n",
       "      <td>13.3</td>\n",
       "      <td>1440x900</td>\n",
       "      <td>Intel Core i5 1.8GHz</td>\n",
       "      <td>8GB</td>\n",
       "      <td>128GB Flash Storage</td>\n",
       "      <td>Intel HD Graphics 6000</td>\n",
       "      <td>macOS</td>\n",
       "      <td>1.34kg</td>\n",
       "      <td>898.94</td>\n",
       "    </tr>\n",
       "    <tr>\n",
       "      <th>2</th>\n",
       "      <td>3</td>\n",
       "      <td>HP</td>\n",
       "      <td>250 G6</td>\n",
       "      <td>Notebook</td>\n",
       "      <td>15.6</td>\n",
       "      <td>Full HD 1920x1080</td>\n",
       "      <td>Intel Core i5 7200U 2.5GHz</td>\n",
       "      <td>8GB</td>\n",
       "      <td>256GB SSD</td>\n",
       "      <td>Intel HD Graphics 620</td>\n",
       "      <td>No OS</td>\n",
       "      <td>1.86kg</td>\n",
       "      <td>575.00</td>\n",
       "    </tr>\n",
       "    <tr>\n",
       "      <th>3</th>\n",
       "      <td>4</td>\n",
       "      <td>Apple</td>\n",
       "      <td>MacBook Pro</td>\n",
       "      <td>Ultrabook</td>\n",
       "      <td>15.4</td>\n",
       "      <td>IPS Panel Retina Display 2880x1800</td>\n",
       "      <td>Intel Core i7 2.7GHz</td>\n",
       "      <td>16GB</td>\n",
       "      <td>512GB SSD</td>\n",
       "      <td>AMD Radeon Pro 455</td>\n",
       "      <td>macOS</td>\n",
       "      <td>1.83kg</td>\n",
       "      <td>2537.45</td>\n",
       "    </tr>\n",
       "    <tr>\n",
       "      <th>4</th>\n",
       "      <td>5</td>\n",
       "      <td>Apple</td>\n",
       "      <td>MacBook Pro</td>\n",
       "      <td>Ultrabook</td>\n",
       "      <td>13.3</td>\n",
       "      <td>IPS Panel Retina Display 2560x1600</td>\n",
       "      <td>Intel Core i5 3.1GHz</td>\n",
       "      <td>8GB</td>\n",
       "      <td>256GB SSD</td>\n",
       "      <td>Intel Iris Plus Graphics 650</td>\n",
       "      <td>macOS</td>\n",
       "      <td>1.37kg</td>\n",
       "      <td>1803.60</td>\n",
       "    </tr>\n",
       "  </tbody>\n",
       "</table>\n",
       "</div>"
      ],
      "text/plain": [
       "   laptop_ID Company      Product   TypeName  Inches  \\\n",
       "0          1   Apple  MacBook Pro  Ultrabook    13.3   \n",
       "1          2   Apple  Macbook Air  Ultrabook    13.3   \n",
       "2          3      HP       250 G6   Notebook    15.6   \n",
       "3          4   Apple  MacBook Pro  Ultrabook    15.4   \n",
       "4          5   Apple  MacBook Pro  Ultrabook    13.3   \n",
       "\n",
       "                     ScreenResolution                         Cpu   Ram  \\\n",
       "0  IPS Panel Retina Display 2560x1600        Intel Core i5 2.3GHz   8GB   \n",
       "1                            1440x900        Intel Core i5 1.8GHz   8GB   \n",
       "2                   Full HD 1920x1080  Intel Core i5 7200U 2.5GHz   8GB   \n",
       "3  IPS Panel Retina Display 2880x1800        Intel Core i7 2.7GHz  16GB   \n",
       "4  IPS Panel Retina Display 2560x1600        Intel Core i5 3.1GHz   8GB   \n",
       "\n",
       "                Memory                           Gpu  OpSys  Weight  \\\n",
       "0            128GB SSD  Intel Iris Plus Graphics 640  macOS  1.37kg   \n",
       "1  128GB Flash Storage        Intel HD Graphics 6000  macOS  1.34kg   \n",
       "2            256GB SSD         Intel HD Graphics 620  No OS  1.86kg   \n",
       "3            512GB SSD            AMD Radeon Pro 455  macOS  1.83kg   \n",
       "4            256GB SSD  Intel Iris Plus Graphics 650  macOS  1.37kg   \n",
       "\n",
       "   Price_euros  \n",
       "0      1339.69  \n",
       "1       898.94  \n",
       "2       575.00  \n",
       "3      2537.45  \n",
       "4      1803.60  "
      ]
     },
     "execution_count": 3,
     "metadata": {},
     "output_type": "execute_result"
    }
   ],
   "source": [
    "df.head()"
   ]
  },
  {
   "cell_type": "code",
   "execution_count": 4,
   "id": "ef556feb",
   "metadata": {
    "execution": {
     "iopub.execute_input": "2023-06-04T07:34:42.242433Z",
     "iopub.status.busy": "2023-06-04T07:34:42.241742Z",
     "iopub.status.idle": "2023-06-04T07:34:42.247210Z",
     "shell.execute_reply": "2023-06-04T07:34:42.246535Z"
    },
    "papermill": {
     "duration": 0.026311,
     "end_time": "2023-06-04T07:34:42.248802",
     "exception": false,
     "start_time": "2023-06-04T07:34:42.222491",
     "status": "completed"
    },
    "tags": []
   },
   "outputs": [
    {
     "data": {
      "text/plain": [
       "(1303, 13)"
      ]
     },
     "execution_count": 4,
     "metadata": {},
     "output_type": "execute_result"
    }
   ],
   "source": [
    "df.shape"
   ]
  },
  {
   "cell_type": "code",
   "execution_count": 5,
   "id": "09b64b70",
   "metadata": {
    "execution": {
     "iopub.execute_input": "2023-06-04T07:34:42.284678Z",
     "iopub.status.busy": "2023-06-04T07:34:42.284095Z",
     "iopub.status.idle": "2023-06-04T07:34:42.312047Z",
     "shell.execute_reply": "2023-06-04T07:34:42.310656Z"
    },
    "papermill": {
     "duration": 0.048394,
     "end_time": "2023-06-04T07:34:42.314248",
     "exception": false,
     "start_time": "2023-06-04T07:34:42.265854",
     "status": "completed"
    },
    "tags": []
   },
   "outputs": [
    {
     "name": "stdout",
     "output_type": "stream",
     "text": [
      "<class 'pandas.core.frame.DataFrame'>\n",
      "RangeIndex: 1303 entries, 0 to 1302\n",
      "Data columns (total 13 columns):\n",
      " #   Column            Non-Null Count  Dtype  \n",
      "---  ------            --------------  -----  \n",
      " 0   laptop_ID         1303 non-null   int64  \n",
      " 1   Company           1303 non-null   object \n",
      " 2   Product           1303 non-null   object \n",
      " 3   TypeName          1303 non-null   object \n",
      " 4   Inches            1303 non-null   float64\n",
      " 5   ScreenResolution  1303 non-null   object \n",
      " 6   Cpu               1303 non-null   object \n",
      " 7   Ram               1303 non-null   object \n",
      " 8   Memory            1303 non-null   object \n",
      " 9   Gpu               1303 non-null   object \n",
      " 10  OpSys             1303 non-null   object \n",
      " 11  Weight            1303 non-null   object \n",
      " 12  Price_euros       1303 non-null   float64\n",
      "dtypes: float64(2), int64(1), object(10)\n",
      "memory usage: 132.5+ KB\n"
     ]
    }
   ],
   "source": [
    "df.info()"
   ]
  },
  {
   "cell_type": "code",
   "execution_count": 6,
   "id": "cbf70476",
   "metadata": {
    "execution": {
     "iopub.execute_input": "2023-06-04T07:34:42.351282Z",
     "iopub.status.busy": "2023-06-04T07:34:42.350898Z",
     "iopub.status.idle": "2023-06-04T07:34:42.374459Z",
     "shell.execute_reply": "2023-06-04T07:34:42.373426Z"
    },
    "papermill": {
     "duration": 0.044399,
     "end_time": "2023-06-04T07:34:42.376357",
     "exception": false,
     "start_time": "2023-06-04T07:34:42.331958",
     "status": "completed"
    },
    "tags": []
   },
   "outputs": [
    {
     "data": {
      "text/html": [
       "<div>\n",
       "<style scoped>\n",
       "    .dataframe tbody tr th:only-of-type {\n",
       "        vertical-align: middle;\n",
       "    }\n",
       "\n",
       "    .dataframe tbody tr th {\n",
       "        vertical-align: top;\n",
       "    }\n",
       "\n",
       "    .dataframe thead th {\n",
       "        text-align: right;\n",
       "    }\n",
       "</style>\n",
       "<table border=\"1\" class=\"dataframe\">\n",
       "  <thead>\n",
       "    <tr style=\"text-align: right;\">\n",
       "      <th></th>\n",
       "      <th>count</th>\n",
       "      <th>mean</th>\n",
       "      <th>std</th>\n",
       "      <th>min</th>\n",
       "      <th>25%</th>\n",
       "      <th>50%</th>\n",
       "      <th>75%</th>\n",
       "      <th>max</th>\n",
       "    </tr>\n",
       "  </thead>\n",
       "  <tbody>\n",
       "    <tr>\n",
       "      <th>laptop_ID</th>\n",
       "      <td>1303.0</td>\n",
       "      <td>660.155794</td>\n",
       "      <td>381.172104</td>\n",
       "      <td>1.0</td>\n",
       "      <td>331.5</td>\n",
       "      <td>659.0</td>\n",
       "      <td>990.50</td>\n",
       "      <td>1320.0</td>\n",
       "    </tr>\n",
       "    <tr>\n",
       "      <th>Inches</th>\n",
       "      <td>1303.0</td>\n",
       "      <td>15.017191</td>\n",
       "      <td>1.426304</td>\n",
       "      <td>10.1</td>\n",
       "      <td>14.0</td>\n",
       "      <td>15.6</td>\n",
       "      <td>15.60</td>\n",
       "      <td>18.4</td>\n",
       "    </tr>\n",
       "    <tr>\n",
       "      <th>Price_euros</th>\n",
       "      <td>1303.0</td>\n",
       "      <td>1123.686992</td>\n",
       "      <td>699.009043</td>\n",
       "      <td>174.0</td>\n",
       "      <td>599.0</td>\n",
       "      <td>977.0</td>\n",
       "      <td>1487.88</td>\n",
       "      <td>6099.0</td>\n",
       "    </tr>\n",
       "  </tbody>\n",
       "</table>\n",
       "</div>"
      ],
      "text/plain": [
       "              count         mean         std    min    25%    50%      75%  \\\n",
       "laptop_ID    1303.0   660.155794  381.172104    1.0  331.5  659.0   990.50   \n",
       "Inches       1303.0    15.017191    1.426304   10.1   14.0   15.6    15.60   \n",
       "Price_euros  1303.0  1123.686992  699.009043  174.0  599.0  977.0  1487.88   \n",
       "\n",
       "                max  \n",
       "laptop_ID    1320.0  \n",
       "Inches         18.4  \n",
       "Price_euros  6099.0  "
      ]
     },
     "execution_count": 6,
     "metadata": {},
     "output_type": "execute_result"
    }
   ],
   "source": [
    "df.describe().T"
   ]
  },
  {
   "cell_type": "code",
   "execution_count": 7,
   "id": "c20ebfcb",
   "metadata": {
    "execution": {
     "iopub.execute_input": "2023-06-04T07:34:42.412892Z",
     "iopub.status.busy": "2023-06-04T07:34:42.411967Z",
     "iopub.status.idle": "2023-06-04T07:34:42.423585Z",
     "shell.execute_reply": "2023-06-04T07:34:42.422695Z"
    },
    "papermill": {
     "duration": 0.03186,
     "end_time": "2023-06-04T07:34:42.425428",
     "exception": false,
     "start_time": "2023-06-04T07:34:42.393568",
     "status": "completed"
    },
    "tags": []
   },
   "outputs": [
    {
     "data": {
      "text/plain": [
       "0"
      ]
     },
     "execution_count": 7,
     "metadata": {},
     "output_type": "execute_result"
    }
   ],
   "source": [
    "df.duplicated().sum()"
   ]
  },
  {
   "cell_type": "code",
   "execution_count": 8,
   "id": "89101fed",
   "metadata": {
    "execution": {
     "iopub.execute_input": "2023-06-04T07:34:42.461352Z",
     "iopub.status.busy": "2023-06-04T07:34:42.461004Z",
     "iopub.status.idle": "2023-06-04T07:34:42.471036Z",
     "shell.execute_reply": "2023-06-04T07:34:42.469898Z"
    },
    "papermill": {
     "duration": 0.030292,
     "end_time": "2023-06-04T07:34:42.472933",
     "exception": false,
     "start_time": "2023-06-04T07:34:42.442641",
     "status": "completed"
    },
    "tags": []
   },
   "outputs": [
    {
     "data": {
      "text/plain": [
       "laptop_ID           0\n",
       "Company             0\n",
       "Product             0\n",
       "TypeName            0\n",
       "Inches              0\n",
       "ScreenResolution    0\n",
       "Cpu                 0\n",
       "Ram                 0\n",
       "Memory              0\n",
       "Gpu                 0\n",
       "OpSys               0\n",
       "Weight              0\n",
       "Price_euros         0\n",
       "dtype: int64"
      ]
     },
     "execution_count": 8,
     "metadata": {},
     "output_type": "execute_result"
    }
   ],
   "source": [
    "df.isnull().sum()"
   ]
  },
  {
   "cell_type": "markdown",
   "id": "782f9e4d",
   "metadata": {
    "papermill": {
     "duration": 0.01723,
     "end_time": "2023-06-04T07:34:42.508213",
     "exception": false,
     "start_time": "2023-06-04T07:34:42.490983",
     "status": "completed"
    },
    "tags": []
   },
   "source": [
    "### Moving forward,we will proceed to analyze each column related to the price individually, implementing various feature engineering techniques along the way"
   ]
  },
  {
   "cell_type": "code",
   "execution_count": 9,
   "id": "fbed3f62",
   "metadata": {
    "execution": {
     "iopub.execute_input": "2023-06-04T07:34:42.545021Z",
     "iopub.status.busy": "2023-06-04T07:34:42.544701Z",
     "iopub.status.idle": "2023-06-04T07:34:42.553924Z",
     "shell.execute_reply": "2023-06-04T07:34:42.552724Z"
    },
    "papermill": {
     "duration": 0.030661,
     "end_time": "2023-06-04T07:34:42.556445",
     "exception": false,
     "start_time": "2023-06-04T07:34:42.525784",
     "status": "completed"
    },
    "tags": []
   },
   "outputs": [],
   "source": [
    "df['Ram']= df['Ram'].str.replace('GB','').astype(int)\n",
    "df['Weight']= df['Weight'].str.replace('kg','').astype(float)"
   ]
  },
  {
   "cell_type": "code",
   "execution_count": 10,
   "id": "33d5c1da",
   "metadata": {
    "execution": {
     "iopub.execute_input": "2023-06-04T07:34:42.593501Z",
     "iopub.status.busy": "2023-06-04T07:34:42.593160Z",
     "iopub.status.idle": "2023-06-04T07:34:42.608596Z",
     "shell.execute_reply": "2023-06-04T07:34:42.607449Z"
    },
    "papermill": {
     "duration": 0.036897,
     "end_time": "2023-06-04T07:34:42.611302",
     "exception": false,
     "start_time": "2023-06-04T07:34:42.574405",
     "status": "completed"
    },
    "tags": []
   },
   "outputs": [
    {
     "data": {
      "text/html": [
       "<div>\n",
       "<style scoped>\n",
       "    .dataframe tbody tr th:only-of-type {\n",
       "        vertical-align: middle;\n",
       "    }\n",
       "\n",
       "    .dataframe tbody tr th {\n",
       "        vertical-align: top;\n",
       "    }\n",
       "\n",
       "    .dataframe thead th {\n",
       "        text-align: right;\n",
       "    }\n",
       "</style>\n",
       "<table border=\"1\" class=\"dataframe\">\n",
       "  <thead>\n",
       "    <tr style=\"text-align: right;\">\n",
       "      <th></th>\n",
       "      <th>laptop_ID</th>\n",
       "      <th>Company</th>\n",
       "      <th>Product</th>\n",
       "      <th>TypeName</th>\n",
       "      <th>Inches</th>\n",
       "      <th>ScreenResolution</th>\n",
       "      <th>Cpu</th>\n",
       "      <th>Ram</th>\n",
       "      <th>Memory</th>\n",
       "      <th>Gpu</th>\n",
       "      <th>OpSys</th>\n",
       "      <th>Weight</th>\n",
       "      <th>Price_euros</th>\n",
       "    </tr>\n",
       "  </thead>\n",
       "  <tbody>\n",
       "    <tr>\n",
       "      <th>0</th>\n",
       "      <td>1</td>\n",
       "      <td>Apple</td>\n",
       "      <td>MacBook Pro</td>\n",
       "      <td>Ultrabook</td>\n",
       "      <td>13.3</td>\n",
       "      <td>IPS Panel Retina Display 2560x1600</td>\n",
       "      <td>Intel Core i5 2.3GHz</td>\n",
       "      <td>8</td>\n",
       "      <td>128GB SSD</td>\n",
       "      <td>Intel Iris Plus Graphics 640</td>\n",
       "      <td>macOS</td>\n",
       "      <td>1.37</td>\n",
       "      <td>1339.69</td>\n",
       "    </tr>\n",
       "    <tr>\n",
       "      <th>1</th>\n",
       "      <td>2</td>\n",
       "      <td>Apple</td>\n",
       "      <td>Macbook Air</td>\n",
       "      <td>Ultrabook</td>\n",
       "      <td>13.3</td>\n",
       "      <td>1440x900</td>\n",
       "      <td>Intel Core i5 1.8GHz</td>\n",
       "      <td>8</td>\n",
       "      <td>128GB Flash Storage</td>\n",
       "      <td>Intel HD Graphics 6000</td>\n",
       "      <td>macOS</td>\n",
       "      <td>1.34</td>\n",
       "      <td>898.94</td>\n",
       "    </tr>\n",
       "    <tr>\n",
       "      <th>2</th>\n",
       "      <td>3</td>\n",
       "      <td>HP</td>\n",
       "      <td>250 G6</td>\n",
       "      <td>Notebook</td>\n",
       "      <td>15.6</td>\n",
       "      <td>Full HD 1920x1080</td>\n",
       "      <td>Intel Core i5 7200U 2.5GHz</td>\n",
       "      <td>8</td>\n",
       "      <td>256GB SSD</td>\n",
       "      <td>Intel HD Graphics 620</td>\n",
       "      <td>No OS</td>\n",
       "      <td>1.86</td>\n",
       "      <td>575.00</td>\n",
       "    </tr>\n",
       "    <tr>\n",
       "      <th>3</th>\n",
       "      <td>4</td>\n",
       "      <td>Apple</td>\n",
       "      <td>MacBook Pro</td>\n",
       "      <td>Ultrabook</td>\n",
       "      <td>15.4</td>\n",
       "      <td>IPS Panel Retina Display 2880x1800</td>\n",
       "      <td>Intel Core i7 2.7GHz</td>\n",
       "      <td>16</td>\n",
       "      <td>512GB SSD</td>\n",
       "      <td>AMD Radeon Pro 455</td>\n",
       "      <td>macOS</td>\n",
       "      <td>1.83</td>\n",
       "      <td>2537.45</td>\n",
       "    </tr>\n",
       "    <tr>\n",
       "      <th>4</th>\n",
       "      <td>5</td>\n",
       "      <td>Apple</td>\n",
       "      <td>MacBook Pro</td>\n",
       "      <td>Ultrabook</td>\n",
       "      <td>13.3</td>\n",
       "      <td>IPS Panel Retina Display 2560x1600</td>\n",
       "      <td>Intel Core i5 3.1GHz</td>\n",
       "      <td>8</td>\n",
       "      <td>256GB SSD</td>\n",
       "      <td>Intel Iris Plus Graphics 650</td>\n",
       "      <td>macOS</td>\n",
       "      <td>1.37</td>\n",
       "      <td>1803.60</td>\n",
       "    </tr>\n",
       "  </tbody>\n",
       "</table>\n",
       "</div>"
      ],
      "text/plain": [
       "   laptop_ID Company      Product   TypeName  Inches  \\\n",
       "0          1   Apple  MacBook Pro  Ultrabook    13.3   \n",
       "1          2   Apple  Macbook Air  Ultrabook    13.3   \n",
       "2          3      HP       250 G6   Notebook    15.6   \n",
       "3          4   Apple  MacBook Pro  Ultrabook    15.4   \n",
       "4          5   Apple  MacBook Pro  Ultrabook    13.3   \n",
       "\n",
       "                     ScreenResolution                         Cpu  Ram  \\\n",
       "0  IPS Panel Retina Display 2560x1600        Intel Core i5 2.3GHz    8   \n",
       "1                            1440x900        Intel Core i5 1.8GHz    8   \n",
       "2                   Full HD 1920x1080  Intel Core i5 7200U 2.5GHz    8   \n",
       "3  IPS Panel Retina Display 2880x1800        Intel Core i7 2.7GHz   16   \n",
       "4  IPS Panel Retina Display 2560x1600        Intel Core i5 3.1GHz    8   \n",
       "\n",
       "                Memory                           Gpu  OpSys  Weight  \\\n",
       "0            128GB SSD  Intel Iris Plus Graphics 640  macOS    1.37   \n",
       "1  128GB Flash Storage        Intel HD Graphics 6000  macOS    1.34   \n",
       "2            256GB SSD         Intel HD Graphics 620  No OS    1.86   \n",
       "3            512GB SSD            AMD Radeon Pro 455  macOS    1.83   \n",
       "4            256GB SSD  Intel Iris Plus Graphics 650  macOS    1.37   \n",
       "\n",
       "   Price_euros  \n",
       "0      1339.69  \n",
       "1       898.94  \n",
       "2       575.00  \n",
       "3      2537.45  \n",
       "4      1803.60  "
      ]
     },
     "execution_count": 10,
     "metadata": {},
     "output_type": "execute_result"
    }
   ],
   "source": [
    "df.head()"
   ]
  },
  {
   "cell_type": "code",
   "execution_count": 11,
   "id": "9abdae92",
   "metadata": {
    "execution": {
     "iopub.execute_input": "2023-06-04T07:34:42.649673Z",
     "iopub.status.busy": "2023-06-04T07:34:42.649151Z",
     "iopub.status.idle": "2023-06-04T07:34:42.661160Z",
     "shell.execute_reply": "2023-06-04T07:34:42.660292Z"
    },
    "papermill": {
     "duration": 0.033812,
     "end_time": "2023-06-04T07:34:42.663315",
     "exception": false,
     "start_time": "2023-06-04T07:34:42.629503",
     "status": "completed"
    },
    "tags": []
   },
   "outputs": [
    {
     "name": "stdout",
     "output_type": "stream",
     "text": [
      "<class 'pandas.core.frame.DataFrame'>\n",
      "RangeIndex: 1303 entries, 0 to 1302\n",
      "Data columns (total 13 columns):\n",
      " #   Column            Non-Null Count  Dtype  \n",
      "---  ------            --------------  -----  \n",
      " 0   laptop_ID         1303 non-null   int64  \n",
      " 1   Company           1303 non-null   object \n",
      " 2   Product           1303 non-null   object \n",
      " 3   TypeName          1303 non-null   object \n",
      " 4   Inches            1303 non-null   float64\n",
      " 5   ScreenResolution  1303 non-null   object \n",
      " 6   Cpu               1303 non-null   object \n",
      " 7   Ram               1303 non-null   int64  \n",
      " 8   Memory            1303 non-null   object \n",
      " 9   Gpu               1303 non-null   object \n",
      " 10  OpSys             1303 non-null   object \n",
      " 11  Weight            1303 non-null   float64\n",
      " 12  Price_euros       1303 non-null   float64\n",
      "dtypes: float64(3), int64(2), object(8)\n",
      "memory usage: 132.5+ KB\n"
     ]
    }
   ],
   "source": [
    "df.info()"
   ]
  },
  {
   "cell_type": "code",
   "execution_count": 12,
   "id": "dfdbd83d",
   "metadata": {
    "execution": {
     "iopub.execute_input": "2023-06-04T07:34:42.701958Z",
     "iopub.status.busy": "2023-06-04T07:34:42.701068Z",
     "iopub.status.idle": "2023-06-04T07:34:43.010521Z",
     "shell.execute_reply": "2023-06-04T07:34:43.009168Z"
    },
    "papermill": {
     "duration": 0.330919,
     "end_time": "2023-06-04T07:34:43.012487",
     "exception": false,
     "start_time": "2023-06-04T07:34:42.681568",
     "status": "completed"
    },
    "tags": []
   },
   "outputs": [
    {
     "name": "stderr",
     "output_type": "stream",
     "text": [
      "/tmp/ipykernel_20/2073861339.py:1: UserWarning: \n",
      "\n",
      "`distplot` is a deprecated function and will be removed in seaborn v0.14.0.\n",
      "\n",
      "Please adapt your code to use either `displot` (a figure-level function with\n",
      "similar flexibility) or `histplot` (an axes-level function for histograms).\n",
      "\n",
      "For a guide to updating your code to use the new functions, please see\n",
      "https://gist.github.com/mwaskom/de44147ed2974457ad6372750bbe5751\n",
      "\n",
      "  sns.distplot(df['Price_euros'])\n"
     ]
    },
    {
     "data": {
      "text/plain": [
       "<Axes: xlabel='Price_euros', ylabel='Density'>"
      ]
     },
     "execution_count": 12,
     "metadata": {},
     "output_type": "execute_result"
    },
    {
     "data": {
      "image/png": "[encoded data removed]",
      "text/plain": [
       "<Figure size 640x480 with 1 Axes>"
      ]
     },
     "metadata": {},
     "output_type": "display_data"
    }
   ],
   "source": [
    "sns.distplot(df['Price_euros'])"
   ]
  },
  {
   "cell_type": "code",
   "execution_count": 13,
   "id": "7912bd8a",
   "metadata": {
    "execution": {
     "iopub.execute_input": "2023-06-04T07:34:43.052158Z",
     "iopub.status.busy": "2023-06-04T07:34:43.051268Z",
     "iopub.status.idle": "2023-06-04T07:34:43.372992Z",
     "shell.execute_reply": "2023-06-04T07:34:43.371824Z"
    },
    "papermill": {
     "duration": 0.344151,
     "end_time": "2023-06-04T07:34:43.375497",
     "exception": false,
     "start_time": "2023-06-04T07:34:43.031346",
     "status": "completed"
    },
    "tags": []
   },
   "outputs": [
    {
     "data": {
      "text/plain": [
       "<Axes: >"
      ]
     },
     "execution_count": 13,
     "metadata": {},
     "output_type": "execute_result"
    },
    {
     "data": {
      "image/png": "[encoded data removed]",
      "text/plain": [
       "<Figure size 640x480 with 1 Axes>"
      ]
     },
     "metadata": {},
     "output_type": "display_data"
    }
   ],
   "source": [
    "df['Company'].value_counts().plot(kind='bar')"
   ]
  },
  {
   "cell_type": "code",
   "execution_count": 14,
   "id": "0de969ad",
   "metadata": {
    "execution": {
     "iopub.execute_input": "2023-06-04T07:34:43.414819Z",
     "iopub.status.busy": "2023-06-04T07:34:43.414509Z",
     "iopub.status.idle": "2023-06-04T07:34:44.058530Z",
     "shell.execute_reply": "2023-06-04T07:34:44.057555Z"
    },
    "papermill": {
     "duration": 0.666322,
     "end_time": "2023-06-04T07:34:44.060887",
     "exception": false,
     "start_time": "2023-06-04T07:34:43.394565",
     "status": "completed"
    },
    "tags": []
   },
   "outputs": [
    {
     "data": {
      "image/png": "[encoded data removed]",
      "text/plain": [
       "<Figure size 640x480 with 1 Axes>"
      ]
     },
     "metadata": {},
     "output_type": "display_data"
    }
   ],
   "source": [
    "sns.barplot(x=df['Company'], y=df['Price_euros'])\n",
    "plt.xticks(rotation='vertical');"
   ]
  },
  {
   "cell_type": "code",
   "execution_count": 15,
   "id": "2f09300c",
   "metadata": {
    "execution": {
     "iopub.execute_input": "2023-06-04T07:34:44.101376Z",
     "iopub.status.busy": "2023-06-04T07:34:44.100888Z",
     "iopub.status.idle": "2023-06-04T07:34:44.288170Z",
     "shell.execute_reply": "2023-06-04T07:34:44.287502Z"
    },
    "papermill": {
     "duration": 0.209672,
     "end_time": "2023-06-04T07:34:44.289923",
     "exception": false,
     "start_time": "2023-06-04T07:34:44.080251",
     "status": "completed"
    },
    "tags": []
   },
   "outputs": [
    {
     "data": {
      "text/plain": [
       "<Axes: >"
      ]
     },
     "execution_count": 15,
     "metadata": {},
     "output_type": "execute_result"
    },
    {
     "data": {
      "image/png": "[encoded data removed]",
      "text/plain": [
       "<Figure size 640x480 with 1 Axes>"
      ]
     },
     "metadata": {},
     "output_type": "display_data"
    }
   ],
   "source": [
    "df['TypeName'].value_counts().plot(kind='bar')"
   ]
  },
  {
   "cell_type": "code",
   "execution_count": 16,
   "id": "3904ae64",
   "metadata": {
    "execution": {
     "iopub.execute_input": "2023-06-04T07:34:44.332080Z",
     "iopub.status.busy": "2023-06-04T07:34:44.331422Z",
     "iopub.status.idle": "2023-06-04T07:34:44.647421Z",
     "shell.execute_reply": "2023-06-04T07:34:44.645878Z"
    },
    "papermill": {
     "duration": 0.33993,
     "end_time": "2023-06-04T07:34:44.650250",
     "exception": false,
     "start_time": "2023-06-04T07:34:44.310320",
     "status": "completed"
    },
    "tags": []
   },
   "outputs": [
    {
     "data": {
      "image/png": "[encoded data removed]",
      "text/plain": [
       "<Figure size 640x480 with 1 Axes>"
      ]
     },
     "metadata": {},
     "output_type": "display_data"
    }
   ],
   "source": [
    "sns.barplot(x=df['TypeName'], y=df['Price_euros'])\n",
    "plt.xticks(rotation='vertical');"
   ]
  },
  {
   "cell_type": "code",
   "execution_count": 17,
   "id": "1a6f5321",
   "metadata": {
    "execution": {
     "iopub.execute_input": "2023-06-04T07:34:44.692974Z",
     "iopub.status.busy": "2023-06-04T07:34:44.691771Z",
     "iopub.status.idle": "2023-06-04T07:34:45.011887Z",
     "shell.execute_reply": "2023-06-04T07:34:45.010800Z"
    },
    "papermill": {
     "duration": 0.343389,
     "end_time": "2023-06-04T07:34:45.013769",
     "exception": false,
     "start_time": "2023-06-04T07:34:44.670380",
     "status": "completed"
    },
    "tags": []
   },
   "outputs": [
    {
     "data": {
      "text/plain": [
       "<seaborn.axisgrid.FacetGrid at 0x7cc94ca6ed70>"
      ]
     },
     "execution_count": 17,
     "metadata": {},
     "output_type": "execute_result"
    },
    {
     "data": {
      "image/png": "[encoded data removed]",
      "text/plain": [
       "<Figure size 500x500 with 1 Axes>"
      ]
     },
     "metadata": {},
     "output_type": "display_data"
    }
   ],
   "source": [
    "sns.displot(df['Inches'],kde=True)"
   ]
  },
  {
   "cell_type": "code",
   "execution_count": 18,
   "id": "fd7f6985",
   "metadata": {
    "execution": {
     "iopub.execute_input": "2023-06-04T07:34:45.057353Z",
     "iopub.status.busy": "2023-06-04T07:34:45.056962Z",
     "iopub.status.idle": "2023-06-04T07:34:45.275491Z",
     "shell.execute_reply": "2023-06-04T07:34:45.273638Z"
    },
    "papermill": {
     "duration": 0.242442,
     "end_time": "2023-06-04T07:34:45.277669",
     "exception": false,
     "start_time": "2023-06-04T07:34:45.035227",
     "status": "completed"
    },
    "tags": []
   },
   "outputs": [
    {
     "data": {
      "text/plain": [
       "<Axes: xlabel='Inches', ylabel='Price_euros'>"
      ]
     },
     "execution_count": 18,
     "metadata": {},
     "output_type": "execute_result"
    },
    {
     "data": {
      "image/png": "[encoded data removed]",
      "text/plain": [
       "<Figure size 640x480 with 1 Axes>"
      ]
     },
     "metadata": {},
     "output_type": "display_data"
    }
   ],
   "source": [
    "sns.scatterplot(x=df['Inches'], y=df['Price_euros'])"
   ]
  },
  {
   "cell_type": "code",
   "execution_count": 19,
   "id": "35b11893",
   "metadata": {
    "execution": {
     "iopub.execute_input": "2023-06-04T07:34:45.321152Z",
     "iopub.status.busy": "2023-06-04T07:34:45.320470Z",
     "iopub.status.idle": "2023-06-04T07:34:45.678409Z",
     "shell.execute_reply": "2023-06-04T07:34:45.677215Z"
    },
    "papermill": {
     "duration": 0.382291,
     "end_time": "2023-06-04T07:34:45.680560",
     "exception": false,
     "start_time": "2023-06-04T07:34:45.298269",
     "status": "completed"
    },
    "tags": []
   },
   "outputs": [
    {
     "data": {
      "text/plain": [
       "<seaborn.axisgrid.FacetGrid at 0x7cc94c717730>"
      ]
     },
     "execution_count": 19,
     "metadata": {},
     "output_type": "execute_result"
    },
    {
     "data": {
      "image/png": "[encoded data removed]",
      "text/plain": [
       "<Figure size 500x500 with 1 Axes>"
      ]
     },
     "metadata": {},
     "output_type": "display_data"
    }
   ],
   "source": [
    "sns.displot(df['Weight'],kde=True)"
   ]
  },
  {
   "cell_type": "code",
   "execution_count": 20,
   "id": "d32ce51e",
   "metadata": {
    "execution": {
     "iopub.execute_input": "2023-06-04T07:34:45.725777Z",
     "iopub.status.busy": "2023-06-04T07:34:45.724922Z",
     "iopub.status.idle": "2023-06-04T07:34:45.956921Z",
     "shell.execute_reply": "2023-06-04T07:34:45.956088Z"
    },
    "papermill": {
     "duration": 0.257288,
     "end_time": "2023-06-04T07:34:45.958935",
     "exception": false,
     "start_time": "2023-06-04T07:34:45.701647",
     "status": "completed"
    },
    "tags": []
   },
   "outputs": [
    {
     "data": {
      "text/plain": [
       "<Axes: xlabel='Weight', ylabel='Price_euros'>"
      ]
     },
     "execution_count": 20,
     "metadata": {},
     "output_type": "execute_result"
    },
    {
     "data": {
      "image/png": "[encoded data removed]",
      "text/plain": [
       "<Figure size 640x480 with 1 Axes>"
      ]
     },
     "metadata": {},
     "output_type": "display_data"
    }
   ],
   "source": [
    "sns.scatterplot(x=df['Weight'], y=df['Price_euros'])"
   ]
  },
  {
   "cell_type": "markdown",
   "id": "9b38dcc8",
   "metadata": {
    "papermill": {
     "duration": 0.022005,
     "end_time": "2023-06-04T07:34:46.002895",
     "exception": false,
     "start_time": "2023-06-04T07:34:45.980890",
     "status": "completed"
    },
    "tags": []
   },
   "source": [
    "**In `ScreenResolution`, it provides 3 different information. Now we're going to extract these 3 information**"
   ]
  },
  {
   "cell_type": "code",
   "execution_count": 21,
   "id": "3bbcd072",
   "metadata": {
    "execution": {
     "iopub.execute_input": "2023-06-04T07:34:46.048911Z",
     "iopub.status.busy": "2023-06-04T07:34:46.048344Z",
     "iopub.status.idle": "2023-06-04T07:34:46.056806Z",
     "shell.execute_reply": "2023-06-04T07:34:46.055650Z"
    },
    "papermill": {
     "duration": 0.034378,
     "end_time": "2023-06-04T07:34:46.059239",
     "exception": false,
     "start_time": "2023-06-04T07:34:46.024861",
     "status": "completed"
    },
    "tags": []
   },
   "outputs": [
    {
     "data": {
      "text/plain": [
       "Full HD 1920x1080                                507\n",
       "1366x768                                         281\n",
       "IPS Panel Full HD 1920x1080                      230\n",
       "IPS Panel Full HD / Touchscreen 1920x1080         53\n",
       "Full HD / Touchscreen 1920x1080                   47\n",
       "1600x900                                          23\n",
       "Touchscreen 1366x768                              16\n",
       "Quad HD+ / Touchscreen 3200x1800                  15\n",
       "IPS Panel 4K Ultra HD 3840x2160                   12\n",
       "IPS Panel 4K Ultra HD / Touchscreen 3840x2160     11\n",
       "4K Ultra HD / Touchscreen 3840x2160               10\n",
       "4K Ultra HD 3840x2160                              7\n",
       "Touchscreen 2560x1440                              7\n",
       "IPS Panel 1366x768                                 7\n",
       "IPS Panel Quad HD+ / Touchscreen 3200x1800         6\n",
       "IPS Panel Retina Display 2560x1600                 6\n",
       "IPS Panel Retina Display 2304x1440                 6\n",
       "Touchscreen 2256x1504                              6\n",
       "IPS Panel Touchscreen 2560x1440                    5\n",
       "IPS Panel Retina Display 2880x1800                 4\n",
       "IPS Panel Touchscreen 1920x1200                    4\n",
       "1440x900                                           4\n",
       "IPS Panel 2560x1440                                4\n",
       "IPS Panel Quad HD+ 2560x1440                       3\n",
       "Quad HD+ 3200x1800                                 3\n",
       "1920x1080                                          3\n",
       "Touchscreen 2400x1600                              3\n",
       "2560x1440                                          3\n",
       "IPS Panel Touchscreen 1366x768                     3\n",
       "IPS Panel Touchscreen / 4K Ultra HD 3840x2160      2\n",
       "IPS Panel Full HD 2160x1440                        2\n",
       "IPS Panel Quad HD+ 3200x1800                       2\n",
       "IPS Panel Retina Display 2736x1824                 1\n",
       "IPS Panel Full HD 1920x1200                        1\n",
       "IPS Panel Full HD 2560x1440                        1\n",
       "IPS Panel Full HD 1366x768                         1\n",
       "Touchscreen / Full HD 1920x1080                    1\n",
       "Touchscreen / Quad HD+ 3200x1800                   1\n",
       "Touchscreen / 4K Ultra HD 3840x2160                1\n",
       "IPS Panel Touchscreen 2400x1600                    1\n",
       "Name: ScreenResolution, dtype: int64"
      ]
     },
     "execution_count": 21,
     "metadata": {},
     "output_type": "execute_result"
    }
   ],
   "source": [
    "df.ScreenResolution.value_counts()"
   ]
  },
  {
   "cell_type": "code",
   "execution_count": 22,
   "id": "e06a54b8",
   "metadata": {
    "execution": {
     "iopub.execute_input": "2023-06-04T07:34:46.105773Z",
     "iopub.status.busy": "2023-06-04T07:34:46.105453Z",
     "iopub.status.idle": "2023-06-04T07:34:46.112220Z",
     "shell.execute_reply": "2023-06-04T07:34:46.110609Z"
    },
    "papermill": {
     "duration": 0.032603,
     "end_time": "2023-06-04T07:34:46.114527",
     "exception": false,
     "start_time": "2023-06-04T07:34:46.081924",
     "status": "completed"
    },
    "tags": []
   },
   "outputs": [],
   "source": [
    "df['touch_screen']= df['ScreenResolution'].apply(lambda x:1 if 'Touchscreen' in x else 0)"
   ]
  },
  {
   "cell_type": "code",
   "execution_count": 23,
   "id": "9ec9cbdd",
   "metadata": {
    "execution": {
     "iopub.execute_input": "2023-06-04T07:34:46.161584Z",
     "iopub.status.busy": "2023-06-04T07:34:46.160599Z",
     "iopub.status.idle": "2023-06-04T07:34:46.166933Z",
     "shell.execute_reply": "2023-06-04T07:34:46.165772Z"
    },
    "papermill": {
     "duration": 0.03219,
     "end_time": "2023-06-04T07:34:46.169350",
     "exception": false,
     "start_time": "2023-06-04T07:34:46.137160",
     "status": "completed"
    },
    "tags": []
   },
   "outputs": [],
   "source": [
    "df['IPS_display']= df['ScreenResolution'].apply(lambda x:1 if 'IPS' in x else 0)"
   ]
  },
  {
   "cell_type": "code",
   "execution_count": 24,
   "id": "4cf66654",
   "metadata": {
    "execution": {
     "iopub.execute_input": "2023-06-04T07:34:46.216652Z",
     "iopub.status.busy": "2023-06-04T07:34:46.215884Z",
     "iopub.status.idle": "2023-06-04T07:34:46.231751Z",
     "shell.execute_reply": "2023-06-04T07:34:46.231068Z"
    },
    "papermill": {
     "duration": 0.042141,
     "end_time": "2023-06-04T07:34:46.234009",
     "exception": false,
     "start_time": "2023-06-04T07:34:46.191868",
     "status": "completed"
    },
    "tags": []
   },
   "outputs": [
    {
     "data": {
      "text/html": [
       "<div>\n",
       "<style scoped>\n",
       "    .dataframe tbody tr th:only-of-type {\n",
       "        vertical-align: middle;\n",
       "    }\n",
       "\n",
       "    .dataframe tbody tr th {\n",
       "        vertical-align: top;\n",
       "    }\n",
       "\n",
       "    .dataframe thead th {\n",
       "        text-align: right;\n",
       "    }\n",
       "</style>\n",
       "<table border=\"1\" class=\"dataframe\">\n",
       "  <thead>\n",
       "    <tr style=\"text-align: right;\">\n",
       "      <th></th>\n",
       "      <th>laptop_ID</th>\n",
       "      <th>Company</th>\n",
       "      <th>Product</th>\n",
       "      <th>TypeName</th>\n",
       "      <th>Inches</th>\n",
       "      <th>ScreenResolution</th>\n",
       "      <th>Cpu</th>\n",
       "      <th>Ram</th>\n",
       "      <th>Memory</th>\n",
       "      <th>Gpu</th>\n",
       "      <th>OpSys</th>\n",
       "      <th>Weight</th>\n",
       "      <th>Price_euros</th>\n",
       "      <th>touch_screen</th>\n",
       "      <th>IPS_display</th>\n",
       "    </tr>\n",
       "  </thead>\n",
       "  <tbody>\n",
       "    <tr>\n",
       "      <th>866</th>\n",
       "      <td>877</td>\n",
       "      <td>Toshiba</td>\n",
       "      <td>Portégé Z30-C-188</td>\n",
       "      <td>Ultrabook</td>\n",
       "      <td>13.3</td>\n",
       "      <td>1366x768</td>\n",
       "      <td>Intel Core i5 6200U 2.3GHz</td>\n",
       "      <td>8</td>\n",
       "      <td>256GB SSD</td>\n",
       "      <td>Intel HD Graphics 520</td>\n",
       "      <td>Windows 10</td>\n",
       "      <td>1.20</td>\n",
       "      <td>1095.00</td>\n",
       "      <td>0</td>\n",
       "      <td>0</td>\n",
       "    </tr>\n",
       "    <tr>\n",
       "      <th>354</th>\n",
       "      <td>360</td>\n",
       "      <td>Toshiba</td>\n",
       "      <td>Tecra A50-C-21G</td>\n",
       "      <td>Notebook</td>\n",
       "      <td>15.6</td>\n",
       "      <td>IPS Panel Full HD 1920x1080</td>\n",
       "      <td>Intel Core i7 6500U 2.5GHz</td>\n",
       "      <td>16</td>\n",
       "      <td>512GB SSD</td>\n",
       "      <td>Nvidia GeForce 930M</td>\n",
       "      <td>Windows 10</td>\n",
       "      <td>2.40</td>\n",
       "      <td>1403.00</td>\n",
       "      <td>0</td>\n",
       "      <td>1</td>\n",
       "    </tr>\n",
       "    <tr>\n",
       "      <th>322</th>\n",
       "      <td>327</td>\n",
       "      <td>Asus</td>\n",
       "      <td>ZenBook UX410UA-GV183T</td>\n",
       "      <td>Notebook</td>\n",
       "      <td>14.0</td>\n",
       "      <td>Full HD 1920x1080</td>\n",
       "      <td>Intel Core i7 7500U 2.7GHz</td>\n",
       "      <td>8</td>\n",
       "      <td>256GB SSD</td>\n",
       "      <td>Intel HD Graphics 620</td>\n",
       "      <td>Windows 10</td>\n",
       "      <td>2.00</td>\n",
       "      <td>1094.00</td>\n",
       "      <td>0</td>\n",
       "      <td>0</td>\n",
       "    </tr>\n",
       "    <tr>\n",
       "      <th>326</th>\n",
       "      <td>332</td>\n",
       "      <td>Acer</td>\n",
       "      <td>Aspire E5-575</td>\n",
       "      <td>Notebook</td>\n",
       "      <td>15.6</td>\n",
       "      <td>1366x768</td>\n",
       "      <td>Intel Core i5 7200U 2.5GHz</td>\n",
       "      <td>6</td>\n",
       "      <td>1TB HDD</td>\n",
       "      <td>Intel HD Graphics 620</td>\n",
       "      <td>Windows 10</td>\n",
       "      <td>2.23</td>\n",
       "      <td>549.00</td>\n",
       "      <td>0</td>\n",
       "      <td>0</td>\n",
       "    </tr>\n",
       "    <tr>\n",
       "      <th>409</th>\n",
       "      <td>416</td>\n",
       "      <td>Lenovo</td>\n",
       "      <td>Lenovo IdeaPad</td>\n",
       "      <td>Notebook</td>\n",
       "      <td>11.6</td>\n",
       "      <td>1366x768</td>\n",
       "      <td>Intel Celeron Dual Core N3350 1.1GHz</td>\n",
       "      <td>2</td>\n",
       "      <td>32GB Flash Storage</td>\n",
       "      <td>Intel HD Graphics 500</td>\n",
       "      <td>Windows 10</td>\n",
       "      <td>1.15</td>\n",
       "      <td>304.45</td>\n",
       "      <td>0</td>\n",
       "      <td>0</td>\n",
       "    </tr>\n",
       "  </tbody>\n",
       "</table>\n",
       "</div>"
      ],
      "text/plain": [
       "     laptop_ID  Company                 Product   TypeName  Inches  \\\n",
       "866        877  Toshiba       Portégé Z30-C-188  Ultrabook    13.3   \n",
       "354        360  Toshiba         Tecra A50-C-21G   Notebook    15.6   \n",
       "322        327     Asus  ZenBook UX410UA-GV183T   Notebook    14.0   \n",
       "326        332     Acer           Aspire E5-575   Notebook    15.6   \n",
       "409        416   Lenovo          Lenovo IdeaPad   Notebook    11.6   \n",
       "\n",
       "                ScreenResolution                                   Cpu  Ram  \\\n",
       "866                     1366x768            Intel Core i5 6200U 2.3GHz    8   \n",
       "354  IPS Panel Full HD 1920x1080            Intel Core i7 6500U 2.5GHz   16   \n",
       "322            Full HD 1920x1080            Intel Core i7 7500U 2.7GHz    8   \n",
       "326                     1366x768            Intel Core i5 7200U 2.5GHz    6   \n",
       "409                     1366x768  Intel Celeron Dual Core N3350 1.1GHz    2   \n",
       "\n",
       "                 Memory                    Gpu       OpSys  Weight  \\\n",
       "866           256GB SSD  Intel HD Graphics 520  Windows 10    1.20   \n",
       "354           512GB SSD    Nvidia GeForce 930M  Windows 10    2.40   \n",
       "322           256GB SSD  Intel HD Graphics 620  Windows 10    2.00   \n",
       "326             1TB HDD  Intel HD Graphics 620  Windows 10    2.23   \n",
       "409  32GB Flash Storage  Intel HD Graphics 500  Windows 10    1.15   \n",
       "\n",
       "     Price_euros  touch_screen  IPS_display  \n",
       "866      1095.00             0            0  \n",
       "354      1403.00             0            1  \n",
       "322      1094.00             0            0  \n",
       "326       549.00             0            0  \n",
       "409       304.45             0            0  "
      ]
     },
     "execution_count": 24,
     "metadata": {},
     "output_type": "execute_result"
    }
   ],
   "source": [
    "df.sample(5)"
   ]
  },
  {
   "cell_type": "code",
   "execution_count": 25,
   "id": "3302437a",
   "metadata": {
    "execution": {
     "iopub.execute_input": "2023-06-04T07:34:46.282306Z",
     "iopub.status.busy": "2023-06-04T07:34:46.281248Z",
     "iopub.status.idle": "2023-06-04T07:34:46.289079Z",
     "shell.execute_reply": "2023-06-04T07:34:46.287768Z"
    },
    "papermill": {
     "duration": 0.034163,
     "end_time": "2023-06-04T07:34:46.291343",
     "exception": false,
     "start_time": "2023-06-04T07:34:46.257180",
     "status": "completed"
    },
    "tags": []
   },
   "outputs": [],
   "source": [
    "new=df['ScreenResolution'].str.split('x',n=1,expand=True)"
   ]
  },
  {
   "cell_type": "code",
   "execution_count": 26,
   "id": "7c7c2607",
   "metadata": {
    "execution": {
     "iopub.execute_input": "2023-06-04T07:34:46.338225Z",
     "iopub.status.busy": "2023-06-04T07:34:46.337405Z",
     "iopub.status.idle": "2023-06-04T07:34:46.353316Z",
     "shell.execute_reply": "2023-06-04T07:34:46.351864Z"
    },
    "papermill": {
     "duration": 0.041595,
     "end_time": "2023-06-04T07:34:46.355289",
     "exception": false,
     "start_time": "2023-06-04T07:34:46.313694",
     "status": "completed"
    },
    "tags": []
   },
   "outputs": [
    {
     "data": {
      "text/html": [
       "<div>\n",
       "<style scoped>\n",
       "    .dataframe tbody tr th:only-of-type {\n",
       "        vertical-align: middle;\n",
       "    }\n",
       "\n",
       "    .dataframe tbody tr th {\n",
       "        vertical-align: top;\n",
       "    }\n",
       "\n",
       "    .dataframe thead th {\n",
       "        text-align: right;\n",
       "    }\n",
       "</style>\n",
       "<table border=\"1\" class=\"dataframe\">\n",
       "  <thead>\n",
       "    <tr style=\"text-align: right;\">\n",
       "      <th></th>\n",
       "      <th>laptop_ID</th>\n",
       "      <th>Company</th>\n",
       "      <th>Product</th>\n",
       "      <th>TypeName</th>\n",
       "      <th>Inches</th>\n",
       "      <th>ScreenResolution</th>\n",
       "      <th>Cpu</th>\n",
       "      <th>Ram</th>\n",
       "      <th>Memory</th>\n",
       "      <th>Gpu</th>\n",
       "      <th>OpSys</th>\n",
       "      <th>Weight</th>\n",
       "      <th>Price_euros</th>\n",
       "      <th>touch_screen</th>\n",
       "      <th>IPS_display</th>\n",
       "    </tr>\n",
       "  </thead>\n",
       "  <tbody>\n",
       "    <tr>\n",
       "      <th>0</th>\n",
       "      <td>1</td>\n",
       "      <td>Apple</td>\n",
       "      <td>MacBook Pro</td>\n",
       "      <td>Ultrabook</td>\n",
       "      <td>13.3</td>\n",
       "      <td>IPS Panel Retina Display 2560x1600</td>\n",
       "      <td>Intel Core i5 2.3GHz</td>\n",
       "      <td>8</td>\n",
       "      <td>128GB SSD</td>\n",
       "      <td>Intel Iris Plus Graphics 640</td>\n",
       "      <td>macOS</td>\n",
       "      <td>1.37</td>\n",
       "      <td>1339.69</td>\n",
       "      <td>0</td>\n",
       "      <td>1</td>\n",
       "    </tr>\n",
       "    <tr>\n",
       "      <th>1</th>\n",
       "      <td>2</td>\n",
       "      <td>Apple</td>\n",
       "      <td>Macbook Air</td>\n",
       "      <td>Ultrabook</td>\n",
       "      <td>13.3</td>\n",
       "      <td>1440x900</td>\n",
       "      <td>Intel Core i5 1.8GHz</td>\n",
       "      <td>8</td>\n",
       "      <td>128GB Flash Storage</td>\n",
       "      <td>Intel HD Graphics 6000</td>\n",
       "      <td>macOS</td>\n",
       "      <td>1.34</td>\n",
       "      <td>898.94</td>\n",
       "      <td>0</td>\n",
       "      <td>0</td>\n",
       "    </tr>\n",
       "    <tr>\n",
       "      <th>2</th>\n",
       "      <td>3</td>\n",
       "      <td>HP</td>\n",
       "      <td>250 G6</td>\n",
       "      <td>Notebook</td>\n",
       "      <td>15.6</td>\n",
       "      <td>Full HD 1920x1080</td>\n",
       "      <td>Intel Core i5 7200U 2.5GHz</td>\n",
       "      <td>8</td>\n",
       "      <td>256GB SSD</td>\n",
       "      <td>Intel HD Graphics 620</td>\n",
       "      <td>No OS</td>\n",
       "      <td>1.86</td>\n",
       "      <td>575.00</td>\n",
       "      <td>0</td>\n",
       "      <td>0</td>\n",
       "    </tr>\n",
       "    <tr>\n",
       "      <th>3</th>\n",
       "      <td>4</td>\n",
       "      <td>Apple</td>\n",
       "      <td>MacBook Pro</td>\n",
       "      <td>Ultrabook</td>\n",
       "      <td>15.4</td>\n",
       "      <td>IPS Panel Retina Display 2880x1800</td>\n",
       "      <td>Intel Core i7 2.7GHz</td>\n",
       "      <td>16</td>\n",
       "      <td>512GB SSD</td>\n",
       "      <td>AMD Radeon Pro 455</td>\n",
       "      <td>macOS</td>\n",
       "      <td>1.83</td>\n",
       "      <td>2537.45</td>\n",
       "      <td>0</td>\n",
       "      <td>1</td>\n",
       "    </tr>\n",
       "    <tr>\n",
       "      <th>4</th>\n",
       "      <td>5</td>\n",
       "      <td>Apple</td>\n",
       "      <td>MacBook Pro</td>\n",
       "      <td>Ultrabook</td>\n",
       "      <td>13.3</td>\n",
       "      <td>IPS Panel Retina Display 2560x1600</td>\n",
       "      <td>Intel Core i5 3.1GHz</td>\n",
       "      <td>8</td>\n",
       "      <td>256GB SSD</td>\n",
       "      <td>Intel Iris Plus Graphics 650</td>\n",
       "      <td>macOS</td>\n",
       "      <td>1.37</td>\n",
       "      <td>1803.60</td>\n",
       "      <td>0</td>\n",
       "      <td>1</td>\n",
       "    </tr>\n",
       "  </tbody>\n",
       "</table>\n",
       "</div>"
      ],
      "text/plain": [
       "   laptop_ID Company      Product   TypeName  Inches  \\\n",
       "0          1   Apple  MacBook Pro  Ultrabook    13.3   \n",
       "1          2   Apple  Macbook Air  Ultrabook    13.3   \n",
       "2          3      HP       250 G6   Notebook    15.6   \n",
       "3          4   Apple  MacBook Pro  Ultrabook    15.4   \n",
       "4          5   Apple  MacBook Pro  Ultrabook    13.3   \n",
       "\n",
       "                     ScreenResolution                         Cpu  Ram  \\\n",
       "0  IPS Panel Retina Display 2560x1600        Intel Core i5 2.3GHz    8   \n",
       "1                            1440x900        Intel Core i5 1.8GHz    8   \n",
       "2                   Full HD 1920x1080  Intel Core i5 7200U 2.5GHz    8   \n",
       "3  IPS Panel Retina Display 2880x1800        Intel Core i7 2.7GHz   16   \n",
       "4  IPS Panel Retina Display 2560x1600        Intel Core i5 3.1GHz    8   \n",
       "\n",
       "                Memory                           Gpu  OpSys  Weight  \\\n",
       "0            128GB SSD  Intel Iris Plus Graphics 640  macOS    1.37   \n",
       "1  128GB Flash Storage        Intel HD Graphics 6000  macOS    1.34   \n",
       "2            256GB SSD         Intel HD Graphics 620  No OS    1.86   \n",
       "3            512GB SSD            AMD Radeon Pro 455  macOS    1.83   \n",
       "4            256GB SSD  Intel Iris Plus Graphics 650  macOS    1.37   \n",
       "\n",
       "   Price_euros  touch_screen  IPS_display  \n",
       "0      1339.69             0            1  \n",
       "1       898.94             0            0  \n",
       "2       575.00             0            0  \n",
       "3      2537.45             0            1  \n",
       "4      1803.60             0            1  "
      ]
     },
     "execution_count": 26,
     "metadata": {},
     "output_type": "execute_result"
    }
   ],
   "source": [
    "df.head()"
   ]
  },
  {
   "cell_type": "code",
   "execution_count": 27,
   "id": "c199cc1d",
   "metadata": {
    "execution": {
     "iopub.execute_input": "2023-06-04T07:34:46.401544Z",
     "iopub.status.busy": "2023-06-04T07:34:46.401127Z",
     "iopub.status.idle": "2023-06-04T07:34:46.409149Z",
     "shell.execute_reply": "2023-06-04T07:34:46.408285Z"
    },
    "papermill": {
     "duration": 0.033271,
     "end_time": "2023-06-04T07:34:46.410995",
     "exception": false,
     "start_time": "2023-06-04T07:34:46.377724",
     "status": "completed"
    },
    "tags": []
   },
   "outputs": [
    {
     "data": {
      "text/html": [
       "<div>\n",
       "<style scoped>\n",
       "    .dataframe tbody tr th:only-of-type {\n",
       "        vertical-align: middle;\n",
       "    }\n",
       "\n",
       "    .dataframe tbody tr th {\n",
       "        vertical-align: top;\n",
       "    }\n",
       "\n",
       "    .dataframe thead th {\n",
       "        text-align: right;\n",
       "    }\n",
       "</style>\n",
       "<table border=\"1\" class=\"dataframe\">\n",
       "  <thead>\n",
       "    <tr style=\"text-align: right;\">\n",
       "      <th></th>\n",
       "      <th>0</th>\n",
       "      <th>1</th>\n",
       "    </tr>\n",
       "  </thead>\n",
       "  <tbody>\n",
       "    <tr>\n",
       "      <th>0</th>\n",
       "      <td>IPS Panel Retina Display 2560</td>\n",
       "      <td>1600</td>\n",
       "    </tr>\n",
       "    <tr>\n",
       "      <th>1</th>\n",
       "      <td>1440</td>\n",
       "      <td>900</td>\n",
       "    </tr>\n",
       "    <tr>\n",
       "      <th>2</th>\n",
       "      <td>Full HD 1920</td>\n",
       "      <td>1080</td>\n",
       "    </tr>\n",
       "    <tr>\n",
       "      <th>3</th>\n",
       "      <td>IPS Panel Retina Display 2880</td>\n",
       "      <td>1800</td>\n",
       "    </tr>\n",
       "    <tr>\n",
       "      <th>4</th>\n",
       "      <td>IPS Panel Retina Display 2560</td>\n",
       "      <td>1600</td>\n",
       "    </tr>\n",
       "  </tbody>\n",
       "</table>\n",
       "</div>"
      ],
      "text/plain": [
       "                               0     1\n",
       "0  IPS Panel Retina Display 2560  1600\n",
       "1                           1440   900\n",
       "2                   Full HD 1920  1080\n",
       "3  IPS Panel Retina Display 2880  1800\n",
       "4  IPS Panel Retina Display 2560  1600"
      ]
     },
     "execution_count": 27,
     "metadata": {},
     "output_type": "execute_result"
    }
   ],
   "source": [
    "new.head()"
   ]
  },
  {
   "cell_type": "code",
   "execution_count": 28,
   "id": "a5336565",
   "metadata": {
    "execution": {
     "iopub.execute_input": "2023-06-04T07:34:46.459680Z",
     "iopub.status.busy": "2023-06-04T07:34:46.458861Z",
     "iopub.status.idle": "2023-06-04T07:34:46.463922Z",
     "shell.execute_reply": "2023-06-04T07:34:46.463272Z"
    },
    "papermill": {
     "duration": 0.031048,
     "end_time": "2023-06-04T07:34:46.465485",
     "exception": false,
     "start_time": "2023-06-04T07:34:46.434437",
     "status": "completed"
    },
    "tags": []
   },
   "outputs": [],
   "source": [
    "df['X_res']= new[0]\n",
    "df['y_res']= new[1]"
   ]
  },
  {
   "cell_type": "code",
   "execution_count": 29,
   "id": "c787d0ea",
   "metadata": {
    "execution": {
     "iopub.execute_input": "2023-06-04T07:34:46.513073Z",
     "iopub.status.busy": "2023-06-04T07:34:46.512608Z",
     "iopub.status.idle": "2023-06-04T07:34:46.529273Z",
     "shell.execute_reply": "2023-06-04T07:34:46.528158Z"
    },
    "papermill": {
     "duration": 0.042505,
     "end_time": "2023-06-04T07:34:46.531100",
     "exception": false,
     "start_time": "2023-06-04T07:34:46.488595",
     "status": "completed"
    },
    "tags": []
   },
   "outputs": [
    {
     "data": {
      "text/html": [
       "<div>\n",
       "<style scoped>\n",
       "    .dataframe tbody tr th:only-of-type {\n",
       "        vertical-align: middle;\n",
       "    }\n",
       "\n",
       "    .dataframe tbody tr th {\n",
       "        vertical-align: top;\n",
       "    }\n",
       "\n",
       "    .dataframe thead th {\n",
       "        text-align: right;\n",
       "    }\n",
       "</style>\n",
       "<table border=\"1\" class=\"dataframe\">\n",
       "  <thead>\n",
       "    <tr style=\"text-align: right;\">\n",
       "      <th></th>\n",
       "      <th>laptop_ID</th>\n",
       "      <th>Company</th>\n",
       "      <th>Product</th>\n",
       "      <th>TypeName</th>\n",
       "      <th>Inches</th>\n",
       "      <th>ScreenResolution</th>\n",
       "      <th>Cpu</th>\n",
       "      <th>Ram</th>\n",
       "      <th>Memory</th>\n",
       "      <th>Gpu</th>\n",
       "      <th>OpSys</th>\n",
       "      <th>Weight</th>\n",
       "      <th>Price_euros</th>\n",
       "      <th>touch_screen</th>\n",
       "      <th>IPS_display</th>\n",
       "      <th>X_res</th>\n",
       "      <th>y_res</th>\n",
       "    </tr>\n",
       "  </thead>\n",
       "  <tbody>\n",
       "    <tr>\n",
       "      <th>0</th>\n",
       "      <td>1</td>\n",
       "      <td>Apple</td>\n",
       "      <td>MacBook Pro</td>\n",
       "      <td>Ultrabook</td>\n",
       "      <td>13.3</td>\n",
       "      <td>IPS Panel Retina Display 2560x1600</td>\n",
       "      <td>Intel Core i5 2.3GHz</td>\n",
       "      <td>8</td>\n",
       "      <td>128GB SSD</td>\n",
       "      <td>Intel Iris Plus Graphics 640</td>\n",
       "      <td>macOS</td>\n",
       "      <td>1.37</td>\n",
       "      <td>1339.69</td>\n",
       "      <td>0</td>\n",
       "      <td>1</td>\n",
       "      <td>IPS Panel Retina Display 2560</td>\n",
       "      <td>1600</td>\n",
       "    </tr>\n",
       "    <tr>\n",
       "      <th>1</th>\n",
       "      <td>2</td>\n",
       "      <td>Apple</td>\n",
       "      <td>Macbook Air</td>\n",
       "      <td>Ultrabook</td>\n",
       "      <td>13.3</td>\n",
       "      <td>1440x900</td>\n",
       "      <td>Intel Core i5 1.8GHz</td>\n",
       "      <td>8</td>\n",
       "      <td>128GB Flash Storage</td>\n",
       "      <td>Intel HD Graphics 6000</td>\n",
       "      <td>macOS</td>\n",
       "      <td>1.34</td>\n",
       "      <td>898.94</td>\n",
       "      <td>0</td>\n",
       "      <td>0</td>\n",
       "      <td>1440</td>\n",
       "      <td>900</td>\n",
       "    </tr>\n",
       "    <tr>\n",
       "      <th>2</th>\n",
       "      <td>3</td>\n",
       "      <td>HP</td>\n",
       "      <td>250 G6</td>\n",
       "      <td>Notebook</td>\n",
       "      <td>15.6</td>\n",
       "      <td>Full HD 1920x1080</td>\n",
       "      <td>Intel Core i5 7200U 2.5GHz</td>\n",
       "      <td>8</td>\n",
       "      <td>256GB SSD</td>\n",
       "      <td>Intel HD Graphics 620</td>\n",
       "      <td>No OS</td>\n",
       "      <td>1.86</td>\n",
       "      <td>575.00</td>\n",
       "      <td>0</td>\n",
       "      <td>0</td>\n",
       "      <td>Full HD 1920</td>\n",
       "      <td>1080</td>\n",
       "    </tr>\n",
       "    <tr>\n",
       "      <th>3</th>\n",
       "      <td>4</td>\n",
       "      <td>Apple</td>\n",
       "      <td>MacBook Pro</td>\n",
       "      <td>Ultrabook</td>\n",
       "      <td>15.4</td>\n",
       "      <td>IPS Panel Retina Display 2880x1800</td>\n",
       "      <td>Intel Core i7 2.7GHz</td>\n",
       "      <td>16</td>\n",
       "      <td>512GB SSD</td>\n",
       "      <td>AMD Radeon Pro 455</td>\n",
       "      <td>macOS</td>\n",
       "      <td>1.83</td>\n",
       "      <td>2537.45</td>\n",
       "      <td>0</td>\n",
       "      <td>1</td>\n",
       "      <td>IPS Panel Retina Display 2880</td>\n",
       "      <td>1800</td>\n",
       "    </tr>\n",
       "    <tr>\n",
       "      <th>4</th>\n",
       "      <td>5</td>\n",
       "      <td>Apple</td>\n",
       "      <td>MacBook Pro</td>\n",
       "      <td>Ultrabook</td>\n",
       "      <td>13.3</td>\n",
       "      <td>IPS Panel Retina Display 2560x1600</td>\n",
       "      <td>Intel Core i5 3.1GHz</td>\n",
       "      <td>8</td>\n",
       "      <td>256GB SSD</td>\n",
       "      <td>Intel Iris Plus Graphics 650</td>\n",
       "      <td>macOS</td>\n",
       "      <td>1.37</td>\n",
       "      <td>1803.60</td>\n",
       "      <td>0</td>\n",
       "      <td>1</td>\n",
       "      <td>IPS Panel Retina Display 2560</td>\n",
       "      <td>1600</td>\n",
       "    </tr>\n",
       "  </tbody>\n",
       "</table>\n",
       "</div>"
      ],
      "text/plain": [
       "   laptop_ID Company      Product   TypeName  Inches  \\\n",
       "0          1   Apple  MacBook Pro  Ultrabook    13.3   \n",
       "1          2   Apple  Macbook Air  Ultrabook    13.3   \n",
       "2          3      HP       250 G6   Notebook    15.6   \n",
       "3          4   Apple  MacBook Pro  Ultrabook    15.4   \n",
       "4          5   Apple  MacBook Pro  Ultrabook    13.3   \n",
       "\n",
       "                     ScreenResolution                         Cpu  Ram  \\\n",
       "0  IPS Panel Retina Display 2560x1600        Intel Core i5 2.3GHz    8   \n",
       "1                            1440x900        Intel Core i5 1.8GHz    8   \n",
       "2                   Full HD 1920x1080  Intel Core i5 7200U 2.5GHz    8   \n",
       "3  IPS Panel Retina Display 2880x1800        Intel Core i7 2.7GHz   16   \n",
       "4  IPS Panel Retina Display 2560x1600        Intel Core i5 3.1GHz    8   \n",
       "\n",
       "                Memory                           Gpu  OpSys  Weight  \\\n",
       "0            128GB SSD  Intel Iris Plus Graphics 640  macOS    1.37   \n",
       "1  128GB Flash Storage        Intel HD Graphics 6000  macOS    1.34   \n",
       "2            256GB SSD         Intel HD Graphics 620  No OS    1.86   \n",
       "3            512GB SSD            AMD Radeon Pro 455  macOS    1.83   \n",
       "4            256GB SSD  Intel Iris Plus Graphics 650  macOS    1.37   \n",
       "\n",
       "   Price_euros  touch_screen  IPS_display                          X_res y_res  \n",
       "0      1339.69             0            1  IPS Panel Retina Display 2560  1600  \n",
       "1       898.94             0            0                           1440   900  \n",
       "2       575.00             0            0                   Full HD 1920  1080  \n",
       "3      2537.45             0            1  IPS Panel Retina Display 2880  1800  \n",
       "4      1803.60             0            1  IPS Panel Retina Display 2560  1600  "
      ]
     },
     "execution_count": 29,
     "metadata": {},
     "output_type": "execute_result"
    }
   ],
   "source": [
    "df.head()"
   ]
  },
  {
   "cell_type": "code",
   "execution_count": 30,
   "id": "18860735",
   "metadata": {
    "execution": {
     "iopub.execute_input": "2023-06-04T07:34:46.580805Z",
     "iopub.status.busy": "2023-06-04T07:34:46.580488Z",
     "iopub.status.idle": "2023-06-04T07:34:46.589532Z",
     "shell.execute_reply": "2023-06-04T07:34:46.588203Z"
    },
    "papermill": {
     "duration": 0.036709,
     "end_time": "2023-06-04T07:34:46.591580",
     "exception": false,
     "start_time": "2023-06-04T07:34:46.554871",
     "status": "completed"
    },
    "tags": []
   },
   "outputs": [],
   "source": [
    "import re\n",
    "\n",
    "# Extract the numbers from the columns using a lambda function\n",
    "df['X_res'] = list(map(lambda x: re.sub(r'\\D', '', x), df['X_res']))"
   ]
  },
  {
   "cell_type": "code",
   "execution_count": 31,
   "id": "bb25a3b9",
   "metadata": {
    "execution": {
     "iopub.execute_input": "2023-06-04T07:34:46.639533Z",
     "iopub.status.busy": "2023-06-04T07:34:46.639128Z",
     "iopub.status.idle": "2023-06-04T07:34:46.656763Z",
     "shell.execute_reply": "2023-06-04T07:34:46.655591Z"
    },
    "papermill": {
     "duration": 0.043916,
     "end_time": "2023-06-04T07:34:46.658443",
     "exception": false,
     "start_time": "2023-06-04T07:34:46.614527",
     "status": "completed"
    },
    "tags": []
   },
   "outputs": [
    {
     "data": {
      "text/html": [
       "<div>\n",
       "<style scoped>\n",
       "    .dataframe tbody tr th:only-of-type {\n",
       "        vertical-align: middle;\n",
       "    }\n",
       "\n",
       "    .dataframe tbody tr th {\n",
       "        vertical-align: top;\n",
       "    }\n",
       "\n",
       "    .dataframe thead th {\n",
       "        text-align: right;\n",
       "    }\n",
       "</style>\n",
       "<table border=\"1\" class=\"dataframe\">\n",
       "  <thead>\n",
       "    <tr style=\"text-align: right;\">\n",
       "      <th></th>\n",
       "      <th>laptop_ID</th>\n",
       "      <th>Company</th>\n",
       "      <th>Product</th>\n",
       "      <th>TypeName</th>\n",
       "      <th>Inches</th>\n",
       "      <th>ScreenResolution</th>\n",
       "      <th>Cpu</th>\n",
       "      <th>Ram</th>\n",
       "      <th>Memory</th>\n",
       "      <th>Gpu</th>\n",
       "      <th>OpSys</th>\n",
       "      <th>Weight</th>\n",
       "      <th>Price_euros</th>\n",
       "      <th>touch_screen</th>\n",
       "      <th>IPS_display</th>\n",
       "      <th>X_res</th>\n",
       "      <th>y_res</th>\n",
       "    </tr>\n",
       "  </thead>\n",
       "  <tbody>\n",
       "    <tr>\n",
       "      <th>0</th>\n",
       "      <td>1</td>\n",
       "      <td>Apple</td>\n",
       "      <td>MacBook Pro</td>\n",
       "      <td>Ultrabook</td>\n",
       "      <td>13.3</td>\n",
       "      <td>IPS Panel Retina Display 2560x1600</td>\n",
       "      <td>Intel Core i5 2.3GHz</td>\n",
       "      <td>8</td>\n",
       "      <td>128GB SSD</td>\n",
       "      <td>Intel Iris Plus Graphics 640</td>\n",
       "      <td>macOS</td>\n",
       "      <td>1.37</td>\n",
       "      <td>1339.69</td>\n",
       "      <td>0</td>\n",
       "      <td>1</td>\n",
       "      <td>2560</td>\n",
       "      <td>1600</td>\n",
       "    </tr>\n",
       "    <tr>\n",
       "      <th>1</th>\n",
       "      <td>2</td>\n",
       "      <td>Apple</td>\n",
       "      <td>Macbook Air</td>\n",
       "      <td>Ultrabook</td>\n",
       "      <td>13.3</td>\n",
       "      <td>1440x900</td>\n",
       "      <td>Intel Core i5 1.8GHz</td>\n",
       "      <td>8</td>\n",
       "      <td>128GB Flash Storage</td>\n",
       "      <td>Intel HD Graphics 6000</td>\n",
       "      <td>macOS</td>\n",
       "      <td>1.34</td>\n",
       "      <td>898.94</td>\n",
       "      <td>0</td>\n",
       "      <td>0</td>\n",
       "      <td>1440</td>\n",
       "      <td>900</td>\n",
       "    </tr>\n",
       "    <tr>\n",
       "      <th>2</th>\n",
       "      <td>3</td>\n",
       "      <td>HP</td>\n",
       "      <td>250 G6</td>\n",
       "      <td>Notebook</td>\n",
       "      <td>15.6</td>\n",
       "      <td>Full HD 1920x1080</td>\n",
       "      <td>Intel Core i5 7200U 2.5GHz</td>\n",
       "      <td>8</td>\n",
       "      <td>256GB SSD</td>\n",
       "      <td>Intel HD Graphics 620</td>\n",
       "      <td>No OS</td>\n",
       "      <td>1.86</td>\n",
       "      <td>575.00</td>\n",
       "      <td>0</td>\n",
       "      <td>0</td>\n",
       "      <td>1920</td>\n",
       "      <td>1080</td>\n",
       "    </tr>\n",
       "    <tr>\n",
       "      <th>3</th>\n",
       "      <td>4</td>\n",
       "      <td>Apple</td>\n",
       "      <td>MacBook Pro</td>\n",
       "      <td>Ultrabook</td>\n",
       "      <td>15.4</td>\n",
       "      <td>IPS Panel Retina Display 2880x1800</td>\n",
       "      <td>Intel Core i7 2.7GHz</td>\n",
       "      <td>16</td>\n",
       "      <td>512GB SSD</td>\n",
       "      <td>AMD Radeon Pro 455</td>\n",
       "      <td>macOS</td>\n",
       "      <td>1.83</td>\n",
       "      <td>2537.45</td>\n",
       "      <td>0</td>\n",
       "      <td>1</td>\n",
       "      <td>2880</td>\n",
       "      <td>1800</td>\n",
       "    </tr>\n",
       "    <tr>\n",
       "      <th>4</th>\n",
       "      <td>5</td>\n",
       "      <td>Apple</td>\n",
       "      <td>MacBook Pro</td>\n",
       "      <td>Ultrabook</td>\n",
       "      <td>13.3</td>\n",
       "      <td>IPS Panel Retina Display 2560x1600</td>\n",
       "      <td>Intel Core i5 3.1GHz</td>\n",
       "      <td>8</td>\n",
       "      <td>256GB SSD</td>\n",
       "      <td>Intel Iris Plus Graphics 650</td>\n",
       "      <td>macOS</td>\n",
       "      <td>1.37</td>\n",
       "      <td>1803.60</td>\n",
       "      <td>0</td>\n",
       "      <td>1</td>\n",
       "      <td>2560</td>\n",
       "      <td>1600</td>\n",
       "    </tr>\n",
       "  </tbody>\n",
       "</table>\n",
       "</div>"
      ],
      "text/plain": [
       "   laptop_ID Company      Product   TypeName  Inches  \\\n",
       "0          1   Apple  MacBook Pro  Ultrabook    13.3   \n",
       "1          2   Apple  Macbook Air  Ultrabook    13.3   \n",
       "2          3      HP       250 G6   Notebook    15.6   \n",
       "3          4   Apple  MacBook Pro  Ultrabook    15.4   \n",
       "4          5   Apple  MacBook Pro  Ultrabook    13.3   \n",
       "\n",
       "                     ScreenResolution                         Cpu  Ram  \\\n",
       "0  IPS Panel Retina Display 2560x1600        Intel Core i5 2.3GHz    8   \n",
       "1                            1440x900        Intel Core i5 1.8GHz    8   \n",
       "2                   Full HD 1920x1080  Intel Core i5 7200U 2.5GHz    8   \n",
       "3  IPS Panel Retina Display 2880x1800        Intel Core i7 2.7GHz   16   \n",
       "4  IPS Panel Retina Display 2560x1600        Intel Core i5 3.1GHz    8   \n",
       "\n",
       "                Memory                           Gpu  OpSys  Weight  \\\n",
       "0            128GB SSD  Intel Iris Plus Graphics 640  macOS    1.37   \n",
       "1  128GB Flash Storage        Intel HD Graphics 6000  macOS    1.34   \n",
       "2            256GB SSD         Intel HD Graphics 620  No OS    1.86   \n",
       "3            512GB SSD            AMD Radeon Pro 455  macOS    1.83   \n",
       "4            256GB SSD  Intel Iris Plus Graphics 650  macOS    1.37   \n",
       "\n",
       "   Price_euros  touch_screen  IPS_display X_res y_res  \n",
       "0      1339.69             0            1  2560  1600  \n",
       "1       898.94             0            0  1440   900  \n",
       "2       575.00             0            0  1920  1080  \n",
       "3      2537.45             0            1  2880  1800  \n",
       "4      1803.60             0            1  2560  1600  "
      ]
     },
     "execution_count": 31,
     "metadata": {},
     "output_type": "execute_result"
    }
   ],
   "source": [
    "df.head()"
   ]
  },
  {
   "cell_type": "code",
   "execution_count": 32,
   "id": "82a8c725",
   "metadata": {
    "execution": {
     "iopub.execute_input": "2023-06-04T07:34:46.707722Z",
     "iopub.status.busy": "2023-06-04T07:34:46.707355Z",
     "iopub.status.idle": "2023-06-04T07:34:46.712120Z",
     "shell.execute_reply": "2023-06-04T07:34:46.711478Z"
    },
    "papermill": {
     "duration": 0.032641,
     "end_time": "2023-06-04T07:34:46.714279",
     "exception": false,
     "start_time": "2023-06-04T07:34:46.681638",
     "status": "completed"
    },
    "tags": []
   },
   "outputs": [],
   "source": [
    "df['X_res']= df['X_res'].astype(int)\n",
    "df['y_res']= df['y_res'].astype(int)"
   ]
  },
  {
   "cell_type": "code",
   "execution_count": 33,
   "id": "c228be12",
   "metadata": {
    "execution": {
     "iopub.execute_input": "2023-06-04T07:34:46.762785Z",
     "iopub.status.busy": "2023-06-04T07:34:46.761643Z",
     "iopub.status.idle": "2023-06-04T07:34:46.773179Z",
     "shell.execute_reply": "2023-06-04T07:34:46.772476Z"
    },
    "papermill": {
     "duration": 0.037712,
     "end_time": "2023-06-04T07:34:46.775148",
     "exception": false,
     "start_time": "2023-06-04T07:34:46.737436",
     "status": "completed"
    },
    "tags": []
   },
   "outputs": [
    {
     "name": "stdout",
     "output_type": "stream",
     "text": [
      "<class 'pandas.core.frame.DataFrame'>\n",
      "RangeIndex: 1303 entries, 0 to 1302\n",
      "Data columns (total 17 columns):\n",
      " #   Column            Non-Null Count  Dtype  \n",
      "---  ------            --------------  -----  \n",
      " 0   laptop_ID         1303 non-null   int64  \n",
      " 1   Company           1303 non-null   object \n",
      " 2   Product           1303 non-null   object \n",
      " 3   TypeName          1303 non-null   object \n",
      " 4   Inches            1303 non-null   float64\n",
      " 5   ScreenResolution  1303 non-null   object \n",
      " 6   Cpu               1303 non-null   object \n",
      " 7   Ram               1303 non-null   int64  \n",
      " 8   Memory            1303 non-null   object \n",
      " 9   Gpu               1303 non-null   object \n",
      " 10  OpSys             1303 non-null   object \n",
      " 11  Weight            1303 non-null   float64\n",
      " 12  Price_euros       1303 non-null   float64\n",
      " 13  touch_screen      1303 non-null   int64  \n",
      " 14  IPS_display       1303 non-null   int64  \n",
      " 15  X_res             1303 non-null   int64  \n",
      " 16  y_res             1303 non-null   int64  \n",
      "dtypes: float64(3), int64(6), object(8)\n",
      "memory usage: 173.2+ KB\n"
     ]
    }
   ],
   "source": [
    "df.info()"
   ]
  },
  {
   "cell_type": "code",
   "execution_count": 34,
   "id": "c503b7a0",
   "metadata": {
    "execution": {
     "iopub.execute_input": "2023-06-04T07:34:46.823726Z",
     "iopub.status.busy": "2023-06-04T07:34:46.823380Z",
     "iopub.status.idle": "2023-06-04T07:34:46.837337Z",
     "shell.execute_reply": "2023-06-04T07:34:46.836178Z"
    },
    "papermill": {
     "duration": 0.041191,
     "end_time": "2023-06-04T07:34:46.839760",
     "exception": false,
     "start_time": "2023-06-04T07:34:46.798569",
     "status": "completed"
    },
    "tags": []
   },
   "outputs": [
    {
     "name": "stderr",
     "output_type": "stream",
     "text": [
      "/tmp/ipykernel_20/3066472675.py:1: FutureWarning: The default value of numeric_only in DataFrame.corr is deprecated. In a future version, it will default to False. Select only valid columns or specify the value of numeric_only to silence this warning.\n",
      "  pd.DataFrame(df.corr()['Price_euros'])\n"
     ]
    },
    {
     "data": {
      "text/html": [
       "<div>\n",
       "<style scoped>\n",
       "    .dataframe tbody tr th:only-of-type {\n",
       "        vertical-align: middle;\n",
       "    }\n",
       "\n",
       "    .dataframe tbody tr th {\n",
       "        vertical-align: top;\n",
       "    }\n",
       "\n",
       "    .dataframe thead th {\n",
       "        text-align: right;\n",
       "    }\n",
       "</style>\n",
       "<table border=\"1\" class=\"dataframe\">\n",
       "  <thead>\n",
       "    <tr style=\"text-align: right;\">\n",
       "      <th></th>\n",
       "      <th>Price_euros</th>\n",
       "    </tr>\n",
       "  </thead>\n",
       "  <tbody>\n",
       "    <tr>\n",
       "      <th>laptop_ID</th>\n",
       "      <td>0.067830</td>\n",
       "    </tr>\n",
       "    <tr>\n",
       "      <th>Inches</th>\n",
       "      <td>0.068197</td>\n",
       "    </tr>\n",
       "    <tr>\n",
       "      <th>Ram</th>\n",
       "      <td>0.743007</td>\n",
       "    </tr>\n",
       "    <tr>\n",
       "      <th>Weight</th>\n",
       "      <td>0.210370</td>\n",
       "    </tr>\n",
       "    <tr>\n",
       "      <th>Price_euros</th>\n",
       "      <td>1.000000</td>\n",
       "    </tr>\n",
       "    <tr>\n",
       "      <th>touch_screen</th>\n",
       "      <td>0.191226</td>\n",
       "    </tr>\n",
       "    <tr>\n",
       "      <th>IPS_display</th>\n",
       "      <td>0.252208</td>\n",
       "    </tr>\n",
       "    <tr>\n",
       "      <th>X_res</th>\n",
       "      <td>0.363806</td>\n",
       "    </tr>\n",
       "    <tr>\n",
       "      <th>y_res</th>\n",
       "      <td>0.552809</td>\n",
       "    </tr>\n",
       "  </tbody>\n",
       "</table>\n",
       "</div>"
      ],
      "text/plain": [
       "              Price_euros\n",
       "laptop_ID        0.067830\n",
       "Inches           0.068197\n",
       "Ram              0.743007\n",
       "Weight           0.210370\n",
       "Price_euros      1.000000\n",
       "touch_screen     0.191226\n",
       "IPS_display      0.252208\n",
       "X_res            0.363806\n",
       "y_res            0.552809"
      ]
     },
     "execution_count": 34,
     "metadata": {},
     "output_type": "execute_result"
    }
   ],
   "source": [
    "pd.DataFrame(df.corr()['Price_euros'])"
   ]
  },
  {
   "cell_type": "code",
   "execution_count": 35,
   "id": "3bb8e7e0",
   "metadata": {
    "execution": {
     "iopub.execute_input": "2023-06-04T07:34:46.890345Z",
     "iopub.status.busy": "2023-06-04T07:34:46.889023Z",
     "iopub.status.idle": "2023-06-04T07:34:47.057592Z",
     "shell.execute_reply": "2023-06-04T07:34:47.056575Z"
    },
    "papermill": {
     "duration": 0.195412,
     "end_time": "2023-06-04T07:34:47.059875",
     "exception": false,
     "start_time": "2023-06-04T07:34:46.864463",
     "status": "completed"
    },
    "tags": []
   },
   "outputs": [
    {
     "data": {
      "text/plain": [
       "<Axes: >"
      ]
     },
     "execution_count": 35,
     "metadata": {},
     "output_type": "execute_result"
    },
    {
     "data": {
      "image/png": "[encoded data removed]",
      "text/plain": [
       "<Figure size 640x480 with 1 Axes>"
      ]
     },
     "metadata": {},
     "output_type": "display_data"
    }
   ],
   "source": [
    "df['touch_screen'].value_counts().plot(kind='bar')"
   ]
  },
  {
   "cell_type": "markdown",
   "id": "cc53feea",
   "metadata": {
    "papermill": {
     "duration": 0.023937,
     "end_time": "2023-06-04T07:34:47.108006",
     "exception": false,
     "start_time": "2023-06-04T07:34:47.084069",
     "status": "completed"
    },
    "tags": []
   },
   "source": [
    "**Correlation of Numerical columns with Price**"
   ]
  },
  {
   "cell_type": "code",
   "execution_count": 36,
   "id": "703120a9",
   "metadata": {
    "execution": {
     "iopub.execute_input": "2023-06-04T07:34:47.157440Z",
     "iopub.status.busy": "2023-06-04T07:34:47.157069Z",
     "iopub.status.idle": "2023-06-04T07:34:47.380357Z",
     "shell.execute_reply": "2023-06-04T07:34:47.379351Z"
    },
    "papermill": {
     "duration": 0.250391,
     "end_time": "2023-06-04T07:34:47.382391",
     "exception": false,
     "start_time": "2023-06-04T07:34:47.132000",
     "status": "completed"
    },
    "tags": []
   },
   "outputs": [
    {
     "data": {
      "text/plain": [
       "<Axes: xlabel='touch_screen', ylabel='Price_euros'>"
      ]
     },
     "execution_count": 36,
     "metadata": {},
     "output_type": "execute_result"
    },
    {
     "data": {
      "image/png": "[encoded data removed]",
      "text/plain": [
       "<Figure size 640x480 with 1 Axes>"
      ]
     },
     "metadata": {},
     "output_type": "display_data"
    }
   ],
   "source": [
    "sns.barplot(x=df['touch_screen'],y=df['Price_euros'])"
   ]
  },
  {
   "cell_type": "code",
   "execution_count": 37,
   "id": "92248ce9",
   "metadata": {
    "execution": {
     "iopub.execute_input": "2023-06-04T07:34:47.431327Z",
     "iopub.status.busy": "2023-06-04T07:34:47.430948Z",
     "iopub.status.idle": "2023-06-04T07:34:47.737867Z",
     "shell.execute_reply": "2023-06-04T07:34:47.736688Z"
    },
    "papermill": {
     "duration": 0.3334,
     "end_time": "2023-06-04T07:34:47.739904",
     "exception": false,
     "start_time": "2023-06-04T07:34:47.406504",
     "status": "completed"
    },
    "tags": []
   },
   "outputs": [
    {
     "data": {
      "text/plain": [
       "<Axes: >"
      ]
     },
     "execution_count": 37,
     "metadata": {},
     "output_type": "execute_result"
    },
    {
     "data": {
      "image/png": "[encoded data removed]",
      "text/plain": [
       "<Figure size 640x480 with 1 Axes>"
      ]
     },
     "metadata": {},
     "output_type": "display_data"
    }
   ],
   "source": [
    "df['IPS_display'].value_counts().plot(kind='bar')"
   ]
  },
  {
   "cell_type": "code",
   "execution_count": 38,
   "id": "d244af28",
   "metadata": {
    "execution": {
     "iopub.execute_input": "2023-06-04T07:34:47.792522Z",
     "iopub.status.busy": "2023-06-04T07:34:47.792169Z",
     "iopub.status.idle": "2023-06-04T07:34:48.003060Z",
     "shell.execute_reply": "2023-06-04T07:34:48.002167Z"
    },
    "papermill": {
     "duration": 0.239169,
     "end_time": "2023-06-04T07:34:48.004908",
     "exception": false,
     "start_time": "2023-06-04T07:34:47.765739",
     "status": "completed"
    },
    "tags": []
   },
   "outputs": [
    {
     "data": {
      "text/plain": [
       "<Axes: xlabel='IPS_display', ylabel='Price_euros'>"
      ]
     },
     "execution_count": 38,
     "metadata": {},
     "output_type": "execute_result"
    },
    {
     "data": {
      "image/png": "[encoded data removed]",
      "text/plain": [
       "<Figure size 640x480 with 1 Axes>"
      ]
     },
     "metadata": {},
     "output_type": "display_data"
    }
   ],
   "source": [
    "sns.barplot(x=df['IPS_display'],y=df['Price_euros'])"
   ]
  },
  {
   "cell_type": "markdown",
   "id": "a53dd0d0",
   "metadata": {
    "papermill": {
     "duration": 0.025011,
     "end_time": "2023-06-04T07:34:48.055212",
     "exception": false,
     "start_time": "2023-06-04T07:34:48.030201",
     "status": "completed"
    },
    "tags": []
   },
   "source": [
    "**Now we create PPI(Pixel Per Inch) column from `X_res,y_res and Inches` . The purpose of creating the`PPI` column is to measure the pixel density of the laptop's display, providing a metric that quantifies the number of pixels per inch**"
   ]
  },
  {
   "cell_type": "code",
   "execution_count": 39,
   "id": "0a93bc9d",
   "metadata": {
    "execution": {
     "iopub.execute_input": "2023-06-04T07:34:48.107524Z",
     "iopub.status.busy": "2023-06-04T07:34:48.106667Z",
     "iopub.status.idle": "2023-06-04T07:34:48.113490Z",
     "shell.execute_reply": "2023-06-04T07:34:48.112151Z"
    },
    "papermill": {
     "duration": 0.035406,
     "end_time": "2023-06-04T07:34:48.115784",
     "exception": false,
     "start_time": "2023-06-04T07:34:48.080378",
     "status": "completed"
    },
    "tags": []
   },
   "outputs": [],
   "source": [
    "df['PPI']= (((df['X_res']**2) + (df['y_res']**2))**0.5/df['Inches']).astype(float)"
   ]
  },
  {
   "cell_type": "code",
   "execution_count": 40,
   "id": "758cd588",
   "metadata": {
    "execution": {
     "iopub.execute_input": "2023-06-04T07:34:48.167072Z",
     "iopub.status.busy": "2023-06-04T07:34:48.165907Z",
     "iopub.status.idle": "2023-06-04T07:34:48.171633Z",
     "shell.execute_reply": "2023-06-04T07:34:48.170394Z"
    },
    "papermill": {
     "duration": 0.033187,
     "end_time": "2023-06-04T07:34:48.173539",
     "exception": false,
     "start_time": "2023-06-04T07:34:48.140352",
     "status": "completed"
    },
    "tags": []
   },
   "outputs": [],
   "source": [
    "df['PPI']=round(df['PPI'],2)"
   ]
  },
  {
   "cell_type": "code",
   "execution_count": 41,
   "id": "006a7fdd",
   "metadata": {
    "execution": {
     "iopub.execute_input": "2023-06-04T07:34:48.223987Z",
     "iopub.status.busy": "2023-06-04T07:34:48.223592Z",
     "iopub.status.idle": "2023-06-04T07:34:48.242779Z",
     "shell.execute_reply": "2023-06-04T07:34:48.241279Z"
    },
    "papermill": {
     "duration": 0.047131,
     "end_time": "2023-06-04T07:34:48.245191",
     "exception": false,
     "start_time": "2023-06-04T07:34:48.198060",
     "status": "completed"
    },
    "tags": []
   },
   "outputs": [
    {
     "data": {
      "text/html": [
       "<div>\n",
       "<style scoped>\n",
       "    .dataframe tbody tr th:only-of-type {\n",
       "        vertical-align: middle;\n",
       "    }\n",
       "\n",
       "    .dataframe tbody tr th {\n",
       "        vertical-align: top;\n",
       "    }\n",
       "\n",
       "    .dataframe thead th {\n",
       "        text-align: right;\n",
       "    }\n",
       "</style>\n",
       "<table border=\"1\" class=\"dataframe\">\n",
       "  <thead>\n",
       "    <tr style=\"text-align: right;\">\n",
       "      <th></th>\n",
       "      <th>laptop_ID</th>\n",
       "      <th>Company</th>\n",
       "      <th>Product</th>\n",
       "      <th>TypeName</th>\n",
       "      <th>Inches</th>\n",
       "      <th>ScreenResolution</th>\n",
       "      <th>Cpu</th>\n",
       "      <th>Ram</th>\n",
       "      <th>Memory</th>\n",
       "      <th>Gpu</th>\n",
       "      <th>OpSys</th>\n",
       "      <th>Weight</th>\n",
       "      <th>Price_euros</th>\n",
       "      <th>touch_screen</th>\n",
       "      <th>IPS_display</th>\n",
       "      <th>X_res</th>\n",
       "      <th>y_res</th>\n",
       "      <th>PPI</th>\n",
       "    </tr>\n",
       "  </thead>\n",
       "  <tbody>\n",
       "    <tr>\n",
       "      <th>0</th>\n",
       "      <td>1</td>\n",
       "      <td>Apple</td>\n",
       "      <td>MacBook Pro</td>\n",
       "      <td>Ultrabook</td>\n",
       "      <td>13.3</td>\n",
       "      <td>IPS Panel Retina Display 2560x1600</td>\n",
       "      <td>Intel Core i5 2.3GHz</td>\n",
       "      <td>8</td>\n",
       "      <td>128GB SSD</td>\n",
       "      <td>Intel Iris Plus Graphics 640</td>\n",
       "      <td>macOS</td>\n",
       "      <td>1.37</td>\n",
       "      <td>1339.69</td>\n",
       "      <td>0</td>\n",
       "      <td>1</td>\n",
       "      <td>2560</td>\n",
       "      <td>1600</td>\n",
       "      <td>226.98</td>\n",
       "    </tr>\n",
       "    <tr>\n",
       "      <th>1</th>\n",
       "      <td>2</td>\n",
       "      <td>Apple</td>\n",
       "      <td>Macbook Air</td>\n",
       "      <td>Ultrabook</td>\n",
       "      <td>13.3</td>\n",
       "      <td>1440x900</td>\n",
       "      <td>Intel Core i5 1.8GHz</td>\n",
       "      <td>8</td>\n",
       "      <td>128GB Flash Storage</td>\n",
       "      <td>Intel HD Graphics 6000</td>\n",
       "      <td>macOS</td>\n",
       "      <td>1.34</td>\n",
       "      <td>898.94</td>\n",
       "      <td>0</td>\n",
       "      <td>0</td>\n",
       "      <td>1440</td>\n",
       "      <td>900</td>\n",
       "      <td>127.68</td>\n",
       "    </tr>\n",
       "    <tr>\n",
       "      <th>2</th>\n",
       "      <td>3</td>\n",
       "      <td>HP</td>\n",
       "      <td>250 G6</td>\n",
       "      <td>Notebook</td>\n",
       "      <td>15.6</td>\n",
       "      <td>Full HD 1920x1080</td>\n",
       "      <td>Intel Core i5 7200U 2.5GHz</td>\n",
       "      <td>8</td>\n",
       "      <td>256GB SSD</td>\n",
       "      <td>Intel HD Graphics 620</td>\n",
       "      <td>No OS</td>\n",
       "      <td>1.86</td>\n",
       "      <td>575.00</td>\n",
       "      <td>0</td>\n",
       "      <td>0</td>\n",
       "      <td>1920</td>\n",
       "      <td>1080</td>\n",
       "      <td>141.21</td>\n",
       "    </tr>\n",
       "    <tr>\n",
       "      <th>3</th>\n",
       "      <td>4</td>\n",
       "      <td>Apple</td>\n",
       "      <td>MacBook Pro</td>\n",
       "      <td>Ultrabook</td>\n",
       "      <td>15.4</td>\n",
       "      <td>IPS Panel Retina Display 2880x1800</td>\n",
       "      <td>Intel Core i7 2.7GHz</td>\n",
       "      <td>16</td>\n",
       "      <td>512GB SSD</td>\n",
       "      <td>AMD Radeon Pro 455</td>\n",
       "      <td>macOS</td>\n",
       "      <td>1.83</td>\n",
       "      <td>2537.45</td>\n",
       "      <td>0</td>\n",
       "      <td>1</td>\n",
       "      <td>2880</td>\n",
       "      <td>1800</td>\n",
       "      <td>220.53</td>\n",
       "    </tr>\n",
       "    <tr>\n",
       "      <th>4</th>\n",
       "      <td>5</td>\n",
       "      <td>Apple</td>\n",
       "      <td>MacBook Pro</td>\n",
       "      <td>Ultrabook</td>\n",
       "      <td>13.3</td>\n",
       "      <td>IPS Panel Retina Display 2560x1600</td>\n",
       "      <td>Intel Core i5 3.1GHz</td>\n",
       "      <td>8</td>\n",
       "      <td>256GB SSD</td>\n",
       "      <td>Intel Iris Plus Graphics 650</td>\n",
       "      <td>macOS</td>\n",
       "      <td>1.37</td>\n",
       "      <td>1803.60</td>\n",
       "      <td>0</td>\n",
       "      <td>1</td>\n",
       "      <td>2560</td>\n",
       "      <td>1600</td>\n",
       "      <td>226.98</td>\n",
       "    </tr>\n",
       "  </tbody>\n",
       "</table>\n",
       "</div>"
      ],
      "text/plain": [
       "   laptop_ID Company      Product   TypeName  Inches  \\\n",
       "0          1   Apple  MacBook Pro  Ultrabook    13.3   \n",
       "1          2   Apple  Macbook Air  Ultrabook    13.3   \n",
       "2          3      HP       250 G6   Notebook    15.6   \n",
       "3          4   Apple  MacBook Pro  Ultrabook    15.4   \n",
       "4          5   Apple  MacBook Pro  Ultrabook    13.3   \n",
       "\n",
       "                     ScreenResolution                         Cpu  Ram  \\\n",
       "0  IPS Panel Retina Display 2560x1600        Intel Core i5 2.3GHz    8   \n",
       "1                            1440x900        Intel Core i5 1.8GHz    8   \n",
       "2                   Full HD 1920x1080  Intel Core i5 7200U 2.5GHz    8   \n",
       "3  IPS Panel Retina Display 2880x1800        Intel Core i7 2.7GHz   16   \n",
       "4  IPS Panel Retina Display 2560x1600        Intel Core i5 3.1GHz    8   \n",
       "\n",
       "                Memory                           Gpu  OpSys  Weight  \\\n",
       "0            128GB SSD  Intel Iris Plus Graphics 640  macOS    1.37   \n",
       "1  128GB Flash Storage        Intel HD Graphics 6000  macOS    1.34   \n",
       "2            256GB SSD         Intel HD Graphics 620  No OS    1.86   \n",
       "3            512GB SSD            AMD Radeon Pro 455  macOS    1.83   \n",
       "4            256GB SSD  Intel Iris Plus Graphics 650  macOS    1.37   \n",
       "\n",
       "   Price_euros  touch_screen  IPS_display  X_res  y_res     PPI  \n",
       "0      1339.69             0            1   2560   1600  226.98  \n",
       "1       898.94             0            0   1440    900  127.68  \n",
       "2       575.00             0            0   1920   1080  141.21  \n",
       "3      2537.45             0            1   2880   1800  220.53  \n",
       "4      1803.60             0            1   2560   1600  226.98  "
      ]
     },
     "execution_count": 41,
     "metadata": {},
     "output_type": "execute_result"
    }
   ],
   "source": [
    "df.head()"
   ]
  },
  {
   "cell_type": "code",
   "execution_count": 42,
   "id": "e5c111f7",
   "metadata": {
    "execution": {
     "iopub.execute_input": "2023-06-04T07:34:48.298627Z",
     "iopub.status.busy": "2023-06-04T07:34:48.298308Z",
     "iopub.status.idle": "2023-06-04T07:34:48.310997Z",
     "shell.execute_reply": "2023-06-04T07:34:48.309950Z"
    },
    "papermill": {
     "duration": 0.040717,
     "end_time": "2023-06-04T07:34:48.312761",
     "exception": false,
     "start_time": "2023-06-04T07:34:48.272044",
     "status": "completed"
    },
    "tags": []
   },
   "outputs": [
    {
     "name": "stderr",
     "output_type": "stream",
     "text": [
      "/tmp/ipykernel_20/3066472675.py:1: FutureWarning: The default value of numeric_only in DataFrame.corr is deprecated. In a future version, it will default to False. Select only valid columns or specify the value of numeric_only to silence this warning.\n",
      "  pd.DataFrame(df.corr()['Price_euros'])\n"
     ]
    },
    {
     "data": {
      "text/html": [
       "<div>\n",
       "<style scoped>\n",
       "    .dataframe tbody tr th:only-of-type {\n",
       "        vertical-align: middle;\n",
       "    }\n",
       "\n",
       "    .dataframe tbody tr th {\n",
       "        vertical-align: top;\n",
       "    }\n",
       "\n",
       "    .dataframe thead th {\n",
       "        text-align: right;\n",
       "    }\n",
       "</style>\n",
       "<table border=\"1\" class=\"dataframe\">\n",
       "  <thead>\n",
       "    <tr style=\"text-align: right;\">\n",
       "      <th></th>\n",
       "      <th>Price_euros</th>\n",
       "    </tr>\n",
       "  </thead>\n",
       "  <tbody>\n",
       "    <tr>\n",
       "      <th>laptop_ID</th>\n",
       "      <td>0.067830</td>\n",
       "    </tr>\n",
       "    <tr>\n",
       "      <th>Inches</th>\n",
       "      <td>0.068197</td>\n",
       "    </tr>\n",
       "    <tr>\n",
       "      <th>Ram</th>\n",
       "      <td>0.743007</td>\n",
       "    </tr>\n",
       "    <tr>\n",
       "      <th>Weight</th>\n",
       "      <td>0.210370</td>\n",
       "    </tr>\n",
       "    <tr>\n",
       "      <th>Price_euros</th>\n",
       "      <td>1.000000</td>\n",
       "    </tr>\n",
       "    <tr>\n",
       "      <th>touch_screen</th>\n",
       "      <td>0.191226</td>\n",
       "    </tr>\n",
       "    <tr>\n",
       "      <th>IPS_display</th>\n",
       "      <td>0.252208</td>\n",
       "    </tr>\n",
       "    <tr>\n",
       "      <th>X_res</th>\n",
       "      <td>0.363806</td>\n",
       "    </tr>\n",
       "    <tr>\n",
       "      <th>y_res</th>\n",
       "      <td>0.552809</td>\n",
       "    </tr>\n",
       "    <tr>\n",
       "      <th>PPI</th>\n",
       "      <td>0.351860</td>\n",
       "    </tr>\n",
       "  </tbody>\n",
       "</table>\n",
       "</div>"
      ],
      "text/plain": [
       "              Price_euros\n",
       "laptop_ID        0.067830\n",
       "Inches           0.068197\n",
       "Ram              0.743007\n",
       "Weight           0.210370\n",
       "Price_euros      1.000000\n",
       "touch_screen     0.191226\n",
       "IPS_display      0.252208\n",
       "X_res            0.363806\n",
       "y_res            0.552809\n",
       "PPI              0.351860"
      ]
     },
     "execution_count": 42,
     "metadata": {},
     "output_type": "execute_result"
    }
   ],
   "source": [
    "pd.DataFrame(df.corr()['Price_euros'])"
   ]
  },
  {
   "cell_type": "markdown",
   "id": "dbd33c67",
   "metadata": {
    "papermill": {
     "duration": 0.025486,
     "end_time": "2023-06-04T07:34:48.362887",
     "exception": false,
     "start_time": "2023-06-04T07:34:48.337401",
     "status": "completed"
    },
    "tags": []
   },
   "source": [
    "**Next, focus on performing feature engineering on the `CPU`.**"
   ]
  },
  {
   "cell_type": "code",
   "execution_count": 43,
   "id": "3032f759",
   "metadata": {
    "execution": {
     "iopub.execute_input": "2023-06-04T07:34:48.414483Z",
     "iopub.status.busy": "2023-06-04T07:34:48.413935Z",
     "iopub.status.idle": "2023-06-04T07:34:48.420325Z",
     "shell.execute_reply": "2023-06-04T07:34:48.419756Z"
    },
    "papermill": {
     "duration": 0.03444,
     "end_time": "2023-06-04T07:34:48.422357",
     "exception": false,
     "start_time": "2023-06-04T07:34:48.387917",
     "status": "completed"
    },
    "tags": []
   },
   "outputs": [
    {
     "data": {
      "text/plain": [
       "Intel Core i5 7200U 2.5GHz       190\n",
       "Intel Core i7 7700HQ 2.8GHz      146\n",
       "Intel Core i7 7500U 2.7GHz       134\n",
       "Intel Core i7 8550U 1.8GHz        73\n",
       "Intel Core i5 8250U 1.6GHz        72\n",
       "                                ... \n",
       "Intel Core M M3-6Y30 0.9GHz        1\n",
       "AMD A9-Series 9420 2.9GHz          1\n",
       "Intel Core i3 6006U 2.2GHz         1\n",
       "AMD A6-Series 7310 2GHz            1\n",
       "Intel Xeon E3-1535M v6 3.1GHz      1\n",
       "Name: Cpu, Length: 118, dtype: int64"
      ]
     },
     "execution_count": 43,
     "metadata": {},
     "output_type": "execute_result"
    }
   ],
   "source": [
    "df['Cpu'].value_counts()"
   ]
  },
  {
   "cell_type": "code",
   "execution_count": 44,
   "id": "fe7cbc7e",
   "metadata": {
    "execution": {
     "iopub.execute_input": "2023-06-04T07:34:48.475610Z",
     "iopub.status.busy": "2023-06-04T07:34:48.474847Z",
     "iopub.status.idle": "2023-06-04T07:34:48.482027Z",
     "shell.execute_reply": "2023-06-04T07:34:48.481007Z"
    },
    "papermill": {
     "duration": 0.03604,
     "end_time": "2023-06-04T07:34:48.483854",
     "exception": false,
     "start_time": "2023-06-04T07:34:48.447814",
     "status": "completed"
    },
    "tags": []
   },
   "outputs": [],
   "source": [
    "df['CPU_name']= df['Cpu'].apply(lambda x:\"\".join(x.split()[:3]))"
   ]
  },
  {
   "cell_type": "code",
   "execution_count": 45,
   "id": "edd3db24",
   "metadata": {
    "execution": {
     "iopub.execute_input": "2023-06-04T07:34:48.536853Z",
     "iopub.status.busy": "2023-06-04T07:34:48.535988Z",
     "iopub.status.idle": "2023-06-04T07:34:48.559227Z",
     "shell.execute_reply": "2023-06-04T07:34:48.557955Z"
    },
    "papermill": {
     "duration": 0.052007,
     "end_time": "2023-06-04T07:34:48.561283",
     "exception": false,
     "start_time": "2023-06-04T07:34:48.509276",
     "status": "completed"
    },
    "tags": []
   },
   "outputs": [
    {
     "data": {
      "text/html": [
       "<div>\n",
       "<style scoped>\n",
       "    .dataframe tbody tr th:only-of-type {\n",
       "        vertical-align: middle;\n",
       "    }\n",
       "\n",
       "    .dataframe tbody tr th {\n",
       "        vertical-align: top;\n",
       "    }\n",
       "\n",
       "    .dataframe thead th {\n",
       "        text-align: right;\n",
       "    }\n",
       "</style>\n",
       "<table border=\"1\" class=\"dataframe\">\n",
       "  <thead>\n",
       "    <tr style=\"text-align: right;\">\n",
       "      <th></th>\n",
       "      <th>laptop_ID</th>\n",
       "      <th>Company</th>\n",
       "      <th>Product</th>\n",
       "      <th>TypeName</th>\n",
       "      <th>Inches</th>\n",
       "      <th>ScreenResolution</th>\n",
       "      <th>Cpu</th>\n",
       "      <th>Ram</th>\n",
       "      <th>Memory</th>\n",
       "      <th>Gpu</th>\n",
       "      <th>OpSys</th>\n",
       "      <th>Weight</th>\n",
       "      <th>Price_euros</th>\n",
       "      <th>touch_screen</th>\n",
       "      <th>IPS_display</th>\n",
       "      <th>X_res</th>\n",
       "      <th>y_res</th>\n",
       "      <th>PPI</th>\n",
       "      <th>CPU_name</th>\n",
       "    </tr>\n",
       "  </thead>\n",
       "  <tbody>\n",
       "    <tr>\n",
       "      <th>1073</th>\n",
       "      <td>1088</td>\n",
       "      <td>HP</td>\n",
       "      <td>ProBook 430</td>\n",
       "      <td>Notebook</td>\n",
       "      <td>13.3</td>\n",
       "      <td>Full HD 1920x1080</td>\n",
       "      <td>Intel Core i7 7500U 2.7GHz</td>\n",
       "      <td>8</td>\n",
       "      <td>256GB SSD</td>\n",
       "      <td>Intel HD Graphics 620</td>\n",
       "      <td>Windows 10</td>\n",
       "      <td>1.49</td>\n",
       "      <td>1090.0</td>\n",
       "      <td>0</td>\n",
       "      <td>0</td>\n",
       "      <td>1920</td>\n",
       "      <td>1080</td>\n",
       "      <td>165.63</td>\n",
       "      <td>IntelCorei7</td>\n",
       "    </tr>\n",
       "    <tr>\n",
       "      <th>243</th>\n",
       "      <td>248</td>\n",
       "      <td>Dell</td>\n",
       "      <td>Inspiron 5577</td>\n",
       "      <td>Gaming</td>\n",
       "      <td>15.6</td>\n",
       "      <td>Full HD 1920x1080</td>\n",
       "      <td>Intel Core i5 7300HQ 2.5GHz</td>\n",
       "      <td>8</td>\n",
       "      <td>256GB SSD</td>\n",
       "      <td>Nvidia GeForce GTX 1050</td>\n",
       "      <td>Windows 10</td>\n",
       "      <td>2.56</td>\n",
       "      <td>879.0</td>\n",
       "      <td>0</td>\n",
       "      <td>0</td>\n",
       "      <td>1920</td>\n",
       "      <td>1080</td>\n",
       "      <td>141.21</td>\n",
       "      <td>IntelCorei5</td>\n",
       "    </tr>\n",
       "    <tr>\n",
       "      <th>408</th>\n",
       "      <td>415</td>\n",
       "      <td>Lenovo</td>\n",
       "      <td>IdeaPad 320-15ISK</td>\n",
       "      <td>Notebook</td>\n",
       "      <td>15.6</td>\n",
       "      <td>Full HD 1920x1080</td>\n",
       "      <td>Intel Core i3 6006U 2GHz</td>\n",
       "      <td>4</td>\n",
       "      <td>500GB HDD</td>\n",
       "      <td>Intel HD Graphics 520</td>\n",
       "      <td>Windows 10</td>\n",
       "      <td>2.20</td>\n",
       "      <td>409.0</td>\n",
       "      <td>0</td>\n",
       "      <td>0</td>\n",
       "      <td>1920</td>\n",
       "      <td>1080</td>\n",
       "      <td>141.21</td>\n",
       "      <td>IntelCorei3</td>\n",
       "    </tr>\n",
       "    <tr>\n",
       "      <th>1127</th>\n",
       "      <td>1142</td>\n",
       "      <td>HP</td>\n",
       "      <td>EliteBook 820</td>\n",
       "      <td>Ultrabook</td>\n",
       "      <td>12.5</td>\n",
       "      <td>1366x768</td>\n",
       "      <td>Intel Core i5 6300U 2.4GHz</td>\n",
       "      <td>8</td>\n",
       "      <td>256GB SSD</td>\n",
       "      <td>Intel HD Graphics 520</td>\n",
       "      <td>Windows 7</td>\n",
       "      <td>1.26</td>\n",
       "      <td>1895.0</td>\n",
       "      <td>0</td>\n",
       "      <td>0</td>\n",
       "      <td>1366</td>\n",
       "      <td>768</td>\n",
       "      <td>125.37</td>\n",
       "      <td>IntelCorei5</td>\n",
       "    </tr>\n",
       "    <tr>\n",
       "      <th>564</th>\n",
       "      <td>571</td>\n",
       "      <td>Asus</td>\n",
       "      <td>FX553VD-DM627T (i5-7300HQ/8GB/1TB</td>\n",
       "      <td>Notebook</td>\n",
       "      <td>15.6</td>\n",
       "      <td>Full HD 1920x1080</td>\n",
       "      <td>Intel Core i5 7300HQ 2.5GHz</td>\n",
       "      <td>8</td>\n",
       "      <td>128GB SSD +  1TB HDD</td>\n",
       "      <td>Nvidia GeForce GTX 1050</td>\n",
       "      <td>Windows 10</td>\n",
       "      <td>2.50</td>\n",
       "      <td>839.0</td>\n",
       "      <td>0</td>\n",
       "      <td>0</td>\n",
       "      <td>1920</td>\n",
       "      <td>1080</td>\n",
       "      <td>141.21</td>\n",
       "      <td>IntelCorei5</td>\n",
       "    </tr>\n",
       "    <tr>\n",
       "      <th>345</th>\n",
       "      <td>351</td>\n",
       "      <td>Lenovo</td>\n",
       "      <td>Legion Y520-15IKBN</td>\n",
       "      <td>Gaming</td>\n",
       "      <td>15.6</td>\n",
       "      <td>IPS Panel Full HD 1920x1080</td>\n",
       "      <td>Intel Core i7 7700HQ 2.8GHz</td>\n",
       "      <td>16</td>\n",
       "      <td>256GB SSD +  2TB HDD</td>\n",
       "      <td>Nvidia GeForce GTX 1050 Ti</td>\n",
       "      <td>Windows 10</td>\n",
       "      <td>2.40</td>\n",
       "      <td>1129.0</td>\n",
       "      <td>0</td>\n",
       "      <td>1</td>\n",
       "      <td>1920</td>\n",
       "      <td>1080</td>\n",
       "      <td>141.21</td>\n",
       "      <td>IntelCorei7</td>\n",
       "    </tr>\n",
       "    <tr>\n",
       "      <th>674</th>\n",
       "      <td>682</td>\n",
       "      <td>HP</td>\n",
       "      <td>Pavilion X360</td>\n",
       "      <td>2 in 1 Convertible</td>\n",
       "      <td>14.0</td>\n",
       "      <td>IPS Panel Full HD / Touchscreen 1920x1080</td>\n",
       "      <td>Intel Core i3 7100U 2.4GHz</td>\n",
       "      <td>4</td>\n",
       "      <td>128GB SSD</td>\n",
       "      <td>Nvidia GeForce 940MX</td>\n",
       "      <td>Windows 10</td>\n",
       "      <td>1.63</td>\n",
       "      <td>699.0</td>\n",
       "      <td>1</td>\n",
       "      <td>1</td>\n",
       "      <td>1920</td>\n",
       "      <td>1080</td>\n",
       "      <td>157.35</td>\n",
       "      <td>IntelCorei3</td>\n",
       "    </tr>\n",
       "  </tbody>\n",
       "</table>\n",
       "</div>"
      ],
      "text/plain": [
       "      laptop_ID Company                            Product  \\\n",
       "1073       1088      HP                        ProBook 430   \n",
       "243         248    Dell                      Inspiron 5577   \n",
       "408         415  Lenovo                  IdeaPad 320-15ISK   \n",
       "1127       1142      HP                      EliteBook 820   \n",
       "564         571    Asus  FX553VD-DM627T (i5-7300HQ/8GB/1TB   \n",
       "345         351  Lenovo                 Legion Y520-15IKBN   \n",
       "674         682      HP                      Pavilion X360   \n",
       "\n",
       "                TypeName  Inches                           ScreenResolution  \\\n",
       "1073            Notebook    13.3                          Full HD 1920x1080   \n",
       "243               Gaming    15.6                          Full HD 1920x1080   \n",
       "408             Notebook    15.6                          Full HD 1920x1080   \n",
       "1127           Ultrabook    12.5                                   1366x768   \n",
       "564             Notebook    15.6                          Full HD 1920x1080   \n",
       "345               Gaming    15.6                IPS Panel Full HD 1920x1080   \n",
       "674   2 in 1 Convertible    14.0  IPS Panel Full HD / Touchscreen 1920x1080   \n",
       "\n",
       "                              Cpu  Ram                Memory  \\\n",
       "1073   Intel Core i7 7500U 2.7GHz    8             256GB SSD   \n",
       "243   Intel Core i5 7300HQ 2.5GHz    8             256GB SSD   \n",
       "408      Intel Core i3 6006U 2GHz    4             500GB HDD   \n",
       "1127   Intel Core i5 6300U 2.4GHz    8             256GB SSD   \n",
       "564   Intel Core i5 7300HQ 2.5GHz    8  128GB SSD +  1TB HDD   \n",
       "345   Intel Core i7 7700HQ 2.8GHz   16  256GB SSD +  2TB HDD   \n",
       "674    Intel Core i3 7100U 2.4GHz    4             128GB SSD   \n",
       "\n",
       "                             Gpu       OpSys  Weight  Price_euros  \\\n",
       "1073       Intel HD Graphics 620  Windows 10    1.49       1090.0   \n",
       "243      Nvidia GeForce GTX 1050  Windows 10    2.56        879.0   \n",
       "408        Intel HD Graphics 520  Windows 10    2.20        409.0   \n",
       "1127       Intel HD Graphics 520   Windows 7    1.26       1895.0   \n",
       "564      Nvidia GeForce GTX 1050  Windows 10    2.50        839.0   \n",
       "345   Nvidia GeForce GTX 1050 Ti  Windows 10    2.40       1129.0   \n",
       "674         Nvidia GeForce 940MX  Windows 10    1.63        699.0   \n",
       "\n",
       "      touch_screen  IPS_display  X_res  y_res     PPI     CPU_name  \n",
       "1073             0            0   1920   1080  165.63  IntelCorei7  \n",
       "243              0            0   1920   1080  141.21  IntelCorei5  \n",
       "408              0            0   1920   1080  141.21  IntelCorei3  \n",
       "1127             0            0   1366    768  125.37  IntelCorei5  \n",
       "564              0            0   1920   1080  141.21  IntelCorei5  \n",
       "345              0            1   1920   1080  141.21  IntelCorei7  \n",
       "674              1            1   1920   1080  157.35  IntelCorei3  "
      ]
     },
     "execution_count": 45,
     "metadata": {},
     "output_type": "execute_result"
    }
   ],
   "source": [
    "df.sample(7)"
   ]
  },
  {
   "cell_type": "code",
   "execution_count": 46,
   "id": "297d66e8",
   "metadata": {
    "execution": {
     "iopub.execute_input": "2023-06-04T07:34:48.616831Z",
     "iopub.status.busy": "2023-06-04T07:34:48.616502Z",
     "iopub.status.idle": "2023-06-04T07:34:48.623703Z",
     "shell.execute_reply": "2023-06-04T07:34:48.622567Z"
    },
    "papermill": {
     "duration": 0.03779,
     "end_time": "2023-06-04T07:34:48.625449",
     "exception": false,
     "start_time": "2023-06-04T07:34:48.587659",
     "status": "completed"
    },
    "tags": []
   },
   "outputs": [
    {
     "data": {
      "text/plain": [
       "array(['IntelCorei5', 'IntelCorei7', 'AMDA9-Series9420', 'IntelCorei3',\n",
       "       'IntelCoreM', 'IntelAtomx5-Z8350', 'AMDE-SeriesE2-9000e',\n",
       "       'IntelAtomx5-Z8300', 'AMDE-SeriesE2-6110', 'AMDA6-Series9220',\n",
       "       'IntelCeleronDual', 'AMDRyzen1700', 'IntelPentiumQuad',\n",
       "       'IntelAtomx5-Z8550', 'AMDFX9830P', 'AMDE-Series6110',\n",
       "       'IntelXeonE3-1505M', 'AMDE-Series9000e', 'AMDA10-SeriesA10-9620P',\n",
       "       'AMDA6-SeriesA6-9220', 'AMDA10-Series9600P', 'AMDA8-Series7410',\n",
       "       'AMDA12-Series9720P', 'IntelCeleronQuad', 'AMDRyzen1600',\n",
       "       'AMDA10-Series9620P', 'AMDE-Series7110', 'AMDA9-SeriesA9-9420',\n",
       "       'IntelXeonE3-1535M', 'AMDE-SeriesE2-9000', 'AMDA6-Series7310',\n",
       "       'IntelAtomZ8350', 'IntelPentiumDual', 'AMDA12-Series9700P',\n",
       "       'AMDA4-Series7210', 'AMDFX8800P', 'IntelAtomX5-Z8350',\n",
       "       'SamsungCortexA72&A53', 'AMDE-Series9000', 'AMDA9-Series9410'],\n",
       "      dtype=object)"
      ]
     },
     "execution_count": 46,
     "metadata": {},
     "output_type": "execute_result"
    }
   ],
   "source": [
    "df['CPU_name'].unique()"
   ]
  },
  {
   "cell_type": "code",
   "execution_count": 47,
   "id": "8eefae1b",
   "metadata": {
    "execution": {
     "iopub.execute_input": "2023-06-04T07:34:48.680885Z",
     "iopub.status.busy": "2023-06-04T07:34:48.680180Z",
     "iopub.status.idle": "2023-06-04T07:34:48.685848Z",
     "shell.execute_reply": "2023-06-04T07:34:48.684694Z"
    },
    "papermill": {
     "duration": 0.036354,
     "end_time": "2023-06-04T07:34:48.688396",
     "exception": false,
     "start_time": "2023-06-04T07:34:48.652042",
     "status": "completed"
    },
    "tags": []
   },
   "outputs": [],
   "source": [
    "def processor(x):\n",
    "    if x=='IntelCorei5' or x== 'IntelCorei7'or x=='IntelCorei3':\n",
    "        return x\n",
    "    if x.split()[0]=='AMD':\n",
    "        return 'AMD Processor'\n",
    "    if x.split()[0]=='Intel':\n",
    "        return 'Other Intel Processor'\n",
    "    else:\n",
    "        return 'Samsung Processor'\n",
    "       \n",
    "    "
   ]
  },
  {
   "cell_type": "code",
   "execution_count": 48,
   "id": "5ce25aa8",
   "metadata": {
    "execution": {
     "iopub.execute_input": "2023-06-04T07:34:48.742070Z",
     "iopub.status.busy": "2023-06-04T07:34:48.741695Z",
     "iopub.status.idle": "2023-06-04T07:34:48.748502Z",
     "shell.execute_reply": "2023-06-04T07:34:48.747657Z"
    },
    "papermill": {
     "duration": 0.03581,
     "end_time": "2023-06-04T07:34:48.750418",
     "exception": false,
     "start_time": "2023-06-04T07:34:48.714608",
     "status": "completed"
    },
    "tags": []
   },
   "outputs": [],
   "source": [
    "df['CPU']= df['CPU_name'].apply(processor) "
   ]
  },
  {
   "cell_type": "markdown",
   "id": "ceef7074",
   "metadata": {
    "papermill": {
     "duration": 0.024742,
     "end_time": "2023-06-04T07:34:48.800819",
     "exception": false,
     "start_time": "2023-06-04T07:34:48.776077",
     "status": "completed"
    },
    "tags": []
   },
   "source": [
    "**Next step is performing feature engineering on the `Memory` column**"
   ]
  },
  {
   "cell_type": "code",
   "execution_count": 49,
   "id": "9f2019b9",
   "metadata": {
    "execution": {
     "iopub.execute_input": "2023-06-04T07:34:48.852896Z",
     "iopub.status.busy": "2023-06-04T07:34:48.852356Z",
     "iopub.status.idle": "2023-06-04T07:34:48.858530Z",
     "shell.execute_reply": "2023-06-04T07:34:48.857968Z"
    },
    "papermill": {
     "duration": 0.034391,
     "end_time": "2023-06-04T07:34:48.860277",
     "exception": false,
     "start_time": "2023-06-04T07:34:48.825886",
     "status": "completed"
    },
    "tags": []
   },
   "outputs": [
    {
     "data": {
      "text/plain": [
       "256GB SSD                        412\n",
       "1TB HDD                          223\n",
       "500GB HDD                        132\n",
       "512GB SSD                        118\n",
       "128GB SSD +  1TB HDD              94\n",
       "128GB SSD                         76\n",
       "256GB SSD +  1TB HDD              73\n",
       "32GB Flash Storage                38\n",
       "2TB HDD                           16\n",
       "64GB Flash Storage                15\n",
       "512GB SSD +  1TB HDD              14\n",
       "1TB SSD                           14\n",
       "256GB SSD +  2TB HDD              10\n",
       "1.0TB Hybrid                       9\n",
       "256GB Flash Storage                8\n",
       "16GB Flash Storage                 7\n",
       "32GB SSD                           6\n",
       "180GB SSD                          5\n",
       "128GB Flash Storage                4\n",
       "512GB SSD +  2TB HDD               3\n",
       "16GB SSD                           3\n",
       "512GB Flash Storage                2\n",
       "1TB SSD +  1TB HDD                 2\n",
       "256GB SSD +  500GB HDD             2\n",
       "128GB SSD +  2TB HDD               2\n",
       "256GB SSD +  256GB SSD             2\n",
       "512GB SSD +  256GB SSD             1\n",
       "512GB SSD +  512GB SSD             1\n",
       "64GB Flash Storage +  1TB HDD      1\n",
       "1TB HDD +  1TB HDD                 1\n",
       "32GB HDD                           1\n",
       "64GB SSD                           1\n",
       "128GB HDD                          1\n",
       "240GB SSD                          1\n",
       "8GB SSD                            1\n",
       "508GB Hybrid                       1\n",
       "1.0TB HDD                          1\n",
       "512GB SSD +  1.0TB Hybrid          1\n",
       "256GB SSD +  1.0TB Hybrid          1\n",
       "Name: Memory, dtype: int64"
      ]
     },
     "execution_count": 49,
     "metadata": {},
     "output_type": "execute_result"
    }
   ],
   "source": [
    "df.Memory.value_counts()"
   ]
  },
  {
   "cell_type": "code",
   "execution_count": 50,
   "id": "c544a81d",
   "metadata": {
    "execution": {
     "iopub.execute_input": "2023-06-04T07:34:48.914867Z",
     "iopub.status.busy": "2023-06-04T07:34:48.914295Z",
     "iopub.status.idle": "2023-06-04T07:34:48.936506Z",
     "shell.execute_reply": "2023-06-04T07:34:48.935818Z"
    },
    "papermill": {
     "duration": 0.05216,
     "end_time": "2023-06-04T07:34:48.938730",
     "exception": false,
     "start_time": "2023-06-04T07:34:48.886570",
     "status": "completed"
    },
    "tags": []
   },
   "outputs": [],
   "source": [
    "df['Memory'] = df['Memory'].astype(str).replace('\\.0', '', regex=True)\n",
    "df[\"Memory\"] = df[\"Memory\"].str.replace('GB', '')\n",
    "df[\"Memory\"] = df[\"Memory\"].str.replace('TB', '000')\n",
    "\n",
    "import re\n",
    "\n",
    "df['Hybrid'] = df['Memory'].apply(lambda x: re.findall(r'(\\d+) Hybrid', x)[0] if re.findall(r'(\\d+) Hybrid', x) else 0).astype(int)\n",
    "df['SSD'] = df['Memory'].apply(lambda x: re.findall(r'(\\d+) SSD', x)[0] if re.findall(r'(\\d+) SSD', x) else 0).astype(int)\n",
    "df['HDD'] = df['Memory'].apply(lambda x: re.findall(r'(\\d+) HDD', x)[0] if re.findall(r'(\\d+) HDD', x) else 0).astype(int)\n",
    "df['Flash_Storage'] = df['Memory'].apply(lambda x: re.findall(r'(\\d+) Flash Storage', x)[0] if re.findall(r'(\\d+) Flash Storage', x) else 0).astype(int)\n"
   ]
  },
  {
   "cell_type": "code",
   "execution_count": 51,
   "id": "9c2040b1",
   "metadata": {
    "execution": {
     "iopub.execute_input": "2023-06-04T07:34:48.992340Z",
     "iopub.status.busy": "2023-06-04T07:34:48.991943Z",
     "iopub.status.idle": "2023-06-04T07:34:49.011352Z",
     "shell.execute_reply": "2023-06-04T07:34:49.010682Z"
    },
    "papermill": {
     "duration": 0.048517,
     "end_time": "2023-06-04T07:34:49.013073",
     "exception": false,
     "start_time": "2023-06-04T07:34:48.964556",
     "status": "completed"
    },
    "tags": []
   },
   "outputs": [
    {
     "data": {
      "text/html": [
       "<div>\n",
       "<style scoped>\n",
       "    .dataframe tbody tr th:only-of-type {\n",
       "        vertical-align: middle;\n",
       "    }\n",
       "\n",
       "    .dataframe tbody tr th {\n",
       "        vertical-align: top;\n",
       "    }\n",
       "\n",
       "    .dataframe thead th {\n",
       "        text-align: right;\n",
       "    }\n",
       "</style>\n",
       "<table border=\"1\" class=\"dataframe\">\n",
       "  <thead>\n",
       "    <tr style=\"text-align: right;\">\n",
       "      <th></th>\n",
       "      <th>laptop_ID</th>\n",
       "      <th>Company</th>\n",
       "      <th>Product</th>\n",
       "      <th>TypeName</th>\n",
       "      <th>Inches</th>\n",
       "      <th>ScreenResolution</th>\n",
       "      <th>Cpu</th>\n",
       "      <th>Ram</th>\n",
       "      <th>Memory</th>\n",
       "      <th>Gpu</th>\n",
       "      <th>...</th>\n",
       "      <th>IPS_display</th>\n",
       "      <th>X_res</th>\n",
       "      <th>y_res</th>\n",
       "      <th>PPI</th>\n",
       "      <th>CPU_name</th>\n",
       "      <th>CPU</th>\n",
       "      <th>Hybrid</th>\n",
       "      <th>SSD</th>\n",
       "      <th>HDD</th>\n",
       "      <th>Flash_Storage</th>\n",
       "    </tr>\n",
       "  </thead>\n",
       "  <tbody>\n",
       "    <tr>\n",
       "      <th>0</th>\n",
       "      <td>1</td>\n",
       "      <td>Apple</td>\n",
       "      <td>MacBook Pro</td>\n",
       "      <td>Ultrabook</td>\n",
       "      <td>13.3</td>\n",
       "      <td>IPS Panel Retina Display 2560x1600</td>\n",
       "      <td>Intel Core i5 2.3GHz</td>\n",
       "      <td>8</td>\n",
       "      <td>128 SSD</td>\n",
       "      <td>Intel Iris Plus Graphics 640</td>\n",
       "      <td>...</td>\n",
       "      <td>1</td>\n",
       "      <td>2560</td>\n",
       "      <td>1600</td>\n",
       "      <td>226.98</td>\n",
       "      <td>IntelCorei5</td>\n",
       "      <td>IntelCorei5</td>\n",
       "      <td>0</td>\n",
       "      <td>128</td>\n",
       "      <td>0</td>\n",
       "      <td>0</td>\n",
       "    </tr>\n",
       "  </tbody>\n",
       "</table>\n",
       "<p>1 rows × 24 columns</p>\n",
       "</div>"
      ],
      "text/plain": [
       "   laptop_ID Company      Product   TypeName  Inches  \\\n",
       "0          1   Apple  MacBook Pro  Ultrabook    13.3   \n",
       "\n",
       "                     ScreenResolution                   Cpu  Ram   Memory  \\\n",
       "0  IPS Panel Retina Display 2560x1600  Intel Core i5 2.3GHz    8  128 SSD   \n",
       "\n",
       "                            Gpu  ... IPS_display  X_res  y_res     PPI  \\\n",
       "0  Intel Iris Plus Graphics 640  ...           1   2560   1600  226.98   \n",
       "\n",
       "      CPU_name          CPU  Hybrid  SSD HDD Flash_Storage  \n",
       "0  IntelCorei5  IntelCorei5       0  128   0             0  \n",
       "\n",
       "[1 rows x 24 columns]"
      ]
     },
     "execution_count": 51,
     "metadata": {},
     "output_type": "execute_result"
    }
   ],
   "source": [
    "df.head(1)"
   ]
  },
  {
   "cell_type": "code",
   "execution_count": 52,
   "id": "10eea486",
   "metadata": {
    "execution": {
     "iopub.execute_input": "2023-06-04T07:34:49.069070Z",
     "iopub.status.busy": "2023-06-04T07:34:49.068585Z",
     "iopub.status.idle": "2023-06-04T07:34:49.073947Z",
     "shell.execute_reply": "2023-06-04T07:34:49.072930Z"
    },
    "papermill": {
     "duration": 0.035836,
     "end_time": "2023-06-04T07:34:49.076208",
     "exception": false,
     "start_time": "2023-06-04T07:34:49.040372",
     "status": "completed"
    },
    "tags": []
   },
   "outputs": [],
   "source": [
    "df.drop(columns=['CPU_name','Memory','Cpu','laptop_ID','ScreenResolution','X_res','y_res','Product'],inplace=True)"
   ]
  },
  {
   "cell_type": "code",
   "execution_count": 53,
   "id": "0a08bf22",
   "metadata": {
    "execution": {
     "iopub.execute_input": "2023-06-04T07:34:49.131601Z",
     "iopub.status.busy": "2023-06-04T07:34:49.130839Z",
     "iopub.status.idle": "2023-06-04T07:34:49.145688Z",
     "shell.execute_reply": "2023-06-04T07:34:49.144872Z"
    },
    "papermill": {
     "duration": 0.044518,
     "end_time": "2023-06-04T07:34:49.147519",
     "exception": false,
     "start_time": "2023-06-04T07:34:49.103001",
     "status": "completed"
    },
    "tags": []
   },
   "outputs": [
    {
     "data": {
      "text/html": [
       "<div>\n",
       "<style scoped>\n",
       "    .dataframe tbody tr th:only-of-type {\n",
       "        vertical-align: middle;\n",
       "    }\n",
       "\n",
       "    .dataframe tbody tr th {\n",
       "        vertical-align: top;\n",
       "    }\n",
       "\n",
       "    .dataframe thead th {\n",
       "        text-align: right;\n",
       "    }\n",
       "</style>\n",
       "<table border=\"1\" class=\"dataframe\">\n",
       "  <thead>\n",
       "    <tr style=\"text-align: right;\">\n",
       "      <th></th>\n",
       "      <th>Company</th>\n",
       "      <th>TypeName</th>\n",
       "      <th>Inches</th>\n",
       "      <th>Ram</th>\n",
       "      <th>Gpu</th>\n",
       "      <th>OpSys</th>\n",
       "      <th>Weight</th>\n",
       "      <th>Price_euros</th>\n",
       "      <th>touch_screen</th>\n",
       "      <th>IPS_display</th>\n",
       "      <th>PPI</th>\n",
       "      <th>CPU</th>\n",
       "      <th>Hybrid</th>\n",
       "      <th>SSD</th>\n",
       "      <th>HDD</th>\n",
       "      <th>Flash_Storage</th>\n",
       "    </tr>\n",
       "  </thead>\n",
       "  <tbody>\n",
       "    <tr>\n",
       "      <th>0</th>\n",
       "      <td>Apple</td>\n",
       "      <td>Ultrabook</td>\n",
       "      <td>13.3</td>\n",
       "      <td>8</td>\n",
       "      <td>Intel Iris Plus Graphics 640</td>\n",
       "      <td>macOS</td>\n",
       "      <td>1.37</td>\n",
       "      <td>1339.69</td>\n",
       "      <td>0</td>\n",
       "      <td>1</td>\n",
       "      <td>226.98</td>\n",
       "      <td>IntelCorei5</td>\n",
       "      <td>0</td>\n",
       "      <td>128</td>\n",
       "      <td>0</td>\n",
       "      <td>0</td>\n",
       "    </tr>\n",
       "    <tr>\n",
       "      <th>1</th>\n",
       "      <td>Apple</td>\n",
       "      <td>Ultrabook</td>\n",
       "      <td>13.3</td>\n",
       "      <td>8</td>\n",
       "      <td>Intel HD Graphics 6000</td>\n",
       "      <td>macOS</td>\n",
       "      <td>1.34</td>\n",
       "      <td>898.94</td>\n",
       "      <td>0</td>\n",
       "      <td>0</td>\n",
       "      <td>127.68</td>\n",
       "      <td>IntelCorei5</td>\n",
       "      <td>0</td>\n",
       "      <td>0</td>\n",
       "      <td>0</td>\n",
       "      <td>128</td>\n",
       "    </tr>\n",
       "    <tr>\n",
       "      <th>2</th>\n",
       "      <td>HP</td>\n",
       "      <td>Notebook</td>\n",
       "      <td>15.6</td>\n",
       "      <td>8</td>\n",
       "      <td>Intel HD Graphics 620</td>\n",
       "      <td>No OS</td>\n",
       "      <td>1.86</td>\n",
       "      <td>575.00</td>\n",
       "      <td>0</td>\n",
       "      <td>0</td>\n",
       "      <td>141.21</td>\n",
       "      <td>IntelCorei5</td>\n",
       "      <td>0</td>\n",
       "      <td>256</td>\n",
       "      <td>0</td>\n",
       "      <td>0</td>\n",
       "    </tr>\n",
       "    <tr>\n",
       "      <th>3</th>\n",
       "      <td>Apple</td>\n",
       "      <td>Ultrabook</td>\n",
       "      <td>15.4</td>\n",
       "      <td>16</td>\n",
       "      <td>AMD Radeon Pro 455</td>\n",
       "      <td>macOS</td>\n",
       "      <td>1.83</td>\n",
       "      <td>2537.45</td>\n",
       "      <td>0</td>\n",
       "      <td>1</td>\n",
       "      <td>220.53</td>\n",
       "      <td>IntelCorei7</td>\n",
       "      <td>0</td>\n",
       "      <td>512</td>\n",
       "      <td>0</td>\n",
       "      <td>0</td>\n",
       "    </tr>\n",
       "    <tr>\n",
       "      <th>4</th>\n",
       "      <td>Apple</td>\n",
       "      <td>Ultrabook</td>\n",
       "      <td>13.3</td>\n",
       "      <td>8</td>\n",
       "      <td>Intel Iris Plus Graphics 650</td>\n",
       "      <td>macOS</td>\n",
       "      <td>1.37</td>\n",
       "      <td>1803.60</td>\n",
       "      <td>0</td>\n",
       "      <td>1</td>\n",
       "      <td>226.98</td>\n",
       "      <td>IntelCorei5</td>\n",
       "      <td>0</td>\n",
       "      <td>256</td>\n",
       "      <td>0</td>\n",
       "      <td>0</td>\n",
       "    </tr>\n",
       "  </tbody>\n",
       "</table>\n",
       "</div>"
      ],
      "text/plain": [
       "  Company   TypeName  Inches  Ram                           Gpu  OpSys  \\\n",
       "0   Apple  Ultrabook    13.3    8  Intel Iris Plus Graphics 640  macOS   \n",
       "1   Apple  Ultrabook    13.3    8        Intel HD Graphics 6000  macOS   \n",
       "2      HP   Notebook    15.6    8         Intel HD Graphics 620  No OS   \n",
       "3   Apple  Ultrabook    15.4   16            AMD Radeon Pro 455  macOS   \n",
       "4   Apple  Ultrabook    13.3    8  Intel Iris Plus Graphics 650  macOS   \n",
       "\n",
       "   Weight  Price_euros  touch_screen  IPS_display     PPI          CPU  \\\n",
       "0    1.37      1339.69             0            1  226.98  IntelCorei5   \n",
       "1    1.34       898.94             0            0  127.68  IntelCorei5   \n",
       "2    1.86       575.00             0            0  141.21  IntelCorei5   \n",
       "3    1.83      2537.45             0            1  220.53  IntelCorei7   \n",
       "4    1.37      1803.60             0            1  226.98  IntelCorei5   \n",
       "\n",
       "   Hybrid  SSD  HDD  Flash_Storage  \n",
       "0       0  128    0              0  \n",
       "1       0    0    0            128  \n",
       "2       0  256    0              0  \n",
       "3       0  512    0              0  \n",
       "4       0  256    0              0  "
      ]
     },
     "execution_count": 53,
     "metadata": {},
     "output_type": "execute_result"
    }
   ],
   "source": [
    "df.head()"
   ]
  },
  {
   "cell_type": "code",
   "execution_count": 54,
   "id": "334abb1e",
   "metadata": {
    "execution": {
     "iopub.execute_input": "2023-06-04T07:34:49.201910Z",
     "iopub.status.busy": "2023-06-04T07:34:49.201397Z",
     "iopub.status.idle": "2023-06-04T07:34:49.210814Z",
     "shell.execute_reply": "2023-06-04T07:34:49.209731Z"
    },
    "papermill": {
     "duration": 0.0391,
     "end_time": "2023-06-04T07:34:49.212892",
     "exception": false,
     "start_time": "2023-06-04T07:34:49.173792",
     "status": "completed"
    },
    "tags": []
   },
   "outputs": [
    {
     "name": "stderr",
     "output_type": "stream",
     "text": [
      "/tmp/ipykernel_20/3238765375.py:1: FutureWarning: The default value of numeric_only in DataFrame.corr is deprecated. In a future version, it will default to False. Select only valid columns or specify the value of numeric_only to silence this warning.\n",
      "  df.corr()['Price_euros']\n"
     ]
    },
    {
     "data": {
      "text/plain": [
       "Inches           0.068197\n",
       "Ram              0.743007\n",
       "Weight           0.210370\n",
       "Price_euros      1.000000\n",
       "touch_screen     0.191226\n",
       "IPS_display      0.252208\n",
       "PPI              0.351860\n",
       "Hybrid           0.007989\n",
       "SSD              0.676202\n",
       "HDD             -0.095672\n",
       "Flash_Storage   -0.040511\n",
       "Name: Price_euros, dtype: float64"
      ]
     },
     "execution_count": 54,
     "metadata": {},
     "output_type": "execute_result"
    }
   ],
   "source": [
    "df.corr()['Price_euros']"
   ]
  },
  {
   "cell_type": "markdown",
   "id": "8d5b708a",
   "metadata": {
    "papermill": {
     "duration": 0.026613,
     "end_time": "2023-06-04T07:34:49.266273",
     "exception": false,
     "start_time": "2023-06-04T07:34:49.239660",
     "status": "completed"
    },
    "tags": []
   },
   "source": [
    "**Correlation of Price with `Flash_Storage` and `Hybrid` is Negative. So remove these columns**"
   ]
  },
  {
   "cell_type": "code",
   "execution_count": 55,
   "id": "724e5c52",
   "metadata": {
    "execution": {
     "iopub.execute_input": "2023-06-04T07:34:49.321586Z",
     "iopub.status.busy": "2023-06-04T07:34:49.320918Z",
     "iopub.status.idle": "2023-06-04T07:34:49.326695Z",
     "shell.execute_reply": "2023-06-04T07:34:49.325638Z"
    },
    "papermill": {
     "duration": 0.036631,
     "end_time": "2023-06-04T07:34:49.329500",
     "exception": false,
     "start_time": "2023-06-04T07:34:49.292869",
     "status": "completed"
    },
    "tags": []
   },
   "outputs": [],
   "source": [
    "df.drop(columns=['Hybrid','Flash_Storage'],inplace=True)"
   ]
  },
  {
   "cell_type": "markdown",
   "id": "1afce53b",
   "metadata": {
    "papermill": {
     "duration": 0.025923,
     "end_time": "2023-06-04T07:34:49.381939",
     "exception": false,
     "start_time": "2023-06-04T07:34:49.356016",
     "status": "completed"
    },
    "tags": []
   },
   "source": [
    "**Next step is performing feature engineering on the `Gpu` column**"
   ]
  },
  {
   "cell_type": "code",
   "execution_count": 56,
   "id": "342701d4",
   "metadata": {
    "execution": {
     "iopub.execute_input": "2023-06-04T07:34:49.435806Z",
     "iopub.status.busy": "2023-06-04T07:34:49.435498Z",
     "iopub.status.idle": "2023-06-04T07:34:49.444028Z",
     "shell.execute_reply": "2023-06-04T07:34:49.442555Z"
    },
    "papermill": {
     "duration": 0.038287,
     "end_time": "2023-06-04T07:34:49.446511",
     "exception": false,
     "start_time": "2023-06-04T07:34:49.408224",
     "status": "completed"
    },
    "tags": []
   },
   "outputs": [
    {
     "data": {
      "text/plain": [
       "Intel HD Graphics 620      281\n",
       "Intel HD Graphics 520      185\n",
       "Intel UHD Graphics 620      68\n",
       "Nvidia GeForce GTX 1050     66\n",
       "Nvidia GeForce GTX 1060     48\n",
       "                          ... \n",
       "AMD Radeon R5 520            1\n",
       "AMD Radeon R7                1\n",
       "Intel HD Graphics 540        1\n",
       "AMD Radeon 540               1\n",
       "ARM Mali T860 MP4            1\n",
       "Name: Gpu, Length: 110, dtype: int64"
      ]
     },
     "execution_count": 56,
     "metadata": {},
     "output_type": "execute_result"
    }
   ],
   "source": [
    "df['Gpu'].value_counts()"
   ]
  },
  {
   "cell_type": "code",
   "execution_count": 57,
   "id": "b35f006c",
   "metadata": {
    "execution": {
     "iopub.execute_input": "2023-06-04T07:34:49.502839Z",
     "iopub.status.busy": "2023-06-04T07:34:49.502531Z",
     "iopub.status.idle": "2023-06-04T07:34:49.510307Z",
     "shell.execute_reply": "2023-06-04T07:34:49.509187Z"
    },
    "papermill": {
     "duration": 0.038909,
     "end_time": "2023-06-04T07:34:49.512289",
     "exception": false,
     "start_time": "2023-06-04T07:34:49.473380",
     "status": "completed"
    },
    "tags": []
   },
   "outputs": [
    {
     "data": {
      "text/plain": [
       "array(['Intel Iris Plus Graphics 640', 'Intel HD Graphics 6000',\n",
       "       'Intel HD Graphics 620', 'AMD Radeon Pro 455',\n",
       "       'Intel Iris Plus Graphics 650', 'AMD Radeon R5',\n",
       "       'Intel Iris Pro Graphics', 'Nvidia GeForce MX150',\n",
       "       'Intel UHD Graphics 620', 'Intel HD Graphics 520',\n",
       "       'AMD Radeon Pro 555', 'AMD Radeon R5 M430',\n",
       "       'Intel HD Graphics 615', 'AMD Radeon Pro 560',\n",
       "       'Nvidia GeForce 940MX', 'Intel HD Graphics 400',\n",
       "       'Nvidia GeForce GTX 1050', 'AMD Radeon R2', 'AMD Radeon 530',\n",
       "       'Nvidia GeForce 930MX', 'Intel HD Graphics',\n",
       "       'Intel HD Graphics 500', 'Nvidia GeForce 930MX ',\n",
       "       'Nvidia GeForce GTX 1060', 'Nvidia GeForce 150MX',\n",
       "       'Intel Iris Graphics 540', 'AMD Radeon RX 580',\n",
       "       'Nvidia GeForce 920MX', 'AMD Radeon R4 Graphics', 'AMD Radeon 520',\n",
       "       'Nvidia GeForce GTX 1070', 'Nvidia GeForce GTX 1050 Ti',\n",
       "       'Nvidia GeForce MX130', 'AMD R4 Graphics',\n",
       "       'Nvidia GeForce GTX 940MX', 'AMD Radeon RX 560',\n",
       "       'Nvidia GeForce 920M', 'AMD Radeon R7 M445', 'AMD Radeon RX 550',\n",
       "       'Nvidia GeForce GTX 1050M', 'Intel HD Graphics 515',\n",
       "       'AMD Radeon R5 M420', 'Intel HD Graphics 505',\n",
       "       'Nvidia GTX 980 SLI', 'AMD R17M-M1-70', 'Nvidia GeForce GTX 1080',\n",
       "       'Nvidia Quadro M1200', 'Nvidia GeForce 920MX ',\n",
       "       'Nvidia GeForce GTX 950M', 'AMD FirePro W4190M ',\n",
       "       'Nvidia GeForce GTX 980M', 'Intel Iris Graphics 550',\n",
       "       'Nvidia GeForce 930M', 'Intel HD Graphics 630',\n",
       "       'AMD Radeon R5 430', 'Nvidia GeForce GTX 940M',\n",
       "       'Intel HD Graphics 510', 'Intel HD Graphics 405',\n",
       "       'AMD Radeon RX 540', 'Nvidia GeForce GT 940MX',\n",
       "       'AMD FirePro W5130M', 'Nvidia Quadro M2200M', 'AMD Radeon R4',\n",
       "       'Nvidia Quadro M620', 'AMD Radeon R7 M460',\n",
       "       'Intel HD Graphics 530', 'Nvidia GeForce GTX 965M',\n",
       "       'Nvidia GeForce GTX1080', 'Nvidia GeForce GTX1050 Ti',\n",
       "       'Nvidia GeForce GTX 960M', 'AMD Radeon R2 Graphics',\n",
       "       'Nvidia Quadro M620M', 'Nvidia GeForce GTX 970M',\n",
       "       'Nvidia GeForce GTX 960<U+039C>', 'Intel Graphics 620',\n",
       "       'Nvidia GeForce GTX 960', 'AMD Radeon R5 520',\n",
       "       'AMD Radeon R7 M440', 'AMD Radeon R7', 'Nvidia Quadro M520M',\n",
       "       'Nvidia Quadro M2200', 'Nvidia Quadro M2000M',\n",
       "       'Intel HD Graphics 540', 'Nvidia Quadro M1000M', 'AMD Radeon 540',\n",
       "       'Nvidia GeForce GTX 1070M', 'Nvidia GeForce GTX1060',\n",
       "       'Intel HD Graphics 5300', 'AMD Radeon R5 M420X',\n",
       "       'AMD Radeon R7 Graphics', 'Nvidia GeForce 920',\n",
       "       'Nvidia GeForce 940M', 'Nvidia GeForce GTX 930MX',\n",
       "       'AMD Radeon R7 M465', 'AMD Radeon R3', 'Nvidia GeForce GTX 1050Ti',\n",
       "       'AMD Radeon R7 M365X', 'AMD Radeon R9 M385',\n",
       "       'Intel HD Graphics 620 ', 'Nvidia Quadro 3000M',\n",
       "       'Nvidia GeForce GTX 980 ', 'AMD Radeon R5 M330',\n",
       "       'AMD FirePro W4190M', 'AMD FirePro W6150M', 'AMD Radeon R5 M315',\n",
       "       'Nvidia Quadro M500M', 'AMD Radeon R7 M360',\n",
       "       'Nvidia Quadro M3000M', 'Nvidia GeForce 960M', 'ARM Mali T860 MP4'],\n",
       "      dtype=object)"
      ]
     },
     "execution_count": 57,
     "metadata": {},
     "output_type": "execute_result"
    }
   ],
   "source": [
    "df['Gpu'].unique()"
   ]
  },
  {
   "cell_type": "code",
   "execution_count": 58,
   "id": "73619556",
   "metadata": {
    "execution": {
     "iopub.execute_input": "2023-06-04T07:34:49.569229Z",
     "iopub.status.busy": "2023-06-04T07:34:49.568198Z",
     "iopub.status.idle": "2023-06-04T07:34:49.573477Z",
     "shell.execute_reply": "2023-06-04T07:34:49.572824Z"
    },
    "papermill": {
     "duration": 0.035401,
     "end_time": "2023-06-04T07:34:49.575198",
     "exception": false,
     "start_time": "2023-06-04T07:34:49.539797",
     "status": "completed"
    },
    "tags": []
   },
   "outputs": [],
   "source": [
    "def Gpu(x):\n",
    "    if x.split()[0]=='AMD':\n",
    "        return 'AMD'\n",
    "    if x.split()[0]=='Intel':\n",
    "        return 'Intel'\n",
    "    if x.split()[0]=='Nvidia':\n",
    "        return 'Nvidia'\n",
    "    else:\n",
    "        return 'ARM'"
   ]
  },
  {
   "cell_type": "code",
   "execution_count": 59,
   "id": "4b256311",
   "metadata": {
    "execution": {
     "iopub.execute_input": "2023-06-04T07:34:49.636690Z",
     "iopub.status.busy": "2023-06-04T07:34:49.635544Z",
     "iopub.status.idle": "2023-06-04T07:34:49.642157Z",
     "shell.execute_reply": "2023-06-04T07:34:49.641246Z"
    },
    "papermill": {
     "duration": 0.042646,
     "end_time": "2023-06-04T07:34:49.644790",
     "exception": false,
     "start_time": "2023-06-04T07:34:49.602144",
     "status": "completed"
    },
    "tags": []
   },
   "outputs": [],
   "source": [
    "df['GPU_brand']= df['Gpu'].apply(Gpu)"
   ]
  },
  {
   "cell_type": "code",
   "execution_count": 60,
   "id": "9652afa5",
   "metadata": {
    "execution": {
     "iopub.execute_input": "2023-06-04T07:34:49.711710Z",
     "iopub.status.busy": "2023-06-04T07:34:49.710935Z",
     "iopub.status.idle": "2023-06-04T07:34:49.726027Z",
     "shell.execute_reply": "2023-06-04T07:34:49.724722Z"
    },
    "papermill": {
     "duration": 0.049192,
     "end_time": "2023-06-04T07:34:49.728443",
     "exception": false,
     "start_time": "2023-06-04T07:34:49.679251",
     "status": "completed"
    },
    "tags": []
   },
   "outputs": [
    {
     "data": {
      "text/html": [
       "<div>\n",
       "<style scoped>\n",
       "    .dataframe tbody tr th:only-of-type {\n",
       "        vertical-align: middle;\n",
       "    }\n",
       "\n",
       "    .dataframe tbody tr th {\n",
       "        vertical-align: top;\n",
       "    }\n",
       "\n",
       "    .dataframe thead th {\n",
       "        text-align: right;\n",
       "    }\n",
       "</style>\n",
       "<table border=\"1\" class=\"dataframe\">\n",
       "  <thead>\n",
       "    <tr style=\"text-align: right;\">\n",
       "      <th></th>\n",
       "      <th>Company</th>\n",
       "      <th>TypeName</th>\n",
       "      <th>Inches</th>\n",
       "      <th>Ram</th>\n",
       "      <th>Gpu</th>\n",
       "      <th>OpSys</th>\n",
       "      <th>Weight</th>\n",
       "      <th>Price_euros</th>\n",
       "      <th>touch_screen</th>\n",
       "      <th>IPS_display</th>\n",
       "      <th>PPI</th>\n",
       "      <th>CPU</th>\n",
       "      <th>SSD</th>\n",
       "      <th>HDD</th>\n",
       "      <th>GPU_brand</th>\n",
       "    </tr>\n",
       "  </thead>\n",
       "  <tbody>\n",
       "    <tr>\n",
       "      <th>0</th>\n",
       "      <td>Apple</td>\n",
       "      <td>Ultrabook</td>\n",
       "      <td>13.3</td>\n",
       "      <td>8</td>\n",
       "      <td>Intel Iris Plus Graphics 640</td>\n",
       "      <td>macOS</td>\n",
       "      <td>1.37</td>\n",
       "      <td>1339.69</td>\n",
       "      <td>0</td>\n",
       "      <td>1</td>\n",
       "      <td>226.98</td>\n",
       "      <td>IntelCorei5</td>\n",
       "      <td>128</td>\n",
       "      <td>0</td>\n",
       "      <td>Intel</td>\n",
       "    </tr>\n",
       "    <tr>\n",
       "      <th>1</th>\n",
       "      <td>Apple</td>\n",
       "      <td>Ultrabook</td>\n",
       "      <td>13.3</td>\n",
       "      <td>8</td>\n",
       "      <td>Intel HD Graphics 6000</td>\n",
       "      <td>macOS</td>\n",
       "      <td>1.34</td>\n",
       "      <td>898.94</td>\n",
       "      <td>0</td>\n",
       "      <td>0</td>\n",
       "      <td>127.68</td>\n",
       "      <td>IntelCorei5</td>\n",
       "      <td>0</td>\n",
       "      <td>0</td>\n",
       "      <td>Intel</td>\n",
       "    </tr>\n",
       "    <tr>\n",
       "      <th>2</th>\n",
       "      <td>HP</td>\n",
       "      <td>Notebook</td>\n",
       "      <td>15.6</td>\n",
       "      <td>8</td>\n",
       "      <td>Intel HD Graphics 620</td>\n",
       "      <td>No OS</td>\n",
       "      <td>1.86</td>\n",
       "      <td>575.00</td>\n",
       "      <td>0</td>\n",
       "      <td>0</td>\n",
       "      <td>141.21</td>\n",
       "      <td>IntelCorei5</td>\n",
       "      <td>256</td>\n",
       "      <td>0</td>\n",
       "      <td>Intel</td>\n",
       "    </tr>\n",
       "    <tr>\n",
       "      <th>3</th>\n",
       "      <td>Apple</td>\n",
       "      <td>Ultrabook</td>\n",
       "      <td>15.4</td>\n",
       "      <td>16</td>\n",
       "      <td>AMD Radeon Pro 455</td>\n",
       "      <td>macOS</td>\n",
       "      <td>1.83</td>\n",
       "      <td>2537.45</td>\n",
       "      <td>0</td>\n",
       "      <td>1</td>\n",
       "      <td>220.53</td>\n",
       "      <td>IntelCorei7</td>\n",
       "      <td>512</td>\n",
       "      <td>0</td>\n",
       "      <td>AMD</td>\n",
       "    </tr>\n",
       "    <tr>\n",
       "      <th>4</th>\n",
       "      <td>Apple</td>\n",
       "      <td>Ultrabook</td>\n",
       "      <td>13.3</td>\n",
       "      <td>8</td>\n",
       "      <td>Intel Iris Plus Graphics 650</td>\n",
       "      <td>macOS</td>\n",
       "      <td>1.37</td>\n",
       "      <td>1803.60</td>\n",
       "      <td>0</td>\n",
       "      <td>1</td>\n",
       "      <td>226.98</td>\n",
       "      <td>IntelCorei5</td>\n",
       "      <td>256</td>\n",
       "      <td>0</td>\n",
       "      <td>Intel</td>\n",
       "    </tr>\n",
       "  </tbody>\n",
       "</table>\n",
       "</div>"
      ],
      "text/plain": [
       "  Company   TypeName  Inches  Ram                           Gpu  OpSys  \\\n",
       "0   Apple  Ultrabook    13.3    8  Intel Iris Plus Graphics 640  macOS   \n",
       "1   Apple  Ultrabook    13.3    8        Intel HD Graphics 6000  macOS   \n",
       "2      HP   Notebook    15.6    8         Intel HD Graphics 620  No OS   \n",
       "3   Apple  Ultrabook    15.4   16            AMD Radeon Pro 455  macOS   \n",
       "4   Apple  Ultrabook    13.3    8  Intel Iris Plus Graphics 650  macOS   \n",
       "\n",
       "   Weight  Price_euros  touch_screen  IPS_display     PPI          CPU  SSD  \\\n",
       "0    1.37      1339.69             0            1  226.98  IntelCorei5  128   \n",
       "1    1.34       898.94             0            0  127.68  IntelCorei5    0   \n",
       "2    1.86       575.00             0            0  141.21  IntelCorei5  256   \n",
       "3    1.83      2537.45             0            1  220.53  IntelCorei7  512   \n",
       "4    1.37      1803.60             0            1  226.98  IntelCorei5  256   \n",
       "\n",
       "   HDD GPU_brand  \n",
       "0    0     Intel  \n",
       "1    0     Intel  \n",
       "2    0     Intel  \n",
       "3    0       AMD  \n",
       "4    0     Intel  "
      ]
     },
     "execution_count": 60,
     "metadata": {},
     "output_type": "execute_result"
    }
   ],
   "source": [
    "df.head()"
   ]
  },
  {
   "cell_type": "code",
   "execution_count": 61,
   "id": "3179dc70",
   "metadata": {
    "execution": {
     "iopub.execute_input": "2023-06-04T07:34:49.785020Z",
     "iopub.status.busy": "2023-06-04T07:34:49.784659Z",
     "iopub.status.idle": "2023-06-04T07:34:49.791790Z",
     "shell.execute_reply": "2023-06-04T07:34:49.790452Z"
    },
    "papermill": {
     "duration": 0.03815,
     "end_time": "2023-06-04T07:34:49.794201",
     "exception": false,
     "start_time": "2023-06-04T07:34:49.756051",
     "status": "completed"
    },
    "tags": []
   },
   "outputs": [],
   "source": [
    "df.drop(columns=['Gpu','Inches'],inplace=True)"
   ]
  },
  {
   "cell_type": "code",
   "execution_count": 62,
   "id": "ab6ab1c7",
   "metadata": {
    "execution": {
     "iopub.execute_input": "2023-06-04T07:34:49.852489Z",
     "iopub.status.busy": "2023-06-04T07:34:49.851417Z",
     "iopub.status.idle": "2023-06-04T07:34:49.863956Z",
     "shell.execute_reply": "2023-06-04T07:34:49.862543Z"
    },
    "papermill": {
     "duration": 0.043889,
     "end_time": "2023-06-04T07:34:49.866419",
     "exception": false,
     "start_time": "2023-06-04T07:34:49.822530",
     "status": "completed"
    },
    "tags": []
   },
   "outputs": [
    {
     "name": "stdout",
     "output_type": "stream",
     "text": [
      "<class 'pandas.core.frame.DataFrame'>\n",
      "RangeIndex: 1303 entries, 0 to 1302\n",
      "Data columns (total 13 columns):\n",
      " #   Column        Non-Null Count  Dtype  \n",
      "---  ------        --------------  -----  \n",
      " 0   Company       1303 non-null   object \n",
      " 1   TypeName      1303 non-null   object \n",
      " 2   Ram           1303 non-null   int64  \n",
      " 3   OpSys         1303 non-null   object \n",
      " 4   Weight        1303 non-null   float64\n",
      " 5   Price_euros   1303 non-null   float64\n",
      " 6   touch_screen  1303 non-null   int64  \n",
      " 7   IPS_display   1303 non-null   int64  \n",
      " 8   PPI           1303 non-null   float64\n",
      " 9   CPU           1303 non-null   object \n",
      " 10  SSD           1303 non-null   int64  \n",
      " 11  HDD           1303 non-null   int64  \n",
      " 12  GPU_brand     1303 non-null   object \n",
      "dtypes: float64(3), int64(5), object(5)\n",
      "memory usage: 132.5+ KB\n"
     ]
    }
   ],
   "source": [
    "df.info()"
   ]
  },
  {
   "cell_type": "code",
   "execution_count": 63,
   "id": "b04a78c8",
   "metadata": {
    "execution": {
     "iopub.execute_input": "2023-06-04T07:34:49.922172Z",
     "iopub.status.busy": "2023-06-04T07:34:49.921722Z",
     "iopub.status.idle": "2023-06-04T07:34:49.930570Z",
     "shell.execute_reply": "2023-06-04T07:34:49.929224Z"
    },
    "papermill": {
     "duration": 0.039436,
     "end_time": "2023-06-04T07:34:49.932616",
     "exception": false,
     "start_time": "2023-06-04T07:34:49.893180",
     "status": "completed"
    },
    "tags": []
   },
   "outputs": [
    {
     "data": {
      "text/plain": [
       "Intel     722\n",
       "Nvidia    400\n",
       "AMD       180\n",
       "ARM         1\n",
       "Name: GPU_brand, dtype: int64"
      ]
     },
     "execution_count": 63,
     "metadata": {},
     "output_type": "execute_result"
    }
   ],
   "source": [
    "df.GPU_brand.value_counts()"
   ]
  },
  {
   "cell_type": "markdown",
   "id": "f6a076d5",
   "metadata": {
    "papermill": {
     "duration": 0.028219,
     "end_time": "2023-06-04T07:34:49.988726",
     "exception": false,
     "start_time": "2023-06-04T07:34:49.960507",
     "status": "completed"
    },
    "tags": []
   },
   "source": [
    "**In GPU_brand there is only one `ARM` so there is no need of ARM**"
   ]
  },
  {
   "cell_type": "code",
   "execution_count": 64,
   "id": "fb2fd97b",
   "metadata": {
    "execution": {
     "iopub.execute_input": "2023-06-04T07:34:50.046987Z",
     "iopub.status.busy": "2023-06-04T07:34:50.046628Z",
     "iopub.status.idle": "2023-06-04T07:34:50.055293Z",
     "shell.execute_reply": "2023-06-04T07:34:50.054504Z"
    },
    "papermill": {
     "duration": 0.040331,
     "end_time": "2023-06-04T07:34:50.057224",
     "exception": false,
     "start_time": "2023-06-04T07:34:50.016893",
     "status": "completed"
    },
    "tags": []
   },
   "outputs": [],
   "source": [
    "df= df[df['GPU_brand']!='ARM']"
   ]
  },
  {
   "cell_type": "code",
   "execution_count": 65,
   "id": "495706aa",
   "metadata": {
    "execution": {
     "iopub.execute_input": "2023-06-04T07:34:50.115247Z",
     "iopub.status.busy": "2023-06-04T07:34:50.114825Z",
     "iopub.status.idle": "2023-06-04T07:34:50.365013Z",
     "shell.execute_reply": "2023-06-04T07:34:50.363963Z"
    },
    "papermill": {
     "duration": 0.282878,
     "end_time": "2023-06-04T07:34:50.367942",
     "exception": false,
     "start_time": "2023-06-04T07:34:50.085064",
     "status": "completed"
    },
    "tags": []
   },
   "outputs": [
    {
     "data": {
      "text/plain": [
       "<Axes: xlabel='GPU_brand', ylabel='Price_euros'>"
      ]
     },
     "execution_count": 65,
     "metadata": {},
     "output_type": "execute_result"
    },
    {
     "data": {
      "image/png": "[encoded data removed]",
      "text/plain": [
       "<Figure size 640x480 with 1 Axes>"
      ]
     },
     "metadata": {},
     "output_type": "display_data"
    }
   ],
   "source": [
    "sns.barplot(x=df['GPU_brand'],y=df['Price_euros'])"
   ]
  },
  {
   "cell_type": "markdown",
   "id": "053f6ceb",
   "metadata": {
    "papermill": {
     "duration": 0.028341,
     "end_time": "2023-06-04T07:34:50.424492",
     "exception": false,
     "start_time": "2023-06-04T07:34:50.396151",
     "status": "completed"
    },
    "tags": []
   },
   "source": [
    "**Moving forward, explore`OpSys` column**"
   ]
  },
  {
   "cell_type": "code",
   "execution_count": 66,
   "id": "c97c41d6",
   "metadata": {
    "execution": {
     "iopub.execute_input": "2023-06-04T07:34:50.482824Z",
     "iopub.status.busy": "2023-06-04T07:34:50.482484Z",
     "iopub.status.idle": "2023-06-04T07:34:50.489860Z",
     "shell.execute_reply": "2023-06-04T07:34:50.489145Z"
    },
    "papermill": {
     "duration": 0.038525,
     "end_time": "2023-06-04T07:34:50.491517",
     "exception": false,
     "start_time": "2023-06-04T07:34:50.452992",
     "status": "completed"
    },
    "tags": []
   },
   "outputs": [
    {
     "data": {
      "text/plain": [
       "Windows 10      1072\n",
       "No OS             66\n",
       "Linux             62\n",
       "Windows 7         45\n",
       "Chrome OS         26\n",
       "macOS             13\n",
       "Mac OS X           8\n",
       "Windows 10 S       8\n",
       "Android            2\n",
       "Name: OpSys, dtype: int64"
      ]
     },
     "execution_count": 66,
     "metadata": {},
     "output_type": "execute_result"
    }
   ],
   "source": [
    "df['OpSys'].value_counts()"
   ]
  },
  {
   "cell_type": "code",
   "execution_count": 67,
   "id": "2c439985",
   "metadata": {
    "execution": {
     "iopub.execute_input": "2023-06-04T07:34:50.547939Z",
     "iopub.status.busy": "2023-06-04T07:34:50.547574Z",
     "iopub.status.idle": "2023-06-04T07:34:50.553657Z",
     "shell.execute_reply": "2023-06-04T07:34:50.552740Z"
    },
    "papermill": {
     "duration": 0.037331,
     "end_time": "2023-06-04T07:34:50.556075",
     "exception": false,
     "start_time": "2023-06-04T07:34:50.518744",
     "status": "completed"
    },
    "tags": []
   },
   "outputs": [],
   "source": [
    "col= {'Mac OS X':'Mac','macOS':'Mac'}\n",
    "df['OpSys'].replace(col,inplace=True)"
   ]
  },
  {
   "cell_type": "code",
   "execution_count": 68,
   "id": "f5409fa5",
   "metadata": {
    "execution": {
     "iopub.execute_input": "2023-06-04T07:34:50.614228Z",
     "iopub.status.busy": "2023-06-04T07:34:50.613612Z",
     "iopub.status.idle": "2023-06-04T07:34:50.618630Z",
     "shell.execute_reply": "2023-06-04T07:34:50.617393Z"
    },
    "papermill": {
     "duration": 0.036139,
     "end_time": "2023-06-04T07:34:50.620588",
     "exception": false,
     "start_time": "2023-06-04T07:34:50.584449",
     "status": "completed"
    },
    "tags": []
   },
   "outputs": [],
   "source": [
    "def OS(x):\n",
    "    if x.split()[0]=='Windows':\n",
    "        return 'Windows'\n",
    "    if x.split()[0]=='Mac':\n",
    "        return 'Mac'\n",
    "    if x.split()[0]=='Linux':\n",
    "        return 'Linux'\n",
    "    else:\n",
    "        return 'Other OS'"
   ]
  },
  {
   "cell_type": "code",
   "execution_count": 69,
   "id": "82d09dcd",
   "metadata": {
    "execution": {
     "iopub.execute_input": "2023-06-04T07:34:50.677449Z",
     "iopub.status.busy": "2023-06-04T07:34:50.677057Z",
     "iopub.status.idle": "2023-06-04T07:34:50.684375Z",
     "shell.execute_reply": "2023-06-04T07:34:50.683170Z"
    },
    "papermill": {
     "duration": 0.038856,
     "end_time": "2023-06-04T07:34:50.687003",
     "exception": false,
     "start_time": "2023-06-04T07:34:50.648147",
     "status": "completed"
    },
    "tags": []
   },
   "outputs": [],
   "source": [
    "df['OS']= df['OpSys'].apply(OS)"
   ]
  },
  {
   "cell_type": "code",
   "execution_count": 70,
   "id": "173201d9",
   "metadata": {
    "execution": {
     "iopub.execute_input": "2023-06-04T07:34:50.744121Z",
     "iopub.status.busy": "2023-06-04T07:34:50.743766Z",
     "iopub.status.idle": "2023-06-04T07:34:50.752023Z",
     "shell.execute_reply": "2023-06-04T07:34:50.751180Z"
    },
    "papermill": {
     "duration": 0.038469,
     "end_time": "2023-06-04T07:34:50.753654",
     "exception": false,
     "start_time": "2023-06-04T07:34:50.715185",
     "status": "completed"
    },
    "tags": []
   },
   "outputs": [
    {
     "data": {
      "text/plain": [
       "Windows     1125\n",
       "Other OS      94\n",
       "Linux         62\n",
       "Mac           21\n",
       "Name: OS, dtype: int64"
      ]
     },
     "execution_count": 70,
     "metadata": {},
     "output_type": "execute_result"
    }
   ],
   "source": [
    "df['OS'].value_counts()"
   ]
  },
  {
   "cell_type": "code",
   "execution_count": 71,
   "id": "8d1020e5",
   "metadata": {
    "execution": {
     "iopub.execute_input": "2023-06-04T07:34:50.812521Z",
     "iopub.status.busy": "2023-06-04T07:34:50.809651Z",
     "iopub.status.idle": "2023-06-04T07:34:51.081057Z",
     "shell.execute_reply": "2023-06-04T07:34:51.080173Z"
    },
    "papermill": {
     "duration": 0.301693,
     "end_time": "2023-06-04T07:34:51.082953",
     "exception": false,
     "start_time": "2023-06-04T07:34:50.781260",
     "status": "completed"
    },
    "tags": []
   },
   "outputs": [
    {
     "data": {
      "text/plain": [
       "<Axes: xlabel='OS', ylabel='Price_euros'>"
      ]
     },
     "execution_count": 71,
     "metadata": {},
     "output_type": "execute_result"
    },
    {
     "data": {
      "image/png": "[encoded data removed]",
      "text/plain": [
       "<Figure size 640x480 with 1 Axes>"
      ]
     },
     "metadata": {},
     "output_type": "display_data"
    }
   ],
   "source": [
    "sns.barplot(x=df['OS'],y=df['Price_euros'])"
   ]
  },
  {
   "cell_type": "code",
   "execution_count": 72,
   "id": "af1de91e",
   "metadata": {
    "execution": {
     "iopub.execute_input": "2023-06-04T07:34:51.142189Z",
     "iopub.status.busy": "2023-06-04T07:34:51.141286Z",
     "iopub.status.idle": "2023-06-04T07:34:51.147709Z",
     "shell.execute_reply": "2023-06-04T07:34:51.146326Z"
    },
    "papermill": {
     "duration": 0.037687,
     "end_time": "2023-06-04T07:34:51.149630",
     "exception": false,
     "start_time": "2023-06-04T07:34:51.111943",
     "status": "completed"
    },
    "tags": []
   },
   "outputs": [],
   "source": [
    "df.drop(columns=['OpSys'],inplace=True)"
   ]
  },
  {
   "cell_type": "code",
   "execution_count": 73,
   "id": "632f07a5",
   "metadata": {
    "execution": {
     "iopub.execute_input": "2023-06-04T07:34:51.207028Z",
     "iopub.status.busy": "2023-06-04T07:34:51.206696Z",
     "iopub.status.idle": "2023-06-04T07:34:51.532771Z",
     "shell.execute_reply": "2023-06-04T07:34:51.532111Z"
    },
    "papermill": {
     "duration": 0.357022,
     "end_time": "2023-06-04T07:34:51.534403",
     "exception": false,
     "start_time": "2023-06-04T07:34:51.177381",
     "status": "completed"
    },
    "tags": []
   },
   "outputs": [
    {
     "name": "stderr",
     "output_type": "stream",
     "text": [
      "/tmp/ipykernel_20/2763264648.py:1: FutureWarning: The default value of numeric_only in DataFrame.corr is deprecated. In a future version, it will default to False. Select only valid columns or specify the value of numeric_only to silence this warning.\n",
      "  sns.heatmap(df.corr(),annot=True,cbar=False)\n"
     ]
    },
    {
     "data": {
      "text/plain": [
       "<Axes: >"
      ]
     },
     "execution_count": 73,
     "metadata": {},
     "output_type": "execute_result"
    },
    {
     "data": {
      "image/png": "[encoded data removed]",
      "text/plain": [
       "<Figure size 640x480 with 1 Axes>"
      ]
     },
     "metadata": {},
     "output_type": "display_data"
    }
   ],
   "source": [
    "sns.heatmap(df.corr(),annot=True,cbar=False)"
   ]
  },
  {
   "cell_type": "markdown",
   "id": "36f0a540",
   "metadata": {
    "papermill": {
     "duration": 0.028536,
     "end_time": "2023-06-04T07:34:51.591909",
     "exception": false,
     "start_time": "2023-06-04T07:34:51.563373",
     "status": "completed"
    },
    "tags": []
   },
   "source": [
    "- Relation of Price and Ram is 0.74\n",
    "- Relation of Price and SSD is 0.68\n"
   ]
  },
  {
   "cell_type": "code",
   "execution_count": 74,
   "id": "8a86e270",
   "metadata": {
    "execution": {
     "iopub.execute_input": "2023-06-04T07:34:51.651338Z",
     "iopub.status.busy": "2023-06-04T07:34:51.650969Z",
     "iopub.status.idle": "2023-06-04T07:34:54.136829Z",
     "shell.execute_reply": "2023-06-04T07:34:54.135674Z"
    },
    "papermill": {
     "duration": 2.51866,
     "end_time": "2023-06-04T07:34:54.139290",
     "exception": false,
     "start_time": "2023-06-04T07:34:51.620630",
     "status": "completed"
    },
    "tags": []
   },
   "outputs": [
    {
     "data": {
      "text/html": [
       "        <script type=\"text/javascript\">\n",
       "        window.PlotlyConfig = {MathJaxConfig: 'local'};\n",
       "        if (window.MathJax && window.MathJax.Hub && window.MathJax.Hub.Config) {window.MathJax.Hub.Config({SVG: {font: \"STIX-Web\"}});}\n",
       "        if (typeof require !== 'undefined') {\n",
       "        require.undef(\"plotly\");\n",
       "        requirejs.config({\n",
       "            paths: {\n",
       "                'plotly': ['https://cdn.plot.ly/plotly-2.20.0.min']\n",
       "            }\n",
       "        });\n",
       "        require(['plotly'], function(Plotly) {\n",
       "            window._Plotly = Plotly;\n",
       "        });\n",
       "        }\n",
       "        </script>\n",
       "        "
      ]
     },
     "metadata": {},
     "output_type": "display_data"
    },
    {
     "data": {
      "text/html": [
       "<div>                            <div id=\"c4278dfa-f9ed-47cc-a53e-03e865e5b075\" class=\"plotly-graph-div\" style=\"height:525px; width:100%;\"></div>            <script type=\"text/javascript\">                require([\"plotly\"], function(Plotly) {                    window.PLOTLYENV=window.PLOTLYENV || {};                                    if (document.getElementById(\"c4278dfa-f9ed-47cc-a53e-03e865e5b075\")) {                    Plotly.newPlot(                        \"c4278dfa-f9ed-47cc-a53e-03e865e5b075\",                        [{\"branchvalues\":\"total\",\"customdata\":[[275.0],[373.1092211280215],[563.3965517241379],[628.1088146206015],[1285.3594949623773],[681.8937798590483],[299.0],[639.01],[923.9569730673528],[1224.775078593884],[1303.9868586041018],[1870.9809896156853],[1740.2421905825256],[986.4406604747162],[1215.6805671392826],[1799.0],[1566.4367436743673],[2035.9654817104586],[2107.9236053633504],[1799.0],[999.0],[952.8926100193745],[1324.5814203745783],[1080.4223156899052],[1166.0529998250831],[1093.230077691454],[1254.8903135703313],[1197.6484583207555],[1734.9034726309594],[2148.52779144122],[1990.2011911364657],[2330.3456870857985],[1440.9610705596108],[1652.560593661566],[2117.92217016238],[3045.6822274091364],[2459.1420816615528],[3087.6433232931727],[3263.8401556640265],[2979.6999830594614],[2799.0],[5814.519917227108],[3975.0],[174.0],[221.67683680476082],[209.0],[350.89970501474926],[316.11149864628123],[616.516843118383],[1363.4203629032259],[465.3201856148492],[269.0],[1636.6312606605675],[1650.0],[280.7202268431002],[199.0],[379.0],[264.85227272727275],[251.53275222701438],[239.0],[210.8],[503.63162294778465],[496.56843678549893],[246.96047723177227],[636.5077185109654],[649.0],[772.7057873796858],[576.6390954741053],[317.4413883431565],[930.9491541265539],[223.37898011837913],[485.81976339596383],[577.0],[449.0],[454.1651982378855],[648.4094544413488],[694.3225821414719],[768.2580138063017],[975.7864782786148],[1066.6580521130838],[770.1703511053316],[1140.717893118848],[1143.4223229042368],[1276.120465154369],[1199.0],[818.7943725841346],[1299.0],[682.5418847048977],[1327.0],[846.4318274318274],[1749.0],[1609.7996900998924],[1176.485702091336],[2363.9159554017688],[1699.0],[1644.7343327087237],[1399.95],[2639.0],[4899.0],[959.0],[1063.968320765782],[1367.5691815515863],[1096.0],[1041.4061597690086],[1090.0],[831.0],[897.5401459854014],[1443.3867248005593],[1153.3632909222097],[1467.662308951961],[1431.2300635144672],[1745.6974108157128],[1427.950140449438],[2118.056693663649],[1774.942941187468],[1701.8414017795617],[1029.0],[1603.1692724619554],[1555.5492529419544],[968.5384309266628],[1978.815437392796],[2520.1763243642604],[1726.6287687708036],[2202.6905502846303],[2199.0],[2007.8789237668161],[2099.0],[2290.5803389228995],[2589.0],[1799.0],[1754.7175528873643],[1911.6082920139256],[2382.0],[2799.0],[2106.745020483119],[2325.888499800099],[1925.0],[2635.5876525769395],[3689.024970622797],[2671.7266745624424],[254.30583214793742],[232.82095729498297],[379.0],[234.53246753246754],[251.53275222701438],[239.0],[210.8],[489.8706854537606],[959.0],[494.39068382078955],[246.96047723177227],[669.8842924308825],[649.0],[909.6129735984227],[610.3691398005215],[314.421686746988],[1041.4061597690086],[269.0],[945.6548477394181],[223.37898011837913],[485.81976339596383],[609.5860890124259],[449.0],[454.1651982378855],[648.4094544413488],[707.1584340633572],[837.6681914615504],[1443.3867248005593],[1172.733851179613],[1291.4260868606775],[770.1703511053316],[1431.2300635144672],[1537.9766468817688],[1427.950140449438],[2118.056693663649],[1417.9058052578157],[1254.8903135703313],[1701.8414017795617],[1029.0],[1603.1692724619554],[1342.192684070658],[1056.7108108108107],[818.7943725841346],[1147.6718461455391],[1069.2474243961067],[1679.793728364895],[1643.076746711717],[2148.52779144122],[2520.1763243642604],[1930.1516832670557],[2108.228818044831],[2199.0],[2259.112359550562],[2099.0],[2119.87693040267],[2117.92217016238],[2589.0],[2837.9403482771395],[1752.5734705546026],[1821.8592634084862],[1399.95],[2459.1420816615528],[2382.0],[3087.6433232931727],[3189.079601577044],[3850.1546009998146],[2799.0],[5814.519917227108],[2799.0],[3975.0],[849.7563279279022],[1756.2464468035814],[1548.276195153513],[343.1707941541431],[1566.5908247900597],[734.2126200274348],[1766.681303397576],[1423.5844163992579],[1427.950140449438],[2111.704462442433],[1533.8840210102283],[1888.5814369013028],[305.69249394673125],[1797.4051305839969],[4232.337744951544],[1660.0703034322667],[1444.9519842247967],[220.33005634126712],[1162.6952838095658]],\"domain\":{\"x\":[0.0,1.0],\"y\":[0.0,1.0]},\"hovertemplate\":\"labels=%{label}<br>Price_euros_sum=%{value}<br>parent=%{parent}<br>id=%{id}<br>Price_euros=%{color}<extra></extra>\",\"ids\":[\"Asus/2/2 in 1 Convertible\",\"Acer/4/2 in 1 Convertible\",\"Asus/4/2 in 1 Convertible\",\"Dell/4/2 in 1 Convertible\",\"HP/4/2 in 1 Convertible\",\"Lenovo/4/2 in 1 Convertible\",\"Mediacom/4/2 in 1 Convertible\",\"Asus/6/2 in 1 Convertible\",\"Acer/8/2 in 1 Convertible\",\"Asus/8/2 in 1 Convertible\",\"Dell/8/2 in 1 Convertible\",\"HP/8/2 in 1 Convertible\",\"Lenovo/8/2 in 1 Convertible\",\"Asus/12/2 in 1 Convertible\",\"Dell/12/2 in 1 Convertible\",\"Asus/16/2 in 1 Convertible\",\"Dell/16/2 in 1 Convertible\",\"HP/16/2 in 1 Convertible\",\"Lenovo/16/2 in 1 Convertible\",\"Samsung/16/2 in 1 Convertible\",\"Lenovo/4/Gaming\",\"Acer/8/Gaming\",\"Asus/8/Gaming\",\"Dell/8/Gaming\",\"HP/8/Gaming\",\"Lenovo/8/Gaming\",\"MSI/8/Gaming\",\"Asus/12/Gaming\",\"HP/12/Gaming\",\"Acer/16/Gaming\",\"Asus/16/Gaming\",\"Dell/16/Gaming\",\"HP/16/Gaming\",\"Lenovo/16/Gaming\",\"MSI/16/Gaming\",\"Razer/16/Gaming\",\"Asus/24/Gaming\",\"Asus/32/Gaming\",\"Dell/32/Gaming\",\"Lenovo/32/Gaming\",\"MSI/32/Gaming\",\"Razer/32/Gaming\",\"Asus/64/Gaming\",\"Acer/2/Netbook\",\"Asus/2/Netbook\",\"HP/2/Netbook\",\"Acer/4/Netbook\",\"Asus/4/Netbook\",\"Dell/4/Netbook\",\"HP/4/Netbook\",\"Lenovo/4/Netbook\",\"Samsung/4/Netbook\",\"HP/8/Netbook\",\"Lenovo/16/Netbook\",\"Acer/2/Notebook\",\"Asus/2/Notebook\",\"Dell/2/Notebook\",\"HP/2/Notebook\",\"Lenovo/2/Notebook\",\"Mediacom/2/Notebook\",\"Vero/2/Notebook\",\"Acer/4/Notebook\",\"Asus/4/Notebook\",\"Chuwi/4/Notebook\",\"Dell/4/Notebook\",\"Fujitsu/4/Notebook\",\"HP/4/Notebook\",\"Lenovo/4/Notebook\",\"Mediacom/4/Notebook\",\"Toshiba/4/Notebook\",\"Vero/4/Notebook\",\"Acer/6/Notebook\",\"Asus/6/Notebook\",\"Chuwi/6/Notebook\",\"Dell/6/Notebook\",\"HP/6/Notebook\",\"Lenovo/6/Notebook\",\"Acer/8/Notebook\",\"Asus/8/Notebook\",\"Dell/8/Notebook\",\"Fujitsu/8/Notebook\",\"HP/8/Notebook\",\"Lenovo/8/Notebook\",\"Toshiba/8/Notebook\",\"Xiaomi/8/Notebook\",\"Acer/12/Notebook\",\"Asus/12/Notebook\",\"Dell/12/Notebook\",\"HP/12/Notebook\",\"Lenovo/12/Notebook\",\"Asus/16/Notebook\",\"Dell/16/Notebook\",\"HP/16/Notebook\",\"Lenovo/16/Notebook\",\"Samsung/16/Notebook\",\"Toshiba/16/Notebook\",\"Xiaomi/16/Notebook\",\"Dell/32/Notebook\",\"Lenovo/32/Notebook\",\"Apple/4/Ultrabook\",\"Dell/4/Ultrabook\",\"HP/4/Ultrabook\",\"Lenovo/4/Ultrabook\",\"Microsoft/4/Ultrabook\",\"Toshiba/4/Ultrabook\",\"Lenovo/6/Ultrabook\",\"Acer/8/Ultrabook\",\"Apple/8/Ultrabook\",\"Asus/8/Ultrabook\",\"Dell/8/Ultrabook\",\"Google/8/Ultrabook\",\"HP/8/Ultrabook\",\"Huawei/8/Ultrabook\",\"LG/8/Ultrabook\",\"Lenovo/8/Ultrabook\",\"Microsoft/8/Ultrabook\",\"Razer/8/Ultrabook\",\"Samsung/8/Ultrabook\",\"Toshiba/8/Ultrabook\",\"Xiaomi/8/Ultrabook\",\"Lenovo/12/Ultrabook\",\"Apple/16/Ultrabook\",\"Asus/16/Ultrabook\",\"Dell/16/Ultrabook\",\"Google/16/Ultrabook\",\"HP/16/Ultrabook\",\"LG/16/Ultrabook\",\"Lenovo/16/Ultrabook\",\"Microsoft/16/Ultrabook\",\"Razer/16/Ultrabook\",\"Samsung/16/Ultrabook\",\"Toshiba/16/Ultrabook\",\"Lenovo/24/Ultrabook\",\"Toshiba/32/Ultrabook\",\"Dell/8/Workstation\",\"HP/8/Workstation\",\"Lenovo/8/Workstation\",\"Dell/16/Workstation\",\"HP/16/Workstation\",\"Lenovo/16/Workstation\",\"Acer/2\",\"Asus/2\",\"Dell/2\",\"HP/2\",\"Lenovo/2\",\"Mediacom/2\",\"Vero/2\",\"Acer/4\",\"Apple/4\",\"Asus/4\",\"Chuwi/4\",\"Dell/4\",\"Fujitsu/4\",\"HP/4\",\"Lenovo/4\",\"Mediacom/4\",\"Microsoft/4\",\"Samsung/4\",\"Toshiba/4\",\"Vero/4\",\"Acer/6\",\"Asus/6\",\"Chuwi/6\",\"Dell/6\",\"HP/6\",\"Lenovo/6\",\"Acer/8\",\"Apple/8\",\"Asus/8\",\"Dell/8\",\"Fujitsu/8\",\"Google/8\",\"HP/8\",\"Huawei/8\",\"LG/8\",\"Lenovo/8\",\"MSI/8\",\"Microsoft/8\",\"Razer/8\",\"Samsung/8\",\"Toshiba/8\",\"Xiaomi/8\",\"Acer/12\",\"Asus/12\",\"Dell/12\",\"HP/12\",\"Lenovo/12\",\"Acer/16\",\"Apple/16\",\"Asus/16\",\"Dell/16\",\"Google/16\",\"HP/16\",\"LG/16\",\"Lenovo/16\",\"MSI/16\",\"Microsoft/16\",\"Razer/16\",\"Samsung/16\",\"Toshiba/16\",\"Xiaomi/16\",\"Asus/24\",\"Lenovo/24\",\"Asus/32\",\"Dell/32\",\"Lenovo/32\",\"MSI/32\",\"Razer/32\",\"Toshiba/32\",\"Asus/64\",\"Acer\",\"Apple\",\"Asus\",\"Chuwi\",\"Dell\",\"Fujitsu\",\"Google\",\"HP\",\"Huawei\",\"LG\",\"Lenovo\",\"MSI\",\"Mediacom\",\"Microsoft\",\"Razer\",\"Samsung\",\"Toshiba\",\"Vero\",\"Xiaomi\"],\"labels\":[\"2 in 1 Convertible\",\"2 in 1 Convertible\",\"2 in 1 Convertible\",\"2 in 1 Convertible\",\"2 in 1 Convertible\",\"2 in 1 Convertible\",\"2 in 1 Convertible\",\"2 in 1 Convertible\",\"2 in 1 Convertible\",\"2 in 1 Convertible\",\"2 in 1 Convertible\",\"2 in 1 Convertible\",\"2 in 1 Convertible\",\"2 in 1 Convertible\",\"2 in 1 Convertible\",\"2 in 1 Convertible\",\"2 in 1 Convertible\",\"2 in 1 Convertible\",\"2 in 1 Convertible\",\"2 in 1 Convertible\",\"Gaming\",\"Gaming\",\"Gaming\",\"Gaming\",\"Gaming\",\"Gaming\",\"Gaming\",\"Gaming\",\"Gaming\",\"Gaming\",\"Gaming\",\"Gaming\",\"Gaming\",\"Gaming\",\"Gaming\",\"Gaming\",\"Gaming\",\"Gaming\",\"Gaming\",\"Gaming\",\"Gaming\",\"Gaming\",\"Gaming\",\"Netbook\",\"Netbook\",\"Netbook\",\"Netbook\",\"Netbook\",\"Netbook\",\"Netbook\",\"Netbook\",\"Netbook\",\"Netbook\",\"Netbook\",\"Notebook\",\"Notebook\",\"Notebook\",\"Notebook\",\"Notebook\",\"Notebook\",\"Notebook\",\"Notebook\",\"Notebook\",\"Notebook\",\"Notebook\",\"Notebook\",\"Notebook\",\"Notebook\",\"Notebook\",\"Notebook\",\"Notebook\",\"Notebook\",\"Notebook\",\"Notebook\",\"Notebook\",\"Notebook\",\"Notebook\",\"Notebook\",\"Notebook\",\"Notebook\",\"Notebook\",\"Notebook\",\"Notebook\",\"Notebook\",\"Notebook\",\"Notebook\",\"Notebook\",\"Notebook\",\"Notebook\",\"Notebook\",\"Notebook\",\"Notebook\",\"Notebook\",\"Notebook\",\"Notebook\",\"Notebook\",\"Notebook\",\"Notebook\",\"Notebook\",\"Ultrabook\",\"Ultrabook\",\"Ultrabook\",\"Ultrabook\",\"Ultrabook\",\"Ultrabook\",\"Ultrabook\",\"Ultrabook\",\"Ultrabook\",\"Ultrabook\",\"Ultrabook\",\"Ultrabook\",\"Ultrabook\",\"Ultrabook\",\"Ultrabook\",\"Ultrabook\",\"Ultrabook\",\"Ultrabook\",\"Ultrabook\",\"Ultrabook\",\"Ultrabook\",\"Ultrabook\",\"Ultrabook\",\"Ultrabook\",\"Ultrabook\",\"Ultrabook\",\"Ultrabook\",\"Ultrabook\",\"Ultrabook\",\"Ultrabook\",\"Ultrabook\",\"Ultrabook\",\"Ultrabook\",\"Ultrabook\",\"Ultrabook\",\"Workstation\",\"Workstation\",\"Workstation\",\"Workstation\",\"Workstation\",\"Workstation\",\"2\",\"2\",\"2\",\"2\",\"2\",\"2\",\"2\",\"4\",\"4\",\"4\",\"4\",\"4\",\"4\",\"4\",\"4\",\"4\",\"4\",\"4\",\"4\",\"4\",\"6\",\"6\",\"6\",\"6\",\"6\",\"6\",\"8\",\"8\",\"8\",\"8\",\"8\",\"8\",\"8\",\"8\",\"8\",\"8\",\"8\",\"8\",\"8\",\"8\",\"8\",\"8\",\"12\",\"12\",\"12\",\"12\",\"12\",\"16\",\"16\",\"16\",\"16\",\"16\",\"16\",\"16\",\"16\",\"16\",\"16\",\"16\",\"16\",\"16\",\"16\",\"24\",\"24\",\"32\",\"32\",\"32\",\"32\",\"32\",\"32\",\"64\",\"Acer\",\"Apple\",\"Asus\",\"Chuwi\",\"Dell\",\"Fujitsu\",\"Google\",\"HP\",\"Huawei\",\"LG\",\"Lenovo\",\"MSI\",\"Mediacom\",\"Microsoft\",\"Razer\",\"Samsung\",\"Toshiba\",\"Vero\",\"Xiaomi\"],\"marker\":{\"coloraxis\":\"coloraxis\",\"colors\":[275.0,373.1092211280215,563.3965517241379,628.1088146206015,1285.3594949623773,681.8937798590483,299.0,639.01,923.9569730673528,1224.775078593884,1303.9868586041018,1870.9809896156853,1740.2421905825256,986.4406604747162,1215.6805671392826,1799.0,1566.4367436743673,2035.9654817104586,2107.9236053633504,1799.0,999.0,952.8926100193745,1324.5814203745783,1080.4223156899052,1166.0529998250831,1093.230077691454,1254.8903135703313,1197.6484583207555,1734.9034726309594,2148.52779144122,1990.2011911364657,2330.3456870857985,1440.9610705596108,1652.560593661566,2117.92217016238,3045.6822274091364,2459.1420816615528,3087.6433232931727,3263.8401556640265,2979.6999830594614,2799.0,5814.519917227108,3975.0,174.0,221.67683680476082,209.0,350.89970501474926,316.11149864628123,616.516843118383,1363.4203629032259,465.3201856148492,269.0,1636.6312606605675,1650.0,280.7202268431002,199.0,379.0,264.85227272727275,251.53275222701438,239.0,210.8,503.63162294778465,496.56843678549893,246.96047723177227,636.5077185109654,649.0,772.7057873796858,576.6390954741053,317.4413883431565,930.9491541265539,223.37898011837913,485.81976339596383,577.0,449.0,454.1651982378855,648.4094544413488,694.3225821414719,768.2580138063017,975.7864782786148,1066.6580521130838,770.1703511053316,1140.717893118848,1143.4223229042368,1276.120465154369,1199.0,818.7943725841346,1299.0,682.5418847048977,1327.0,846.4318274318274,1749.0,1609.7996900998924,1176.485702091336,2363.9159554017688,1699.0,1644.7343327087237,1399.95,2639.0,4899.0,959.0,1063.968320765782,1367.5691815515863,1096.0,1041.4061597690086,1090.0,831.0,897.5401459854014,1443.3867248005593,1153.3632909222097,1467.662308951961,1431.2300635144672,1745.6974108157128,1427.950140449438,2118.056693663649,1774.942941187468,1701.8414017795617,1029.0,1603.1692724619554,1555.5492529419544,968.5384309266628,1978.815437392796,2520.1763243642604,1726.6287687708036,2202.6905502846303,2199.0,2007.8789237668161,2099.0,2290.5803389228995,2589.0,1799.0,1754.7175528873643,1911.6082920139256,2382.0,2799.0,2106.745020483119,2325.888499800099,1925.0,2635.5876525769395,3689.024970622797,2671.7266745624424,254.30583214793742,232.82095729498297,379.0,234.53246753246754,251.53275222701438,239.0,210.8,489.8706854537606,959.0,494.39068382078955,246.96047723177227,669.8842924308825,649.0,909.6129735984227,610.3691398005215,314.421686746988,1041.4061597690086,269.0,945.6548477394181,223.37898011837913,485.81976339596383,609.5860890124259,449.0,454.1651982378855,648.4094544413488,707.1584340633572,837.6681914615504,1443.3867248005593,1172.733851179613,1291.4260868606775,770.1703511053316,1431.2300635144672,1537.9766468817688,1427.950140449438,2118.056693663649,1417.9058052578157,1254.8903135703313,1701.8414017795617,1029.0,1603.1692724619554,1342.192684070658,1056.7108108108107,818.7943725841346,1147.6718461455391,1069.2474243961067,1679.793728364895,1643.076746711717,2148.52779144122,2520.1763243642604,1930.1516832670557,2108.228818044831,2199.0,2259.112359550562,2099.0,2119.87693040267,2117.92217016238,2589.0,2837.9403482771395,1752.5734705546026,1821.8592634084862,1399.95,2459.1420816615528,2382.0,3087.6433232931727,3189.079601577044,3850.1546009998146,2799.0,5814.519917227108,2799.0,3975.0,849.7563279279022,1756.2464468035814,1548.276195153513,343.1707941541431,1566.5908247900597,734.2126200274348,1766.681303397576,1423.5844163992579,1427.950140449438,2111.704462442433,1533.8840210102283,1888.5814369013028,305.69249394673125,1797.4051305839969,4232.337744951544,1660.0703034322667,1444.9519842247967,220.33005634126712,1162.6952838095658]},\"name\":\"\",\"parents\":[\"Asus/2\",\"Acer/4\",\"Asus/4\",\"Dell/4\",\"HP/4\",\"Lenovo/4\",\"Mediacom/4\",\"Asus/6\",\"Acer/8\",\"Asus/8\",\"Dell/8\",\"HP/8\",\"Lenovo/8\",\"Asus/12\",\"Dell/12\",\"Asus/16\",\"Dell/16\",\"HP/16\",\"Lenovo/16\",\"Samsung/16\",\"Lenovo/4\",\"Acer/8\",\"Asus/8\",\"Dell/8\",\"HP/8\",\"Lenovo/8\",\"MSI/8\",\"Asus/12\",\"HP/12\",\"Acer/16\",\"Asus/16\",\"Dell/16\",\"HP/16\",\"Lenovo/16\",\"MSI/16\",\"Razer/16\",\"Asus/24\",\"Asus/32\",\"Dell/32\",\"Lenovo/32\",\"MSI/32\",\"Razer/32\",\"Asus/64\",\"Acer/2\",\"Asus/2\",\"HP/2\",\"Acer/4\",\"Asus/4\",\"Dell/4\",\"HP/4\",\"Lenovo/4\",\"Samsung/4\",\"HP/8\",\"Lenovo/16\",\"Acer/2\",\"Asus/2\",\"Dell/2\",\"HP/2\",\"Lenovo/2\",\"Mediacom/2\",\"Vero/2\",\"Acer/4\",\"Asus/4\",\"Chuwi/4\",\"Dell/4\",\"Fujitsu/4\",\"HP/4\",\"Lenovo/4\",\"Mediacom/4\",\"Toshiba/4\",\"Vero/4\",\"Acer/6\",\"Asus/6\",\"Chuwi/6\",\"Dell/6\",\"HP/6\",\"Lenovo/6\",\"Acer/8\",\"Asus/8\",\"Dell/8\",\"Fujitsu/8\",\"HP/8\",\"Lenovo/8\",\"Toshiba/8\",\"Xiaomi/8\",\"Acer/12\",\"Asus/12\",\"Dell/12\",\"HP/12\",\"Lenovo/12\",\"Asus/16\",\"Dell/16\",\"HP/16\",\"Lenovo/16\",\"Samsung/16\",\"Toshiba/16\",\"Xiaomi/16\",\"Dell/32\",\"Lenovo/32\",\"Apple/4\",\"Dell/4\",\"HP/4\",\"Lenovo/4\",\"Microsoft/4\",\"Toshiba/4\",\"Lenovo/6\",\"Acer/8\",\"Apple/8\",\"Asus/8\",\"Dell/8\",\"Google/8\",\"HP/8\",\"Huawei/8\",\"LG/8\",\"Lenovo/8\",\"Microsoft/8\",\"Razer/8\",\"Samsung/8\",\"Toshiba/8\",\"Xiaomi/8\",\"Lenovo/12\",\"Apple/16\",\"Asus/16\",\"Dell/16\",\"Google/16\",\"HP/16\",\"LG/16\",\"Lenovo/16\",\"Microsoft/16\",\"Razer/16\",\"Samsung/16\",\"Toshiba/16\",\"Lenovo/24\",\"Toshiba/32\",\"Dell/8\",\"HP/8\",\"Lenovo/8\",\"Dell/16\",\"HP/16\",\"Lenovo/16\",\"Acer\",\"Asus\",\"Dell\",\"HP\",\"Lenovo\",\"Mediacom\",\"Vero\",\"Acer\",\"Apple\",\"Asus\",\"Chuwi\",\"Dell\",\"Fujitsu\",\"HP\",\"Lenovo\",\"Mediacom\",\"Microsoft\",\"Samsung\",\"Toshiba\",\"Vero\",\"Acer\",\"Asus\",\"Chuwi\",\"Dell\",\"HP\",\"Lenovo\",\"Acer\",\"Apple\",\"Asus\",\"Dell\",\"Fujitsu\",\"Google\",\"HP\",\"Huawei\",\"LG\",\"Lenovo\",\"MSI\",\"Microsoft\",\"Razer\",\"Samsung\",\"Toshiba\",\"Xiaomi\",\"Acer\",\"Asus\",\"Dell\",\"HP\",\"Lenovo\",\"Acer\",\"Apple\",\"Asus\",\"Dell\",\"Google\",\"HP\",\"LG\",\"Lenovo\",\"MSI\",\"Microsoft\",\"Razer\",\"Samsung\",\"Toshiba\",\"Xiaomi\",\"Asus\",\"Lenovo\",\"Asus\",\"Dell\",\"Lenovo\",\"MSI\",\"Razer\",\"Toshiba\",\"Asus\",\"\",\"\",\"\",\"\",\"\",\"\",\"\",\"\",\"\",\"\",\"\",\"\",\"\",\"\",\"\",\"\",\"\",\"\",\"\"],\"values\":[275.0,1117.0,1044.0,3035.99,6272.8,7083.28,299.0,639.01,4473.01,6998.0,18227.12,16533.59,40303.8,1938.0,3597.0,1799.0,9090.0,5823.0,24164.0,1799.0,999.0,3613.0,25159.49,13669.49,5717.0,18020.0,27018.5,2318.9,8495.0,8132.0,49221.9,43648.77,2877.0,17604.98,63543.54,8997.0,4237.0,7968.0,19417.46,5903.0,2799.0,11598.0,3975.0,174.0,436.9,627.0,1356.0,627.9,1039.0,1984.0,1293.0,269.0,6449.0,1650.0,529.0,199.0,1137.0,528.0,1240.45,239.0,210.8,23171.91,18321.35,493.89,31382.75,649.0,48886.58,36749.86,1527.0,10699.0,658.9,1437.0,577.0,449.0,1816.0,11456.88,8017.57,14631.0,19870.51,82109.13,1538.0,83374.85,74099.74,24422.0,1199.0,2361.99,1299.0,1362.0700000000002,1327.0,2457.0,1749.0,23262.98,4686.0,13005.0,1699.0,4803.0,1399.95,2639.0,4899.0,959.0,3120.4700000000003,7502.0,1096.0,2078.0,1090.0,831.0,3562.0,21913.78,13997.9,54288.44,2834.0,43821.06,2848.0,4198.0,34232.5,5006.85,1029.0,4797.0,7563.0,1934.9,5830.0,9975.39,11806.9,15008.96,2199.0,4014.0,2099.0,11271.0,2589.0,1799.0,3498.0,9479.0,2382.0,2799.0,14158.0,25387.55,1925.0,10252.86,6808.0,7599.0,703.0,910.9,1137.0,1155.0,1240.45,239.0,210.8,25644.91,959.0,19993.25,493.89,38578.21,649.0,64645.38,47221.14,1826.0,2078.0,269.0,11789.0,658.9,1437.0,1216.01,449.0,1816.0,11456.88,8848.57,26279.01,21913.78,66025.9,182452.18,1538.0,2834.0,181283.05,2848.0,4198.0,168581.04,27018.5,5006.85,1029.0,4797.0,31985.0,3133.9,2361.99,5555.9,4959.07,9822.0,8287.0,8132.0,9975.39,64576.8,101263.57,2199.0,24208.0,2099.0,75293.98,63543.54,2589.0,10796.0,6996.0,14282.0,1399.95,4237.0,2382.0,7968.0,22056.46,10802.0,2799.0,11598.0,2799.0,3975.0,64557.909999999996,32848.17,174458.76,942.89,352262.49,2187.0,5033.0,292570.31,2848.0,6297.0,322656.18,93361.04,2065.0,9673.85,23423.0,12062.0,60855.0,869.7,4533.85],\"type\":\"sunburst\"}],                        {\"template\":{\"data\":{\"histogram2dcontour\":[{\"type\":\"histogram2dcontour\",\"colorbar\":{\"outlinewidth\":0,\"ticks\":\"\"},\"colorscale\":[[0.0,\"#0d0887\"],[0.1111111111111111,\"#46039f\"],[0.2222222222222222,\"#7201a8\"],[0.3333333333333333,\"#9c179e\"],[0.4444444444444444,\"#bd3786\"],[0.5555555555555556,\"#d8576b\"],[0.6666666666666666,\"#ed7953\"],[0.7777777777777778,\"#fb9f3a\"],[0.8888888888888888,\"#fdca26\"],[1.0,\"#f0f921\"]]}],\"choropleth\":[{\"type\":\"choropleth\",\"colorbar\":{\"outlinewidth\":0,\"ticks\":\"\"}}],\"histogram2d\":[{\"type\":\"histogram2d\",\"colorbar\":{\"outlinewidth\":0,\"ticks\":\"\"},\"colorscale\":[[0.0,\"#0d0887\"],[0.1111111111111111,\"#46039f\"],[0.2222222222222222,\"#7201a8\"],[0.3333333333333333,\"#9c179e\"],[0.4444444444444444,\"#bd3786\"],[0.5555555555555556,\"#d8576b\"],[0.6666666666666666,\"#ed7953\"],[0.7777777777777778,\"#fb9f3a\"],[0.8888888888888888,\"#fdca26\"],[1.0,\"#f0f921\"]]}],\"heatmap\":[{\"type\":\"heatmap\",\"colorbar\":{\"outlinewidth\":0,\"ticks\":\"\"},\"colorscale\":[[0.0,\"#0d0887\"],[0.1111111111111111,\"#46039f\"],[0.2222222222222222,\"#7201a8\"],[0.3333333333333333,\"#9c179e\"],[0.4444444444444444,\"#bd3786\"],[0.5555555555555556,\"#d8576b\"],[0.6666666666666666,\"#ed7953\"],[0.7777777777777778,\"#fb9f3a\"],[0.8888888888888888,\"#fdca26\"],[1.0,\"#f0f921\"]]}],\"heatmapgl\":[{\"type\":\"heatmapgl\",\"colorbar\":{\"outlinewidth\":0,\"ticks\":\"\"},\"colorscale\":[[0.0,\"#0d0887\"],[0.1111111111111111,\"#46039f\"],[0.2222222222222222,\"#7201a8\"],[0.3333333333333333,\"#9c179e\"],[0.4444444444444444,\"#bd3786\"],[0.5555555555555556,\"#d8576b\"],[0.6666666666666666,\"#ed7953\"],[0.7777777777777778,\"#fb9f3a\"],[0.8888888888888888,\"#fdca26\"],[1.0,\"#f0f921\"]]}],\"contourcarpet\":[{\"type\":\"contourcarpet\",\"colorbar\":{\"outlinewidth\":0,\"ticks\":\"\"}}],\"contour\":[{\"type\":\"contour\",\"colorbar\":{\"outlinewidth\":0,\"ticks\":\"\"},\"colorscale\":[[0.0,\"#0d0887\"],[0.1111111111111111,\"#46039f\"],[0.2222222222222222,\"#7201a8\"],[0.3333333333333333,\"#9c179e\"],[0.4444444444444444,\"#bd3786\"],[0.5555555555555556,\"#d8576b\"],[0.6666666666666666,\"#ed7953\"],[0.7777777777777778,\"#fb9f3a\"],[0.8888888888888888,\"#fdca26\"],[1.0,\"#f0f921\"]]}],\"surface\":[{\"type\":\"surface\",\"colorbar\":{\"outlinewidth\":0,\"ticks\":\"\"},\"colorscale\":[[0.0,\"#0d0887\"],[0.1111111111111111,\"#46039f\"],[0.2222222222222222,\"#7201a8\"],[0.3333333333333333,\"#9c179e\"],[0.4444444444444444,\"#bd3786\"],[0.5555555555555556,\"#d8576b\"],[0.6666666666666666,\"#ed7953\"],[0.7777777777777778,\"#fb9f3a\"],[0.8888888888888888,\"#fdca26\"],[1.0,\"#f0f921\"]]}],\"mesh3d\":[{\"type\":\"mesh3d\",\"colorbar\":{\"outlinewidth\":0,\"ticks\":\"\"}}],\"scatter\":[{\"fillpattern\":{\"fillmode\":\"overlay\",\"size\":10,\"solidity\":0.2},\"type\":\"scatter\"}],\"parcoords\":[{\"type\":\"parcoords\",\"line\":{\"colorbar\":{\"outlinewidth\":0,\"ticks\":\"\"}}}],\"scatterpolargl\":[{\"type\":\"scatterpolargl\",\"marker\":{\"colorbar\":{\"outlinewidth\":0,\"ticks\":\"\"}}}],\"bar\":[{\"error_x\":{\"color\":\"#2a3f5f\"},\"error_y\":{\"color\":\"#2a3f5f\"},\"marker\":{\"line\":{\"color\":\"#E5ECF6\",\"width\":0.5},\"pattern\":{\"fillmode\":\"overlay\",\"size\":10,\"solidity\":0.2}},\"type\":\"bar\"}],\"scattergeo\":[{\"type\":\"scattergeo\",\"marker\":{\"colorbar\":{\"outlinewidth\":0,\"ticks\":\"\"}}}],\"scatterpolar\":[{\"type\":\"scatterpolar\",\"marker\":{\"colorbar\":{\"outlinewidth\":0,\"ticks\":\"\"}}}],\"histogram\":[{\"marker\":{\"pattern\":{\"fillmode\":\"overlay\",\"size\":10,\"solidity\":0.2}},\"type\":\"histogram\"}],\"scattergl\":[{\"type\":\"scattergl\",\"marker\":{\"colorbar\":{\"outlinewidth\":0,\"ticks\":\"\"}}}],\"scatter3d\":[{\"type\":\"scatter3d\",\"line\":{\"colorbar\":{\"outlinewidth\":0,\"ticks\":\"\"}},\"marker\":{\"colorbar\":{\"outlinewidth\":0,\"ticks\":\"\"}}}],\"scattermapbox\":[{\"type\":\"scattermapbox\",\"marker\":{\"colorbar\":{\"outlinewidth\":0,\"ticks\":\"\"}}}],\"scatterternary\":[{\"type\":\"scatterternary\",\"marker\":{\"colorbar\":{\"outlinewidth\":0,\"ticks\":\"\"}}}],\"scattercarpet\":[{\"type\":\"scattercarpet\",\"marker\":{\"colorbar\":{\"outlinewidth\":0,\"ticks\":\"\"}}}],\"carpet\":[{\"aaxis\":{\"endlinecolor\":\"#2a3f5f\",\"gridcolor\":\"white\",\"linecolor\":\"white\",\"minorgridcolor\":\"white\",\"startlinecolor\":\"#2a3f5f\"},\"baxis\":{\"endlinecolor\":\"#2a3f5f\",\"gridcolor\":\"white\",\"linecolor\":\"white\",\"minorgridcolor\":\"white\",\"startlinecolor\":\"#2a3f5f\"},\"type\":\"carpet\"}],\"table\":[{\"cells\":{\"fill\":{\"color\":\"#EBF0F8\"},\"line\":{\"color\":\"white\"}},\"header\":{\"fill\":{\"color\":\"#C8D4E3\"},\"line\":{\"color\":\"white\"}},\"type\":\"table\"}],\"barpolar\":[{\"marker\":{\"line\":{\"color\":\"#E5ECF6\",\"width\":0.5},\"pattern\":{\"fillmode\":\"overlay\",\"size\":10,\"solidity\":0.2}},\"type\":\"barpolar\"}],\"pie\":[{\"automargin\":true,\"type\":\"pie\"}]},\"layout\":{\"autotypenumbers\":\"strict\",\"colorway\":[\"#636efa\",\"#EF553B\",\"#00cc96\",\"#ab63fa\",\"#FFA15A\",\"#19d3f3\",\"#FF6692\",\"#B6E880\",\"#FF97FF\",\"#FECB52\"],\"font\":{\"color\":\"#2a3f5f\"},\"hovermode\":\"closest\",\"hoverlabel\":{\"align\":\"left\"},\"paper_bgcolor\":\"white\",\"plot_bgcolor\":\"#E5ECF6\",\"polar\":{\"bgcolor\":\"#E5ECF6\",\"angularaxis\":{\"gridcolor\":\"white\",\"linecolor\":\"white\",\"ticks\":\"\"},\"radialaxis\":{\"gridcolor\":\"white\",\"linecolor\":\"white\",\"ticks\":\"\"}},\"ternary\":{\"bgcolor\":\"#E5ECF6\",\"aaxis\":{\"gridcolor\":\"white\",\"linecolor\":\"white\",\"ticks\":\"\"},\"baxis\":{\"gridcolor\":\"white\",\"linecolor\":\"white\",\"ticks\":\"\"},\"caxis\":{\"gridcolor\":\"white\",\"linecolor\":\"white\",\"ticks\":\"\"}},\"coloraxis\":{\"colorbar\":{\"outlinewidth\":0,\"ticks\":\"\"}},\"colorscale\":{\"sequential\":[[0.0,\"#0d0887\"],[0.1111111111111111,\"#46039f\"],[0.2222222222222222,\"#7201a8\"],[0.3333333333333333,\"#9c179e\"],[0.4444444444444444,\"#bd3786\"],[0.5555555555555556,\"#d8576b\"],[0.6666666666666666,\"#ed7953\"],[0.7777777777777778,\"#fb9f3a\"],[0.8888888888888888,\"#fdca26\"],[1.0,\"#f0f921\"]],\"sequentialminus\":[[0.0,\"#0d0887\"],[0.1111111111111111,\"#46039f\"],[0.2222222222222222,\"#7201a8\"],[0.3333333333333333,\"#9c179e\"],[0.4444444444444444,\"#bd3786\"],[0.5555555555555556,\"#d8576b\"],[0.6666666666666666,\"#ed7953\"],[0.7777777777777778,\"#fb9f3a\"],[0.8888888888888888,\"#fdca26\"],[1.0,\"#f0f921\"]],\"diverging\":[[0,\"#8e0152\"],[0.1,\"#c51b7d\"],[0.2,\"#de77ae\"],[0.3,\"#f1b6da\"],[0.4,\"#fde0ef\"],[0.5,\"#f7f7f7\"],[0.6,\"#e6f5d0\"],[0.7,\"#b8e186\"],[0.8,\"#7fbc41\"],[0.9,\"#4d9221\"],[1,\"#276419\"]]},\"xaxis\":{\"gridcolor\":\"white\",\"linecolor\":\"white\",\"ticks\":\"\",\"title\":{\"standoff\":15},\"zerolinecolor\":\"white\",\"automargin\":true,\"zerolinewidth\":2},\"yaxis\":{\"gridcolor\":\"white\",\"linecolor\":\"white\",\"ticks\":\"\",\"title\":{\"standoff\":15},\"zerolinecolor\":\"white\",\"automargin\":true,\"zerolinewidth\":2},\"scene\":{\"xaxis\":{\"backgroundcolor\":\"#E5ECF6\",\"gridcolor\":\"white\",\"linecolor\":\"white\",\"showbackground\":true,\"ticks\":\"\",\"zerolinecolor\":\"white\",\"gridwidth\":2},\"yaxis\":{\"backgroundcolor\":\"#E5ECF6\",\"gridcolor\":\"white\",\"linecolor\":\"white\",\"showbackground\":true,\"ticks\":\"\",\"zerolinecolor\":\"white\",\"gridwidth\":2},\"zaxis\":{\"backgroundcolor\":\"#E5ECF6\",\"gridcolor\":\"white\",\"linecolor\":\"white\",\"showbackground\":true,\"ticks\":\"\",\"zerolinecolor\":\"white\",\"gridwidth\":2}},\"shapedefaults\":{\"line\":{\"color\":\"#2a3f5f\"}},\"annotationdefaults\":{\"arrowcolor\":\"#2a3f5f\",\"arrowhead\":0,\"arrowwidth\":1},\"geo\":{\"bgcolor\":\"white\",\"landcolor\":\"#E5ECF6\",\"subunitcolor\":\"white\",\"showland\":true,\"showlakes\":true,\"lakecolor\":\"white\"},\"title\":{\"x\":0.05},\"mapbox\":{\"style\":\"light\"}}},\"coloraxis\":{\"colorbar\":{\"title\":{\"text\":\"Price_euros\"}},\"colorscale\":[[0.0,\"#0d0887\"],[0.1111111111111111,\"#46039f\"],[0.2222222222222222,\"#7201a8\"],[0.3333333333333333,\"#9c179e\"],[0.4444444444444444,\"#bd3786\"],[0.5555555555555556,\"#d8576b\"],[0.6666666666666666,\"#ed7953\"],[0.7777777777777778,\"#fb9f3a\"],[0.8888888888888888,\"#fdca26\"],[1.0,\"#f0f921\"]]},\"legend\":{\"tracegroupgap\":0},\"margin\":{\"t\":0,\"l\":0,\"r\":0,\"b\":0}},                        {\"responsive\": true}                    ).then(function(){\n",
       "                            \n",
       "var gd = document.getElementById('c4278dfa-f9ed-47cc-a53e-03e865e5b075');\n",
       "var x = new MutationObserver(function (mutations, observer) {{\n",
       "        var display = window.getComputedStyle(gd).display;\n",
       "        if (!display || display === 'none') {{\n",
       "            console.log([gd, 'removed!']);\n",
       "            Plotly.purge(gd);\n",
       "            observer.disconnect();\n",
       "        }}\n",
       "}});\n",
       "\n",
       "// Listen for the removal of the full notebook cells\n",
       "var notebookContainer = gd.closest('#notebook-container');\n",
       "if (notebookContainer) {{\n",
       "    x.observe(notebookContainer, {childList: true});\n",
       "}}\n",
       "\n",
       "// Listen for the clearing of the current output cell\n",
       "var outputEl = gd.closest('.output');\n",
       "if (outputEl) {{\n",
       "    x.observe(outputEl, {childList: true});\n",
       "}}\n",
       "\n",
       "                        })                };                });            </script>        </div>"
      ]
     },
     "metadata": {},
     "output_type": "display_data"
    }
   ],
   "source": [
    "import plotly.express as px\n",
    "fig = px.sunburst(df, path=['Company','Ram','TypeName'], values='Price_euros',color='Price_euros')\n",
    "fig.update_layout(margin = dict(t=0, l=0, r=0, b=0))\n",
    "fig.show()"
   ]
  },
  {
   "cell_type": "markdown",
   "id": "2da0ccb1",
   "metadata": {
    "papermill": {
     "duration": 0.029379,
     "end_time": "2023-06-04T07:34:54.199742",
     "exception": false,
     "start_time": "2023-06-04T07:34:54.170363",
     "status": "completed"
    },
    "tags": []
   },
   "source": [
    "# Data Preparation of ML Model"
   ]
  },
  {
   "cell_type": "code",
   "execution_count": 75,
   "id": "96120308",
   "metadata": {
    "execution": {
     "iopub.execute_input": "2023-06-04T07:34:54.260510Z",
     "iopub.status.busy": "2023-06-04T07:34:54.260172Z",
     "iopub.status.idle": "2023-06-04T07:34:54.511811Z",
     "shell.execute_reply": "2023-06-04T07:34:54.510621Z"
    },
    "papermill": {
     "duration": 0.284425,
     "end_time": "2023-06-04T07:34:54.513735",
     "exception": false,
     "start_time": "2023-06-04T07:34:54.229310",
     "status": "completed"
    },
    "tags": []
   },
   "outputs": [
    {
     "name": "stderr",
     "output_type": "stream",
     "text": [
      "/tmp/ipykernel_20/3038007691.py:1: UserWarning:\n",
      "\n",
      "\n",
      "\n",
      "`distplot` is a deprecated function and will be removed in seaborn v0.14.0.\n",
      "\n",
      "Please adapt your code to use either `displot` (a figure-level function with\n",
      "similar flexibility) or `histplot` (an axes-level function for histograms).\n",
      "\n",
      "For a guide to updating your code to use the new functions, please see\n",
      "https://gist.github.com/mwaskom/de44147ed2974457ad6372750bbe5751\n",
      "\n",
      "\n"
     ]
    },
    {
     "data": {
      "text/plain": [
       "<Axes: xlabel='Price_euros', ylabel='Density'>"
      ]
     },
     "execution_count": 75,
     "metadata": {},
     "output_type": "execute_result"
    },
    {
     "data": {
      "image/png": "[encoded data removed]",
      "text/plain": [
       "<Figure size 640x480 with 1 Axes>"
      ]
     },
     "metadata": {},
     "output_type": "display_data"
    }
   ],
   "source": [
    "sns.distplot(np.log(df['Price_euros']))"
   ]
  },
  {
   "cell_type": "code",
   "execution_count": 76,
   "id": "052cbce6",
   "metadata": {
    "execution": {
     "iopub.execute_input": "2023-06-04T07:34:54.576492Z",
     "iopub.status.busy": "2023-06-04T07:34:54.576085Z",
     "iopub.status.idle": "2023-06-04T07:34:54.582357Z",
     "shell.execute_reply": "2023-06-04T07:34:54.581131Z"
    },
    "papermill": {
     "duration": 0.040222,
     "end_time": "2023-06-04T07:34:54.584231",
     "exception": false,
     "start_time": "2023-06-04T07:34:54.544009",
     "status": "completed"
    },
    "tags": []
   },
   "outputs": [],
   "source": [
    "X = df.drop(columns=['Price_euros'])\n",
    "y = np.log(df['Price_euros'])"
   ]
  },
  {
   "cell_type": "code",
   "execution_count": 77,
   "id": "90e412b1",
   "metadata": {
    "execution": {
     "iopub.execute_input": "2023-06-04T07:34:54.646670Z",
     "iopub.status.busy": "2023-06-04T07:34:54.646304Z",
     "iopub.status.idle": "2023-06-04T07:34:54.668088Z",
     "shell.execute_reply": "2023-06-04T07:34:54.666877Z"
    },
    "papermill": {
     "duration": 0.056803,
     "end_time": "2023-06-04T07:34:54.670707",
     "exception": false,
     "start_time": "2023-06-04T07:34:54.613904",
     "status": "completed"
    },
    "tags": []
   },
   "outputs": [
    {
     "data": {
      "text/html": [
       "<div>\n",
       "<style scoped>\n",
       "    .dataframe tbody tr th:only-of-type {\n",
       "        vertical-align: middle;\n",
       "    }\n",
       "\n",
       "    .dataframe tbody tr th {\n",
       "        vertical-align: top;\n",
       "    }\n",
       "\n",
       "    .dataframe thead th {\n",
       "        text-align: right;\n",
       "    }\n",
       "</style>\n",
       "<table border=\"1\" class=\"dataframe\">\n",
       "  <thead>\n",
       "    <tr style=\"text-align: right;\">\n",
       "      <th></th>\n",
       "      <th>Company</th>\n",
       "      <th>TypeName</th>\n",
       "      <th>Ram</th>\n",
       "      <th>Weight</th>\n",
       "      <th>touch_screen</th>\n",
       "      <th>IPS_display</th>\n",
       "      <th>PPI</th>\n",
       "      <th>CPU</th>\n",
       "      <th>SSD</th>\n",
       "      <th>HDD</th>\n",
       "      <th>GPU_brand</th>\n",
       "      <th>OS</th>\n",
       "    </tr>\n",
       "  </thead>\n",
       "  <tbody>\n",
       "    <tr>\n",
       "      <th>0</th>\n",
       "      <td>Apple</td>\n",
       "      <td>Ultrabook</td>\n",
       "      <td>8</td>\n",
       "      <td>1.37</td>\n",
       "      <td>0</td>\n",
       "      <td>1</td>\n",
       "      <td>226.98</td>\n",
       "      <td>IntelCorei5</td>\n",
       "      <td>128</td>\n",
       "      <td>0</td>\n",
       "      <td>Intel</td>\n",
       "      <td>Mac</td>\n",
       "    </tr>\n",
       "    <tr>\n",
       "      <th>1</th>\n",
       "      <td>Apple</td>\n",
       "      <td>Ultrabook</td>\n",
       "      <td>8</td>\n",
       "      <td>1.34</td>\n",
       "      <td>0</td>\n",
       "      <td>0</td>\n",
       "      <td>127.68</td>\n",
       "      <td>IntelCorei5</td>\n",
       "      <td>0</td>\n",
       "      <td>0</td>\n",
       "      <td>Intel</td>\n",
       "      <td>Mac</td>\n",
       "    </tr>\n",
       "    <tr>\n",
       "      <th>2</th>\n",
       "      <td>HP</td>\n",
       "      <td>Notebook</td>\n",
       "      <td>8</td>\n",
       "      <td>1.86</td>\n",
       "      <td>0</td>\n",
       "      <td>0</td>\n",
       "      <td>141.21</td>\n",
       "      <td>IntelCorei5</td>\n",
       "      <td>256</td>\n",
       "      <td>0</td>\n",
       "      <td>Intel</td>\n",
       "      <td>Other OS</td>\n",
       "    </tr>\n",
       "    <tr>\n",
       "      <th>3</th>\n",
       "      <td>Apple</td>\n",
       "      <td>Ultrabook</td>\n",
       "      <td>16</td>\n",
       "      <td>1.83</td>\n",
       "      <td>0</td>\n",
       "      <td>1</td>\n",
       "      <td>220.53</td>\n",
       "      <td>IntelCorei7</td>\n",
       "      <td>512</td>\n",
       "      <td>0</td>\n",
       "      <td>AMD</td>\n",
       "      <td>Mac</td>\n",
       "    </tr>\n",
       "    <tr>\n",
       "      <th>4</th>\n",
       "      <td>Apple</td>\n",
       "      <td>Ultrabook</td>\n",
       "      <td>8</td>\n",
       "      <td>1.37</td>\n",
       "      <td>0</td>\n",
       "      <td>1</td>\n",
       "      <td>226.98</td>\n",
       "      <td>IntelCorei5</td>\n",
       "      <td>256</td>\n",
       "      <td>0</td>\n",
       "      <td>Intel</td>\n",
       "      <td>Mac</td>\n",
       "    </tr>\n",
       "    <tr>\n",
       "      <th>...</th>\n",
       "      <td>...</td>\n",
       "      <td>...</td>\n",
       "      <td>...</td>\n",
       "      <td>...</td>\n",
       "      <td>...</td>\n",
       "      <td>...</td>\n",
       "      <td>...</td>\n",
       "      <td>...</td>\n",
       "      <td>...</td>\n",
       "      <td>...</td>\n",
       "      <td>...</td>\n",
       "      <td>...</td>\n",
       "    </tr>\n",
       "    <tr>\n",
       "      <th>1298</th>\n",
       "      <td>Lenovo</td>\n",
       "      <td>2 in 1 Convertible</td>\n",
       "      <td>4</td>\n",
       "      <td>1.80</td>\n",
       "      <td>1</td>\n",
       "      <td>1</td>\n",
       "      <td>157.35</td>\n",
       "      <td>IntelCorei7</td>\n",
       "      <td>128</td>\n",
       "      <td>0</td>\n",
       "      <td>Intel</td>\n",
       "      <td>Windows</td>\n",
       "    </tr>\n",
       "    <tr>\n",
       "      <th>1299</th>\n",
       "      <td>Lenovo</td>\n",
       "      <td>2 in 1 Convertible</td>\n",
       "      <td>16</td>\n",
       "      <td>1.30</td>\n",
       "      <td>1</td>\n",
       "      <td>1</td>\n",
       "      <td>276.05</td>\n",
       "      <td>IntelCorei7</td>\n",
       "      <td>512</td>\n",
       "      <td>0</td>\n",
       "      <td>Intel</td>\n",
       "      <td>Windows</td>\n",
       "    </tr>\n",
       "    <tr>\n",
       "      <th>1300</th>\n",
       "      <td>Lenovo</td>\n",
       "      <td>Notebook</td>\n",
       "      <td>2</td>\n",
       "      <td>1.50</td>\n",
       "      <td>0</td>\n",
       "      <td>0</td>\n",
       "      <td>111.94</td>\n",
       "      <td>Samsung Processor</td>\n",
       "      <td>0</td>\n",
       "      <td>0</td>\n",
       "      <td>Intel</td>\n",
       "      <td>Windows</td>\n",
       "    </tr>\n",
       "    <tr>\n",
       "      <th>1301</th>\n",
       "      <td>HP</td>\n",
       "      <td>Notebook</td>\n",
       "      <td>6</td>\n",
       "      <td>2.19</td>\n",
       "      <td>0</td>\n",
       "      <td>0</td>\n",
       "      <td>100.45</td>\n",
       "      <td>IntelCorei7</td>\n",
       "      <td>0</td>\n",
       "      <td>1000</td>\n",
       "      <td>AMD</td>\n",
       "      <td>Windows</td>\n",
       "    </tr>\n",
       "    <tr>\n",
       "      <th>1302</th>\n",
       "      <td>Asus</td>\n",
       "      <td>Notebook</td>\n",
       "      <td>4</td>\n",
       "      <td>2.20</td>\n",
       "      <td>0</td>\n",
       "      <td>0</td>\n",
       "      <td>100.45</td>\n",
       "      <td>Samsung Processor</td>\n",
       "      <td>0</td>\n",
       "      <td>500</td>\n",
       "      <td>Intel</td>\n",
       "      <td>Windows</td>\n",
       "    </tr>\n",
       "  </tbody>\n",
       "</table>\n",
       "<p>1302 rows × 12 columns</p>\n",
       "</div>"
      ],
      "text/plain": [
       "     Company            TypeName  Ram  Weight  touch_screen  IPS_display  \\\n",
       "0      Apple           Ultrabook    8    1.37             0            1   \n",
       "1      Apple           Ultrabook    8    1.34             0            0   \n",
       "2         HP            Notebook    8    1.86             0            0   \n",
       "3      Apple           Ultrabook   16    1.83             0            1   \n",
       "4      Apple           Ultrabook    8    1.37             0            1   \n",
       "...      ...                 ...  ...     ...           ...          ...   \n",
       "1298  Lenovo  2 in 1 Convertible    4    1.80             1            1   \n",
       "1299  Lenovo  2 in 1 Convertible   16    1.30             1            1   \n",
       "1300  Lenovo            Notebook    2    1.50             0            0   \n",
       "1301      HP            Notebook    6    2.19             0            0   \n",
       "1302    Asus            Notebook    4    2.20             0            0   \n",
       "\n",
       "         PPI                CPU  SSD   HDD GPU_brand        OS  \n",
       "0     226.98        IntelCorei5  128     0     Intel       Mac  \n",
       "1     127.68        IntelCorei5    0     0     Intel       Mac  \n",
       "2     141.21        IntelCorei5  256     0     Intel  Other OS  \n",
       "3     220.53        IntelCorei7  512     0       AMD       Mac  \n",
       "4     226.98        IntelCorei5  256     0     Intel       Mac  \n",
       "...      ...                ...  ...   ...       ...       ...  \n",
       "1298  157.35        IntelCorei7  128     0     Intel   Windows  \n",
       "1299  276.05        IntelCorei7  512     0     Intel   Windows  \n",
       "1300  111.94  Samsung Processor    0     0     Intel   Windows  \n",
       "1301  100.45        IntelCorei7    0  1000       AMD   Windows  \n",
       "1302  100.45  Samsung Processor    0   500     Intel   Windows  \n",
       "\n",
       "[1302 rows x 12 columns]"
      ]
     },
     "execution_count": 77,
     "metadata": {},
     "output_type": "execute_result"
    }
   ],
   "source": [
    "X"
   ]
  },
  {
   "cell_type": "code",
   "execution_count": 78,
   "id": "165cb465",
   "metadata": {
    "execution": {
     "iopub.execute_input": "2023-06-04T07:34:54.734489Z",
     "iopub.status.busy": "2023-06-04T07:34:54.734170Z",
     "iopub.status.idle": "2023-06-04T07:34:54.741052Z",
     "shell.execute_reply": "2023-06-04T07:34:54.740210Z"
    },
    "papermill": {
     "duration": 0.041457,
     "end_time": "2023-06-04T07:34:54.742741",
     "exception": false,
     "start_time": "2023-06-04T07:34:54.701284",
     "status": "completed"
    },
    "tags": []
   },
   "outputs": [
    {
     "data": {
      "text/plain": [
       "0       7.200194\n",
       "1       6.801216\n",
       "2       6.354370\n",
       "3       7.838915\n",
       "4       7.497540\n",
       "          ...   \n",
       "1298    6.458338\n",
       "1299    7.312553\n",
       "1300    5.433722\n",
       "1301    6.638568\n",
       "1302    5.910797\n",
       "Name: Price_euros, Length: 1302, dtype: float64"
      ]
     },
     "execution_count": 78,
     "metadata": {},
     "output_type": "execute_result"
    }
   ],
   "source": [
    "y"
   ]
  },
  {
   "cell_type": "markdown",
   "id": "3c73e31d",
   "metadata": {
    "papermill": {
     "duration": 0.029551,
     "end_time": "2023-06-04T07:34:54.802772",
     "exception": false,
     "start_time": "2023-06-04T07:34:54.773221",
     "status": "completed"
    },
    "tags": []
   },
   "source": [
    "# Train_test_Split"
   ]
  },
  {
   "cell_type": "code",
   "execution_count": 79,
   "id": "1c7089d4",
   "metadata": {
    "execution": {
     "iopub.execute_input": "2023-06-04T07:34:54.864230Z",
     "iopub.status.busy": "2023-06-04T07:34:54.863881Z",
     "iopub.status.idle": "2023-06-04T07:34:55.135559Z",
     "shell.execute_reply": "2023-06-04T07:34:55.134425Z"
    },
    "papermill": {
     "duration": 0.305549,
     "end_time": "2023-06-04T07:34:55.138166",
     "exception": false,
     "start_time": "2023-06-04T07:34:54.832617",
     "status": "completed"
    },
    "tags": []
   },
   "outputs": [],
   "source": [
    "from sklearn.model_selection import train_test_split\n",
    "X_train,X_test, y_train,y_test= train_test_split(X,y, test_size=0.15,random_state=2)"
   ]
  },
  {
   "cell_type": "code",
   "execution_count": 80,
   "id": "df1f437f",
   "metadata": {
    "execution": {
     "iopub.execute_input": "2023-06-04T07:34:55.200692Z",
     "iopub.status.busy": "2023-06-04T07:34:55.200363Z",
     "iopub.status.idle": "2023-06-04T07:34:55.219093Z",
     "shell.execute_reply": "2023-06-04T07:34:55.217773Z"
    },
    "papermill": {
     "duration": 0.052218,
     "end_time": "2023-06-04T07:34:55.221040",
     "exception": false,
     "start_time": "2023-06-04T07:34:55.168822",
     "status": "completed"
    },
    "tags": []
   },
   "outputs": [
    {
     "data": {
      "text/html": [
       "<div>\n",
       "<style scoped>\n",
       "    .dataframe tbody tr th:only-of-type {\n",
       "        vertical-align: middle;\n",
       "    }\n",
       "\n",
       "    .dataframe tbody tr th {\n",
       "        vertical-align: top;\n",
       "    }\n",
       "\n",
       "    .dataframe thead th {\n",
       "        text-align: right;\n",
       "    }\n",
       "</style>\n",
       "<table border=\"1\" class=\"dataframe\">\n",
       "  <thead>\n",
       "    <tr style=\"text-align: right;\">\n",
       "      <th></th>\n",
       "      <th>Company</th>\n",
       "      <th>TypeName</th>\n",
       "      <th>Ram</th>\n",
       "      <th>Weight</th>\n",
       "      <th>touch_screen</th>\n",
       "      <th>IPS_display</th>\n",
       "      <th>PPI</th>\n",
       "      <th>CPU</th>\n",
       "      <th>SSD</th>\n",
       "      <th>HDD</th>\n",
       "      <th>GPU_brand</th>\n",
       "      <th>OS</th>\n",
       "    </tr>\n",
       "  </thead>\n",
       "  <tbody>\n",
       "    <tr>\n",
       "      <th>183</th>\n",
       "      <td>Toshiba</td>\n",
       "      <td>Notebook</td>\n",
       "      <td>8</td>\n",
       "      <td>2.00</td>\n",
       "      <td>0</td>\n",
       "      <td>0</td>\n",
       "      <td>100.45</td>\n",
       "      <td>IntelCorei5</td>\n",
       "      <td>128</td>\n",
       "      <td>0</td>\n",
       "      <td>Intel</td>\n",
       "      <td>Windows</td>\n",
       "    </tr>\n",
       "    <tr>\n",
       "      <th>1141</th>\n",
       "      <td>MSI</td>\n",
       "      <td>Gaming</td>\n",
       "      <td>8</td>\n",
       "      <td>2.40</td>\n",
       "      <td>0</td>\n",
       "      <td>0</td>\n",
       "      <td>141.21</td>\n",
       "      <td>IntelCorei7</td>\n",
       "      <td>128</td>\n",
       "      <td>1000</td>\n",
       "      <td>Nvidia</td>\n",
       "      <td>Windows</td>\n",
       "    </tr>\n",
       "    <tr>\n",
       "      <th>1049</th>\n",
       "      <td>Asus</td>\n",
       "      <td>Netbook</td>\n",
       "      <td>4</td>\n",
       "      <td>1.20</td>\n",
       "      <td>0</td>\n",
       "      <td>0</td>\n",
       "      <td>135.09</td>\n",
       "      <td>Samsung Processor</td>\n",
       "      <td>0</td>\n",
       "      <td>0</td>\n",
       "      <td>Intel</td>\n",
       "      <td>Other OS</td>\n",
       "    </tr>\n",
       "    <tr>\n",
       "      <th>1020</th>\n",
       "      <td>Dell</td>\n",
       "      <td>2 in 1 Convertible</td>\n",
       "      <td>4</td>\n",
       "      <td>2.08</td>\n",
       "      <td>1</td>\n",
       "      <td>1</td>\n",
       "      <td>141.21</td>\n",
       "      <td>IntelCorei3</td>\n",
       "      <td>0</td>\n",
       "      <td>1000</td>\n",
       "      <td>Intel</td>\n",
       "      <td>Windows</td>\n",
       "    </tr>\n",
       "    <tr>\n",
       "      <th>878</th>\n",
       "      <td>Dell</td>\n",
       "      <td>Notebook</td>\n",
       "      <td>4</td>\n",
       "      <td>2.18</td>\n",
       "      <td>0</td>\n",
       "      <td>0</td>\n",
       "      <td>141.21</td>\n",
       "      <td>IntelCorei5</td>\n",
       "      <td>128</td>\n",
       "      <td>1000</td>\n",
       "      <td>Nvidia</td>\n",
       "      <td>Windows</td>\n",
       "    </tr>\n",
       "    <tr>\n",
       "      <th>...</th>\n",
       "      <td>...</td>\n",
       "      <td>...</td>\n",
       "      <td>...</td>\n",
       "      <td>...</td>\n",
       "      <td>...</td>\n",
       "      <td>...</td>\n",
       "      <td>...</td>\n",
       "      <td>...</td>\n",
       "      <td>...</td>\n",
       "      <td>...</td>\n",
       "      <td>...</td>\n",
       "      <td>...</td>\n",
       "    </tr>\n",
       "    <tr>\n",
       "      <th>466</th>\n",
       "      <td>Acer</td>\n",
       "      <td>Notebook</td>\n",
       "      <td>4</td>\n",
       "      <td>2.20</td>\n",
       "      <td>0</td>\n",
       "      <td>0</td>\n",
       "      <td>100.45</td>\n",
       "      <td>IntelCorei3</td>\n",
       "      <td>0</td>\n",
       "      <td>500</td>\n",
       "      <td>Nvidia</td>\n",
       "      <td>Windows</td>\n",
       "    </tr>\n",
       "    <tr>\n",
       "      <th>299</th>\n",
       "      <td>Asus</td>\n",
       "      <td>Ultrabook</td>\n",
       "      <td>16</td>\n",
       "      <td>1.63</td>\n",
       "      <td>0</td>\n",
       "      <td>0</td>\n",
       "      <td>141.21</td>\n",
       "      <td>IntelCorei7</td>\n",
       "      <td>512</td>\n",
       "      <td>0</td>\n",
       "      <td>Nvidia</td>\n",
       "      <td>Windows</td>\n",
       "    </tr>\n",
       "    <tr>\n",
       "      <th>493</th>\n",
       "      <td>Acer</td>\n",
       "      <td>Notebook</td>\n",
       "      <td>8</td>\n",
       "      <td>2.20</td>\n",
       "      <td>0</td>\n",
       "      <td>0</td>\n",
       "      <td>100.45</td>\n",
       "      <td>Samsung Processor</td>\n",
       "      <td>0</td>\n",
       "      <td>1000</td>\n",
       "      <td>AMD</td>\n",
       "      <td>Windows</td>\n",
       "    </tr>\n",
       "    <tr>\n",
       "      <th>527</th>\n",
       "      <td>Lenovo</td>\n",
       "      <td>Notebook</td>\n",
       "      <td>8</td>\n",
       "      <td>2.20</td>\n",
       "      <td>0</td>\n",
       "      <td>0</td>\n",
       "      <td>100.45</td>\n",
       "      <td>IntelCorei3</td>\n",
       "      <td>0</td>\n",
       "      <td>2000</td>\n",
       "      <td>Nvidia</td>\n",
       "      <td>Other OS</td>\n",
       "    </tr>\n",
       "    <tr>\n",
       "      <th>1193</th>\n",
       "      <td>Apple</td>\n",
       "      <td>Ultrabook</td>\n",
       "      <td>8</td>\n",
       "      <td>0.92</td>\n",
       "      <td>0</td>\n",
       "      <td>1</td>\n",
       "      <td>226.42</td>\n",
       "      <td>Samsung Processor</td>\n",
       "      <td>0</td>\n",
       "      <td>0</td>\n",
       "      <td>Intel</td>\n",
       "      <td>Mac</td>\n",
       "    </tr>\n",
       "  </tbody>\n",
       "</table>\n",
       "<p>1106 rows × 12 columns</p>\n",
       "</div>"
      ],
      "text/plain": [
       "      Company            TypeName  Ram  Weight  touch_screen  IPS_display  \\\n",
       "183   Toshiba            Notebook    8    2.00             0            0   \n",
       "1141      MSI              Gaming    8    2.40             0            0   \n",
       "1049     Asus             Netbook    4    1.20             0            0   \n",
       "1020     Dell  2 in 1 Convertible    4    2.08             1            1   \n",
       "878      Dell            Notebook    4    2.18             0            0   \n",
       "...       ...                 ...  ...     ...           ...          ...   \n",
       "466      Acer            Notebook    4    2.20             0            0   \n",
       "299      Asus           Ultrabook   16    1.63             0            0   \n",
       "493      Acer            Notebook    8    2.20             0            0   \n",
       "527    Lenovo            Notebook    8    2.20             0            0   \n",
       "1193    Apple           Ultrabook    8    0.92             0            1   \n",
       "\n",
       "         PPI                CPU  SSD   HDD GPU_brand        OS  \n",
       "183   100.45        IntelCorei5  128     0     Intel   Windows  \n",
       "1141  141.21        IntelCorei7  128  1000    Nvidia   Windows  \n",
       "1049  135.09  Samsung Processor    0     0     Intel  Other OS  \n",
       "1020  141.21        IntelCorei3    0  1000     Intel   Windows  \n",
       "878   141.21        IntelCorei5  128  1000    Nvidia   Windows  \n",
       "...      ...                ...  ...   ...       ...       ...  \n",
       "466   100.45        IntelCorei3    0   500    Nvidia   Windows  \n",
       "299   141.21        IntelCorei7  512     0    Nvidia   Windows  \n",
       "493   100.45  Samsung Processor    0  1000       AMD   Windows  \n",
       "527   100.45        IntelCorei3    0  2000    Nvidia  Other OS  \n",
       "1193  226.42  Samsung Processor    0     0     Intel       Mac  \n",
       "\n",
       "[1106 rows x 12 columns]"
      ]
     },
     "execution_count": 80,
     "metadata": {},
     "output_type": "execute_result"
    }
   ],
   "source": [
    "X_train"
   ]
  },
  {
   "cell_type": "markdown",
   "id": "22bfea2f",
   "metadata": {
    "papermill": {
     "duration": 0.030909,
     "end_time": "2023-06-04T07:34:55.282253",
     "exception": false,
     "start_time": "2023-06-04T07:34:55.251344",
     "status": "completed"
    },
    "tags": []
   },
   "source": [
    "# Random Forest"
   ]
  },
  {
   "cell_type": "code",
   "execution_count": 81,
   "id": "fee5f908",
   "metadata": {
    "execution": {
     "iopub.execute_input": "2023-06-04T07:34:55.345397Z",
     "iopub.status.busy": "2023-06-04T07:34:55.345021Z",
     "iopub.status.idle": "2023-06-04T07:34:55.999393Z",
     "shell.execute_reply": "2023-06-04T07:34:55.998073Z"
    },
    "papermill": {
     "duration": 0.688488,
     "end_time": "2023-06-04T07:34:56.001578",
     "exception": false,
     "start_time": "2023-06-04T07:34:55.313090",
     "status": "completed"
    },
    "tags": []
   },
   "outputs": [
    {
     "name": "stderr",
     "output_type": "stream",
     "text": [
      "/opt/conda/lib/python3.10/site-packages/sklearn/preprocessing/_encoders.py:868: FutureWarning:\n",
      "\n",
      "`sparse` was renamed to `sparse_output` in version 1.2 and will be removed in 1.4. `sparse_output` is ignored unless you leave `sparse` to its default value.\n",
      "\n"
     ]
    },
    {
     "name": "stdout",
     "output_type": "stream",
     "text": [
      "R2 score 0.893361392771215\n",
      "MAE 0.15468752357971255\n"
     ]
    }
   ],
   "source": [
    "from sklearn.compose import ColumnTransformer\n",
    "from sklearn.pipeline import Pipeline\n",
    "from sklearn.preprocessing import OneHotEncoder\n",
    "from sklearn.metrics import r2_score,mean_absolute_error\n",
    "from sklearn.ensemble import RandomForestRegressor\n",
    "\n",
    "\n",
    "step1 = ColumnTransformer(transformers=[\n",
    "    ('col_tnf',OneHotEncoder(sparse=False,drop='first'),[0,1,7,10,11])\n",
    "],remainder='passthrough')\n",
    "\n",
    "step2 = RandomForestRegressor(n_estimators=100,\n",
    "                              random_state=3,\n",
    "                              max_samples=0.5,\n",
    "                              max_features=0.75,\n",
    "                              max_depth=15)\n",
    "\n",
    "pipe = Pipeline([\n",
    "    ('step1',step1),\n",
    "    ('step2',step2)\n",
    "])\n",
    "\n",
    "pipe.fit(X_train,y_train)\n",
    "\n",
    "y_pred = pipe.predict(X_test)\n",
    "\n",
    "print('R2 score',r2_score(y_test,y_pred))\n",
    "print('MAE',mean_absolute_error(y_test,y_pred))"
   ]
  },
  {
   "cell_type": "markdown",
   "id": "bcdb98ac",
   "metadata": {
    "papermill": {
     "duration": 0.030288,
     "end_time": "2023-06-04T07:34:56.062515",
     "exception": false,
     "start_time": "2023-06-04T07:34:56.032227",
     "status": "completed"
    },
    "tags": []
   },
   "source": [
    "**Random forest giving best R2 Score**"
   ]
  },
  {
   "cell_type": "code",
   "execution_count": null,
   "id": "396bf0ca",
   "metadata": {
    "papermill": {
     "duration": 0.029986,
     "end_time": "2023-06-04T07:34:56.122872",
     "exception": false,
     "start_time": "2023-06-04T07:34:56.092886",
     "status": "completed"
    },
    "tags": []
   },
   "outputs": [],
   "source": []
  }
 ],
 "metadata": {
  "kernelspec": {
   "display_name": "Python 3",
   "language": "python",
   "name": "python3"
  },
  "language_info": {
   "codemirror_mode": {
    "name": "ipython",
    "version": 3
   },
   "file_extension": ".py",
   "mimetype": "text/x-python",
   "name": "python",
   "nbconvert_exporter": "python",
   "pygments_lexer": "ipython3",
   "version": "3.10.10"
  },
  "papermill": {
   "default_parameters": {},
   "duration": 27.798784,
   "end_time": "2023-06-04T07:34:57.275126",
   "environment_variables": {},
   "exception": null,
   "input_path": "__notebook__.ipynb",
   "output_path": "__notebook__.ipynb",
   "parameters": {},
   "start_time": "2023-06-04T07:34:29.476342",
   "version": "2.4.0"
  }
 },
 "nbformat": 4,
 "nbformat_minor": 5
}
